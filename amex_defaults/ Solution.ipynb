{
 "cells": [
  {
   "cell_type": "markdown",
   "metadata": {},
   "source": [
    "Stress test:\n",
    "- There are 5531452 rows in the csv file in total (including header)\n",
    "- It takes 3m31s to read train_data.csv"
   ]
  },
  {
   "cell_type": "code",
   "execution_count": 41,
   "metadata": {},
   "outputs": [
    {
     "name": "stdout",
     "output_type": "stream",
     "text": [
      "458914\n"
     ]
    }
   ],
   "source": [
    "# N = sum(1 for line in open('data/train_data.csv'))\n",
    "# N\n",
    "# print(sum(1 for line in open('data/train_labels.csv')))"
   ]
  },
  {
   "cell_type": "code",
   "execution_count": 39,
   "metadata": {},
   "outputs": [],
   "source": [
    "# df = pd.read_csv('data/train_data.csv')\n",
    "# labels = pd.read_csv('data/train_labels.csv')"
   ]
  },
  {
   "cell_type": "markdown",
   "metadata": {},
   "source": [
    "## Setup"
   ]
  },
  {
   "cell_type": "code",
   "execution_count": 1,
   "metadata": {},
   "outputs": [],
   "source": [
    "import pandas as pd\n",
    "import numpy as np\n",
    "import seaborn as sns\n",
    "features = pd.read_csv('data/train_data.csv')\n",
    "labels = pd.read_csv('data/train_labels.csv')"
   ]
  },
  {
   "cell_type": "markdown",
   "metadata": {},
   "source": [
    "#### Categorize columns by type: "
   ]
  },
  {
   "cell_type": "code",
   "execution_count": 2,
   "metadata": {},
   "outputs": [
    {
     "data": {
      "text/plain": [
       "array([dtype('O'), dtype('float64'), dtype('int64')], dtype=object)"
      ]
     },
     "execution_count": 2,
     "metadata": {},
     "output_type": "execute_result"
    }
   ],
   "source": [
    "features.dtypes.unique()"
   ]
  },
  {
   "cell_type": "code",
   "execution_count": 3,
   "metadata": {},
   "outputs": [
    {
     "data": {
      "text/plain": [
       "Index(['customer_ID', 'S_2', 'D_63', 'D_64'], dtype='object')"
      ]
     },
     "execution_count": 3,
     "metadata": {},
     "output_type": "execute_result"
    }
   ],
   "source": [
    "obj_cols = features.select_dtypes(include=['O']).columns\n",
    "obj_cols"
   ]
  },
  {
   "cell_type": "code",
   "execution_count": 4,
   "metadata": {},
   "outputs": [
    {
     "data": {
      "text/plain": [
       "Index(['B_31'], dtype='object')"
      ]
     },
     "execution_count": 4,
     "metadata": {},
     "output_type": "execute_result"
    }
   ],
   "source": [
    "int_cols = features.select_dtypes(include=['int64']).columns\n",
    "int_cols"
   ]
  },
  {
   "cell_type": "code",
   "execution_count": 5,
   "metadata": {},
   "outputs": [
    {
     "name": "stdout",
     "output_type": "stream",
     "text": [
      "B_31 [1 0]\n",
      "D_63 ['CR' 'CO' 'CL' 'XZ' 'XM' 'XL']\n",
      "D_64 ['O' 'R' nan 'U' '-1']\n"
     ]
    }
   ],
   "source": [
    "print('B_31', features.B_31.unique())\n",
    "for col in obj_cols.drop(['customer_ID', 'S_2']): # S_2 is a date\n",
    "    print(col, features[col].unique())"
   ]
  },
  {
   "cell_type": "code",
   "execution_count": 6,
   "metadata": {},
   "outputs": [
    {
     "data": {
      "text/plain": [
       "Index(['P_2', 'D_39', 'B_1', 'B_2', 'R_1', 'S_3', 'D_41', 'B_3', 'D_42',\n",
       "       'D_43',\n",
       "       ...\n",
       "       'D_136', 'D_137', 'D_138', 'D_139', 'D_140', 'D_141', 'D_142', 'D_143',\n",
       "       'D_144', 'D_145'],\n",
       "      dtype='object', length=185)"
      ]
     },
     "execution_count": 6,
     "metadata": {},
     "output_type": "execute_result"
    }
   ],
   "source": [
    "float_cols = features.select_dtypes(include=['float64']).columns\n",
    "float_cols"
   ]
  },
  {
   "cell_type": "code",
   "execution_count": 7,
   "metadata": {},
   "outputs": [
    {
     "data": {
      "text/plain": [
       "122"
      ]
     },
     "execution_count": 7,
     "metadata": {},
     "output_type": "execute_result"
    }
   ],
   "source": [
    "nullcols = []\n",
    "for col in features:\n",
    "    if features[col].isnull().values.any():\n",
    "        nullcols.append(col)\n",
    "len(nullcols)"
   ]
  },
  {
   "cell_type": "markdown",
   "metadata": {},
   "source": [
    "#### Generate distribution histograms of the columns:"
   ]
  },
  {
   "cell_type": "code",
   "execution_count": 8,
   "metadata": {},
   "outputs": [
    {
     "data": {
      "text/plain": [
       "'\\n# features.hist(bins=20, figsize=(60, 40))\\n'"
      ]
     },
     "execution_count": 8,
     "metadata": {},
     "output_type": "execute_result"
    }
   ],
   "source": [
    "\"\"\"\n",
    "# features.hist(bins=20, figsize=(60, 40))\n",
    "\"\"\""
   ]
  },
  {
   "cell_type": "markdown",
   "metadata": {},
   "source": [
    "## Preprocessing"
   ]
  },
  {
   "cell_type": "markdown",
   "metadata": {},
   "source": [
    "Define some useful functions:"
   ]
  },
  {
   "cell_type": "code",
   "execution_count": 9,
   "metadata": {},
   "outputs": [],
   "source": [
    "def get_sample(size):\n",
    "    prng = np.random.RandomState(0)\n",
    "    g = features.groupby('customer_ID')\n",
    "\n",
    "    portion = features[g.ngroup().isin(prng.choice(g.ngroups, size, replace=False))]\n",
    "    return portion\n",
    "\n",
    "# sample1 = get_sample(g.ngroups//100)\n",
    "sample2 = get_sample(1000)"
   ]
  },
  {
   "cell_type": "code",
   "execution_count": 10,
   "metadata": {},
   "outputs": [],
   "source": [
    "def get_y(ids):\n",
    "    label_lookup = dict()\n",
    "    for id in ids:\n",
    "        if id not in label_lookup:\n",
    "            target = labels.loc[labels.customer_ID == id, 'target']\n",
    "            label_lookup[id] = target.iloc[0]\n",
    "\n",
    "    return pd.Series([label_lookup[id] for id in ids], index=ids)\n",
    "    # for id in features.customer_ID.unique():\n",
    "    #     if len(features.loc[features.customer_ID == id, 'target'].unique()) != 1:\n",
    "    #         print(features.loc[features.customer_ID == id])\n",
    "    \n",
    "# sample2y = get_y(sample2['customer_ID'])\n",
    "# sample2y"
   ]
  },
  {
   "cell_type": "code",
   "execution_count": 11,
   "metadata": {},
   "outputs": [
    {
     "data": {
      "text/plain": [
       "\"\\nfrom sklearn.impute import SimpleImputer\\nsample2copy = sample2.copy()\\nsample2copy.index = sample2copy['customer_ID']\\nfitted_imputers = sample2copy.groupby(sample2copy.index).apply(lambda df: SimpleImputer(strategy='most_frequent').fit(df[['D_64', 'D_63']]))\\nfitted_imputers = {fitted_imputers.index[i] : fitted_imputers.iloc[i] for i in range(len(fitted_imputers))}\\n\\ntransformed = sample2copy.groupby(sample2copy.index).apply(\\n    lambda df: pd.DataFrame(\\n        fitted_imputers[df.index[0]].transform(df[['D_64', 'D_63']]), \\n    ))\\ntransformed.reset_index()\\ntransformed.index = sample2copy.index\\npd.DataFrame(transformed)\\n# type(fitted_imputers)\\n\\n# imputer = SimpleImputer(strategy='most_frequent').fit(sample2copy[['D_64']])\\n# transformed_column = imputer.transform(sample2copy[['D_64']])\\n# transformed_column\\n\""
      ]
     },
     "execution_count": 11,
     "metadata": {},
     "output_type": "execute_result"
    }
   ],
   "source": [
    "\"\"\"\n",
    "from sklearn.impute import SimpleImputer\n",
    "sample2copy = sample2.copy()\n",
    "sample2copy.index = sample2copy['customer_ID']\n",
    "fitted_imputers = sample2copy.groupby(sample2copy.index).apply(lambda df: SimpleImputer(strategy='most_frequent').fit(df[['D_64', 'D_63']]))\n",
    "fitted_imputers = {fitted_imputers.index[i] : fitted_imputers.iloc[i] for i in range(len(fitted_imputers))}\n",
    "\n",
    "transformed = sample2copy.groupby(sample2copy.index).apply(\n",
    "    lambda df: pd.DataFrame(\n",
    "        fitted_imputers[df.index[0]].transform(df[['D_64', 'D_63']]), \n",
    "    ))\n",
    "transformed.reset_index()\n",
    "transformed.index = sample2copy.index\n",
    "pd.DataFrame(transformed)\n",
    "# type(fitted_imputers)\n",
    "\n",
    "# imputer = SimpleImputer(strategy='most_frequent').fit(sample2copy[['D_64']])\n",
    "# transformed_column = imputer.transform(sample2copy[['D_64']])\n",
    "# transformed_column\n",
    "\"\"\""
   ]
  },
  {
   "cell_type": "markdown",
   "metadata": {},
   "source": [
    "#### Pipeline:\n",
    "- Apply OHE/MEstimate\n",
    "- Combine IDs\n",
    "- Impute missing values\n",
    "- (PCA)\n",
    "- (KMeans)\n",
    "- Train\n",
    "- Predict\n",
    "- Cross validate"
   ]
  },
  {
   "cell_type": "code",
   "execution_count": 12,
   "metadata": {},
   "outputs": [
    {
     "data": {
      "text/plain": [
       "'\\n# class DFTransformer(BaseEstimator, TransformerMixin):\\n#     def __init__(self, cnames)\\n\\n# class IDFolder(BaseEstimator, TransformerMixin):\\n#     def __init__(self, id_name: str):\\n#         self.id_name = id_name\\n#     def fit(self, X, y = None):\\n#         return self\\n#     def transform(self, X, y = None):\\n#         return X.groupby(self.id_name).apply(lambda df: df.mean()).unstack().reset_index()\\n\\n# # class EncoderWrapper(BaseEstimator, TransformerMixin):\\n# #     def __init__(self, encoder):\\n# #         self.encoder = encoder\\n# #     def fit(self, X: np.ndarray, y = None):\\n# #         self.encoder.fit(X, y)\\n# #         return self\\n# #     def transform(self, X: np.ndarray, y = None):\\n# #         encoded_cols = self.encoder.transform(X)\\n# #         encoded_df = pd.DataFrame(encoded_cols)\\n# #         return encoded_df\\n\\n# def column_types(features: pd.DataFrame):\\n#     categoricals = []\\n#     objects = []\\n#     numericals = []\\n#     for cname in features.columns:\\n#         col = features[cname]\\n#         if col.dtype == \\'object\\':\\n#             if col.nunique() < 10:\\n#                 categoricals.append(cname)\\n#             else:\\n#                 objects.append(cname)\\n#         elif col.dtype in [\\'int64\\', \\'float64\\']:\\n#             numericals.append(cname)\\n#         else:\\n#             print(f\"{cname}: no column category matched\")\\n#     return categoricals, numericals, objects\\n\\n# def preprocess(features: pd.DataFrame, y = None):\\n#     categoricals, numericals, objects = column_types(features)\\n    \\n#     # Preprocesses categoricals\\n#     onehot = Pipeline(steps=[\\n#         (\\'imputer\\', SimpleImputer(strategy=\\'most_frequent\\')),\\n#         (\\'onehot\\', OneHotEncoder(handle_unknown=\\'ignore\\', sparse=False))\\n#     ])\\n#     transformers = ColumnTransformer(transformers=[\\n#         (\\'cat\\', onehot, categoricals)\\n#     ], remainder=\\'passthrough\\')\\n    \\n#     encoded_cols = transformers.fit_transform(features)\\n#     df = pd.DataFrame(encoded_cols)\\n#     print(encoded_cols)\\n\\n#     df = df.groupby(\\'customer_ID\\').apply(lambda df: df.mean()).unstack().reset_index()\\n\\n#     return df\\n\\n# # X = sample2.drop(\\'D_64\\', axis=1)\\n# # X = preprocess(X)\\n# # X.head()\\n'"
      ]
     },
     "execution_count": 12,
     "metadata": {},
     "output_type": "execute_result"
    }
   ],
   "source": [
    "from lib2to3.pytree import Base\n",
    "from sklearn.pipeline import Pipeline\n",
    "from sklearn.impute import SimpleImputer\n",
    "from sklearn.compose import ColumnTransformer\n",
    "from sklearn.preprocessing import OneHotEncoder\n",
    "from sklearn.base import BaseEstimator, TransformerMixin\n",
    "from sqlalchemy import Column\n",
    "\n",
    "class ByIndexTransformer(BaseEstimator, TransformerMixin):\n",
    "    def __init__(self, transformer, cnames = None):\n",
    "        self.cnames = cnames\n",
    "        self.transformer = transformer\n",
    "    def fit(self, X: pd.DataFrame, y = None):\n",
    "        self.fitted_transformers = X.groupby(X.index).apply(\n",
    "            lambda df: self.transformer.fit(df if self.cnames == None else df[self.cnames]))\n",
    "        self.fitted_transformers = {self.fitted_transformers.index[i] : self.fitted_transformers.iloc[i] for i in range(len(self.fitted_transformers))}\n",
    "        return self\n",
    "    def transform(self, X: pd.DataFrame, y = None):\n",
    "        transformed = X.groupby(X.index).apply(\n",
    "            lambda df: pd.DataFrame(\n",
    "                self.fitted_transformers[df.index[0]]\n",
    "                .transform(df if self.cnames == None else df[self.cnames])\n",
    "            )\n",
    "        )\n",
    "        transformed.reset_index()\n",
    "        transformed.index = X.index\n",
    "        return transformed\n",
    "        \n",
    "\"\"\"\n",
    "# class DFTransformer(BaseEstimator, TransformerMixin):\n",
    "#     def __init__(self, cnames)\n",
    "\n",
    "# class IDFolder(BaseEstimator, TransformerMixin):\n",
    "#     def __init__(self, id_name: str):\n",
    "#         self.id_name = id_name\n",
    "#     def fit(self, X, y = None):\n",
    "#         return self\n",
    "#     def transform(self, X, y = None):\n",
    "#         return X.groupby(self.id_name).apply(lambda df: df.mean()).unstack().reset_index()\n",
    "\n",
    "# # class EncoderWrapper(BaseEstimator, TransformerMixin):\n",
    "# #     def __init__(self, encoder):\n",
    "# #         self.encoder = encoder\n",
    "# #     def fit(self, X: np.ndarray, y = None):\n",
    "# #         self.encoder.fit(X, y)\n",
    "# #         return self\n",
    "# #     def transform(self, X: np.ndarray, y = None):\n",
    "# #         encoded_cols = self.encoder.transform(X)\n",
    "# #         encoded_df = pd.DataFrame(encoded_cols)\n",
    "# #         return encoded_df\n",
    "\n",
    "# def column_types(features: pd.DataFrame):\n",
    "#     categoricals = []\n",
    "#     objects = []\n",
    "#     numericals = []\n",
    "#     for cname in features.columns:\n",
    "#         col = features[cname]\n",
    "#         if col.dtype == 'object':\n",
    "#             if col.nunique() < 10:\n",
    "#                 categoricals.append(cname)\n",
    "#             else:\n",
    "#                 objects.append(cname)\n",
    "#         elif col.dtype in ['int64', 'float64']:\n",
    "#             numericals.append(cname)\n",
    "#         else:\n",
    "#             print(f\"{cname}: no column category matched\")\n",
    "#     return categoricals, numericals, objects\n",
    "\n",
    "# def preprocess(features: pd.DataFrame, y = None):\n",
    "#     categoricals, numericals, objects = column_types(features)\n",
    "    \n",
    "#     # Preprocesses categoricals\n",
    "#     onehot = Pipeline(steps=[\n",
    "#         ('imputer', SimpleImputer(strategy='most_frequent')),\n",
    "#         ('onehot', OneHotEncoder(handle_unknown='ignore', sparse=False))\n",
    "#     ])\n",
    "#     transformers = ColumnTransformer(transformers=[\n",
    "#         ('cat', onehot, categoricals)\n",
    "#     ], remainder='passthrough')\n",
    "    \n",
    "#     encoded_cols = transformers.fit_transform(features)\n",
    "#     df = pd.DataFrame(encoded_cols)\n",
    "#     print(encoded_cols)\n",
    "\n",
    "#     df = df.groupby('customer_ID').apply(lambda df: df.mean()).unstack().reset_index()\n",
    "\n",
    "#     return df\n",
    "\n",
    "# # X = sample2.drop('D_64', axis=1)\n",
    "# # X = preprocess(X)\n",
    "# # X.head()\n",
    "\"\"\""
   ]
  },
  {
   "cell_type": "markdown",
   "metadata": {},
   "source": [
    "Data Imputation:"
   ]
  },
  {
   "cell_type": "code",
   "execution_count": 13,
   "metadata": {},
   "outputs": [
    {
     "data": {
      "text/html": [
       "<div>\n",
       "<style scoped>\n",
       "    .dataframe tbody tr th:only-of-type {\n",
       "        vertical-align: middle;\n",
       "    }\n",
       "\n",
       "    .dataframe tbody tr th {\n",
       "        vertical-align: top;\n",
       "    }\n",
       "\n",
       "    .dataframe thead th {\n",
       "        text-align: right;\n",
       "    }\n",
       "</style>\n",
       "<table border=\"1\" class=\"dataframe\">\n",
       "  <thead>\n",
       "    <tr style=\"text-align: right;\">\n",
       "      <th></th>\n",
       "      <th>P_2</th>\n",
       "      <th>D_39</th>\n",
       "      <th>B_1</th>\n",
       "      <th>B_2</th>\n",
       "      <th>R_1</th>\n",
       "      <th>S_3</th>\n",
       "      <th>D_41</th>\n",
       "      <th>B_3</th>\n",
       "      <th>D_42</th>\n",
       "      <th>D_43</th>\n",
       "      <th>...</th>\n",
       "      <th>D_139</th>\n",
       "      <th>D_140</th>\n",
       "      <th>D_141</th>\n",
       "      <th>D_142</th>\n",
       "      <th>D_143</th>\n",
       "      <th>D_144</th>\n",
       "      <th>D_145</th>\n",
       "      <th>D_63</th>\n",
       "      <th>D_64</th>\n",
       "      <th>B_31</th>\n",
       "    </tr>\n",
       "    <tr>\n",
       "      <th>customer_ID</th>\n",
       "      <th></th>\n",
       "      <th></th>\n",
       "      <th></th>\n",
       "      <th></th>\n",
       "      <th></th>\n",
       "      <th></th>\n",
       "      <th></th>\n",
       "      <th></th>\n",
       "      <th></th>\n",
       "      <th></th>\n",
       "      <th></th>\n",
       "      <th></th>\n",
       "      <th></th>\n",
       "      <th></th>\n",
       "      <th></th>\n",
       "      <th></th>\n",
       "      <th></th>\n",
       "      <th></th>\n",
       "      <th></th>\n",
       "      <th></th>\n",
       "      <th></th>\n",
       "    </tr>\n",
       "  </thead>\n",
       "  <tbody>\n",
       "    <tr>\n",
       "      <th>001404030d4c78b76bf02e809387611bdf6b708a42c5890ecc057970b51bff87</th>\n",
       "      <td>0.523405</td>\n",
       "      <td>0.008376</td>\n",
       "      <td>0.006680</td>\n",
       "      <td>1.000940</td>\n",
       "      <td>0.003428</td>\n",
       "      <td>0.401315</td>\n",
       "      <td>0.007045</td>\n",
       "      <td>0.009355</td>\n",
       "      <td>0.183422</td>\n",
       "      <td>0.355097</td>\n",
       "      <td>...</td>\n",
       "      <td>0.008365</td>\n",
       "      <td>0.008801</td>\n",
       "      <td>0.001185</td>\n",
       "      <td>0.399193</td>\n",
       "      <td>0.006018</td>\n",
       "      <td>0.009393</td>\n",
       "      <td>0.003585</td>\n",
       "      <td>0</td>\n",
       "      <td>0</td>\n",
       "      <td>1</td>\n",
       "    </tr>\n",
       "    <tr>\n",
       "      <th>001404030d4c78b76bf02e809387611bdf6b708a42c5890ecc057970b51bff87</th>\n",
       "      <td>0.533376</td>\n",
       "      <td>0.002836</td>\n",
       "      <td>0.007121</td>\n",
       "      <td>0.814569</td>\n",
       "      <td>0.001009</td>\n",
       "      <td>0.394459</td>\n",
       "      <td>0.000565</td>\n",
       "      <td>0.011885</td>\n",
       "      <td>0.183422</td>\n",
       "      <td>0.312375</td>\n",
       "      <td>...</td>\n",
       "      <td>0.006429</td>\n",
       "      <td>0.000438</td>\n",
       "      <td>0.004144</td>\n",
       "      <td>0.399193</td>\n",
       "      <td>0.002282</td>\n",
       "      <td>0.003261</td>\n",
       "      <td>0.002704</td>\n",
       "      <td>0</td>\n",
       "      <td>0</td>\n",
       "      <td>1</td>\n",
       "    </tr>\n",
       "    <tr>\n",
       "      <th>001404030d4c78b76bf02e809387611bdf6b708a42c5890ecc057970b51bff87</th>\n",
       "      <td>0.634030</td>\n",
       "      <td>0.005452</td>\n",
       "      <td>0.004289</td>\n",
       "      <td>0.812784</td>\n",
       "      <td>0.000545</td>\n",
       "      <td>0.209648</td>\n",
       "      <td>0.004533</td>\n",
       "      <td>0.003436</td>\n",
       "      <td>0.183422</td>\n",
       "      <td>0.292273</td>\n",
       "      <td>...</td>\n",
       "      <td>0.004221</td>\n",
       "      <td>0.007356</td>\n",
       "      <td>0.002904</td>\n",
       "      <td>0.399193</td>\n",
       "      <td>0.002599</td>\n",
       "      <td>0.005015</td>\n",
       "      <td>0.009224</td>\n",
       "      <td>0</td>\n",
       "      <td>0</td>\n",
       "      <td>1</td>\n",
       "    </tr>\n",
       "    <tr>\n",
       "      <th>001404030d4c78b76bf02e809387611bdf6b708a42c5890ecc057970b51bff87</th>\n",
       "      <td>0.581146</td>\n",
       "      <td>0.008479</td>\n",
       "      <td>0.058330</td>\n",
       "      <td>0.818535</td>\n",
       "      <td>0.001734</td>\n",
       "      <td>0.270682</td>\n",
       "      <td>0.005404</td>\n",
       "      <td>0.000965</td>\n",
       "      <td>0.183422</td>\n",
       "      <td>0.263852</td>\n",
       "      <td>...</td>\n",
       "      <td>0.003387</td>\n",
       "      <td>0.001938</td>\n",
       "      <td>0.006487</td>\n",
       "      <td>0.399193</td>\n",
       "      <td>0.002336</td>\n",
       "      <td>0.004986</td>\n",
       "      <td>0.009904</td>\n",
       "      <td>0</td>\n",
       "      <td>0</td>\n",
       "      <td>1</td>\n",
       "    </tr>\n",
       "    <tr>\n",
       "      <th>001404030d4c78b76bf02e809387611bdf6b708a42c5890ecc057970b51bff87</th>\n",
       "      <td>0.638761</td>\n",
       "      <td>0.001563</td>\n",
       "      <td>0.074599</td>\n",
       "      <td>0.810576</td>\n",
       "      <td>0.003550</td>\n",
       "      <td>0.346932</td>\n",
       "      <td>0.002158</td>\n",
       "      <td>0.007989</td>\n",
       "      <td>0.183422</td>\n",
       "      <td>0.250307</td>\n",
       "      <td>...</td>\n",
       "      <td>0.003324</td>\n",
       "      <td>0.009098</td>\n",
       "      <td>0.002901</td>\n",
       "      <td>0.399193</td>\n",
       "      <td>0.009378</td>\n",
       "      <td>0.004077</td>\n",
       "      <td>0.000444</td>\n",
       "      <td>0</td>\n",
       "      <td>0</td>\n",
       "      <td>1</td>\n",
       "    </tr>\n",
       "    <tr>\n",
       "      <th>...</th>\n",
       "      <td>...</td>\n",
       "      <td>...</td>\n",
       "      <td>...</td>\n",
       "      <td>...</td>\n",
       "      <td>...</td>\n",
       "      <td>...</td>\n",
       "      <td>...</td>\n",
       "      <td>...</td>\n",
       "      <td>...</td>\n",
       "      <td>...</td>\n",
       "      <td>...</td>\n",
       "      <td>...</td>\n",
       "      <td>...</td>\n",
       "      <td>...</td>\n",
       "      <td>...</td>\n",
       "      <td>...</td>\n",
       "      <td>...</td>\n",
       "      <td>...</td>\n",
       "      <td>...</td>\n",
       "      <td>...</td>\n",
       "      <td>...</td>\n",
       "    </tr>\n",
       "    <tr>\n",
       "      <th>ff935ab3afd19b6876a89a865e8fd0c9ddf70df583f76b9b9a31e25564e479f0</th>\n",
       "      <td>0.694359</td>\n",
       "      <td>0.002467</td>\n",
       "      <td>0.004647</td>\n",
       "      <td>0.819456</td>\n",
       "      <td>0.008337</td>\n",
       "      <td>0.218629</td>\n",
       "      <td>0.001154</td>\n",
       "      <td>0.005749</td>\n",
       "      <td>0.183422</td>\n",
       "      <td>0.004996</td>\n",
       "      <td>...</td>\n",
       "      <td>0.005413</td>\n",
       "      <td>0.002154</td>\n",
       "      <td>0.002496</td>\n",
       "      <td>0.399193</td>\n",
       "      <td>0.005139</td>\n",
       "      <td>0.000904</td>\n",
       "      <td>0.003520</td>\n",
       "      <td>0</td>\n",
       "      <td>1</td>\n",
       "      <td>1</td>\n",
       "    </tr>\n",
       "    <tr>\n",
       "      <th>ff935ab3afd19b6876a89a865e8fd0c9ddf70df583f76b9b9a31e25564e479f0</th>\n",
       "      <td>0.703078</td>\n",
       "      <td>0.008550</td>\n",
       "      <td>0.006564</td>\n",
       "      <td>0.813531</td>\n",
       "      <td>0.009143</td>\n",
       "      <td>0.218629</td>\n",
       "      <td>0.005057</td>\n",
       "      <td>0.008314</td>\n",
       "      <td>0.183422</td>\n",
       "      <td>0.006044</td>\n",
       "      <td>...</td>\n",
       "      <td>0.007718</td>\n",
       "      <td>0.002808</td>\n",
       "      <td>0.009736</td>\n",
       "      <td>0.399193</td>\n",
       "      <td>0.009443</td>\n",
       "      <td>0.005709</td>\n",
       "      <td>0.003947</td>\n",
       "      <td>0</td>\n",
       "      <td>1</td>\n",
       "      <td>1</td>\n",
       "    </tr>\n",
       "    <tr>\n",
       "      <th>ff935ab3afd19b6876a89a865e8fd0c9ddf70df583f76b9b9a31e25564e479f0</th>\n",
       "      <td>0.703935</td>\n",
       "      <td>0.006113</td>\n",
       "      <td>0.006865</td>\n",
       "      <td>0.817879</td>\n",
       "      <td>0.001657</td>\n",
       "      <td>0.218629</td>\n",
       "      <td>0.000430</td>\n",
       "      <td>0.005133</td>\n",
       "      <td>0.183422</td>\n",
       "      <td>0.007559</td>\n",
       "      <td>...</td>\n",
       "      <td>0.008367</td>\n",
       "      <td>0.003879</td>\n",
       "      <td>0.005927</td>\n",
       "      <td>0.399193</td>\n",
       "      <td>0.009009</td>\n",
       "      <td>0.009374</td>\n",
       "      <td>0.008034</td>\n",
       "      <td>0</td>\n",
       "      <td>1</td>\n",
       "      <td>1</td>\n",
       "    </tr>\n",
       "    <tr>\n",
       "      <th>ff935ab3afd19b6876a89a865e8fd0c9ddf70df583f76b9b9a31e25564e479f0</th>\n",
       "      <td>0.702966</td>\n",
       "      <td>0.006313</td>\n",
       "      <td>0.005220</td>\n",
       "      <td>0.817009</td>\n",
       "      <td>0.001885</td>\n",
       "      <td>0.218629</td>\n",
       "      <td>0.000515</td>\n",
       "      <td>0.006779</td>\n",
       "      <td>0.183422</td>\n",
       "      <td>0.007056</td>\n",
       "      <td>...</td>\n",
       "      <td>0.006993</td>\n",
       "      <td>0.002642</td>\n",
       "      <td>0.009738</td>\n",
       "      <td>0.399193</td>\n",
       "      <td>0.007884</td>\n",
       "      <td>0.007981</td>\n",
       "      <td>0.006220</td>\n",
       "      <td>0</td>\n",
       "      <td>1</td>\n",
       "      <td>1</td>\n",
       "    </tr>\n",
       "    <tr>\n",
       "      <th>ff935ab3afd19b6876a89a865e8fd0c9ddf70df583f76b9b9a31e25564e479f0</th>\n",
       "      <td>0.699044</td>\n",
       "      <td>0.003742</td>\n",
       "      <td>0.006180</td>\n",
       "      <td>0.810315</td>\n",
       "      <td>0.004136</td>\n",
       "      <td>0.218629</td>\n",
       "      <td>0.008333</td>\n",
       "      <td>0.006079</td>\n",
       "      <td>0.183422</td>\n",
       "      <td>0.003703</td>\n",
       "      <td>...</td>\n",
       "      <td>0.003995</td>\n",
       "      <td>0.005048</td>\n",
       "      <td>0.007270</td>\n",
       "      <td>0.399193</td>\n",
       "      <td>0.008435</td>\n",
       "      <td>0.004208</td>\n",
       "      <td>0.000096</td>\n",
       "      <td>0</td>\n",
       "      <td>1</td>\n",
       "      <td>1</td>\n",
       "    </tr>\n",
       "  </tbody>\n",
       "</table>\n",
       "<p>12085 rows × 188 columns</p>\n",
       "</div>"
      ],
      "text/plain": [
       "                                                         P_2      D_39  \\\n",
       "customer_ID                                                              \n",
       "001404030d4c78b76bf02e809387611bdf6b708a42c5890...  0.523405  0.008376   \n",
       "001404030d4c78b76bf02e809387611bdf6b708a42c5890...  0.533376  0.002836   \n",
       "001404030d4c78b76bf02e809387611bdf6b708a42c5890...  0.634030  0.005452   \n",
       "001404030d4c78b76bf02e809387611bdf6b708a42c5890...  0.581146  0.008479   \n",
       "001404030d4c78b76bf02e809387611bdf6b708a42c5890...  0.638761  0.001563   \n",
       "...                                                      ...       ...   \n",
       "ff935ab3afd19b6876a89a865e8fd0c9ddf70df583f76b9...  0.694359  0.002467   \n",
       "ff935ab3afd19b6876a89a865e8fd0c9ddf70df583f76b9...  0.703078  0.008550   \n",
       "ff935ab3afd19b6876a89a865e8fd0c9ddf70df583f76b9...  0.703935  0.006113   \n",
       "ff935ab3afd19b6876a89a865e8fd0c9ddf70df583f76b9...  0.702966  0.006313   \n",
       "ff935ab3afd19b6876a89a865e8fd0c9ddf70df583f76b9...  0.699044  0.003742   \n",
       "\n",
       "                                                         B_1       B_2  \\\n",
       "customer_ID                                                              \n",
       "001404030d4c78b76bf02e809387611bdf6b708a42c5890...  0.006680  1.000940   \n",
       "001404030d4c78b76bf02e809387611bdf6b708a42c5890...  0.007121  0.814569   \n",
       "001404030d4c78b76bf02e809387611bdf6b708a42c5890...  0.004289  0.812784   \n",
       "001404030d4c78b76bf02e809387611bdf6b708a42c5890...  0.058330  0.818535   \n",
       "001404030d4c78b76bf02e809387611bdf6b708a42c5890...  0.074599  0.810576   \n",
       "...                                                      ...       ...   \n",
       "ff935ab3afd19b6876a89a865e8fd0c9ddf70df583f76b9...  0.004647  0.819456   \n",
       "ff935ab3afd19b6876a89a865e8fd0c9ddf70df583f76b9...  0.006564  0.813531   \n",
       "ff935ab3afd19b6876a89a865e8fd0c9ddf70df583f76b9...  0.006865  0.817879   \n",
       "ff935ab3afd19b6876a89a865e8fd0c9ddf70df583f76b9...  0.005220  0.817009   \n",
       "ff935ab3afd19b6876a89a865e8fd0c9ddf70df583f76b9...  0.006180  0.810315   \n",
       "\n",
       "                                                         R_1       S_3  \\\n",
       "customer_ID                                                              \n",
       "001404030d4c78b76bf02e809387611bdf6b708a42c5890...  0.003428  0.401315   \n",
       "001404030d4c78b76bf02e809387611bdf6b708a42c5890...  0.001009  0.394459   \n",
       "001404030d4c78b76bf02e809387611bdf6b708a42c5890...  0.000545  0.209648   \n",
       "001404030d4c78b76bf02e809387611bdf6b708a42c5890...  0.001734  0.270682   \n",
       "001404030d4c78b76bf02e809387611bdf6b708a42c5890...  0.003550  0.346932   \n",
       "...                                                      ...       ...   \n",
       "ff935ab3afd19b6876a89a865e8fd0c9ddf70df583f76b9...  0.008337  0.218629   \n",
       "ff935ab3afd19b6876a89a865e8fd0c9ddf70df583f76b9...  0.009143  0.218629   \n",
       "ff935ab3afd19b6876a89a865e8fd0c9ddf70df583f76b9...  0.001657  0.218629   \n",
       "ff935ab3afd19b6876a89a865e8fd0c9ddf70df583f76b9...  0.001885  0.218629   \n",
       "ff935ab3afd19b6876a89a865e8fd0c9ddf70df583f76b9...  0.004136  0.218629   \n",
       "\n",
       "                                                        D_41       B_3  \\\n",
       "customer_ID                                                              \n",
       "001404030d4c78b76bf02e809387611bdf6b708a42c5890...  0.007045  0.009355   \n",
       "001404030d4c78b76bf02e809387611bdf6b708a42c5890...  0.000565  0.011885   \n",
       "001404030d4c78b76bf02e809387611bdf6b708a42c5890...  0.004533  0.003436   \n",
       "001404030d4c78b76bf02e809387611bdf6b708a42c5890...  0.005404  0.000965   \n",
       "001404030d4c78b76bf02e809387611bdf6b708a42c5890...  0.002158  0.007989   \n",
       "...                                                      ...       ...   \n",
       "ff935ab3afd19b6876a89a865e8fd0c9ddf70df583f76b9...  0.001154  0.005749   \n",
       "ff935ab3afd19b6876a89a865e8fd0c9ddf70df583f76b9...  0.005057  0.008314   \n",
       "ff935ab3afd19b6876a89a865e8fd0c9ddf70df583f76b9...  0.000430  0.005133   \n",
       "ff935ab3afd19b6876a89a865e8fd0c9ddf70df583f76b9...  0.000515  0.006779   \n",
       "ff935ab3afd19b6876a89a865e8fd0c9ddf70df583f76b9...  0.008333  0.006079   \n",
       "\n",
       "                                                        D_42      D_43  ...  \\\n",
       "customer_ID                                                             ...   \n",
       "001404030d4c78b76bf02e809387611bdf6b708a42c5890...  0.183422  0.355097  ...   \n",
       "001404030d4c78b76bf02e809387611bdf6b708a42c5890...  0.183422  0.312375  ...   \n",
       "001404030d4c78b76bf02e809387611bdf6b708a42c5890...  0.183422  0.292273  ...   \n",
       "001404030d4c78b76bf02e809387611bdf6b708a42c5890...  0.183422  0.263852  ...   \n",
       "001404030d4c78b76bf02e809387611bdf6b708a42c5890...  0.183422  0.250307  ...   \n",
       "...                                                      ...       ...  ...   \n",
       "ff935ab3afd19b6876a89a865e8fd0c9ddf70df583f76b9...  0.183422  0.004996  ...   \n",
       "ff935ab3afd19b6876a89a865e8fd0c9ddf70df583f76b9...  0.183422  0.006044  ...   \n",
       "ff935ab3afd19b6876a89a865e8fd0c9ddf70df583f76b9...  0.183422  0.007559  ...   \n",
       "ff935ab3afd19b6876a89a865e8fd0c9ddf70df583f76b9...  0.183422  0.007056  ...   \n",
       "ff935ab3afd19b6876a89a865e8fd0c9ddf70df583f76b9...  0.183422  0.003703  ...   \n",
       "\n",
       "                                                       D_139     D_140  \\\n",
       "customer_ID                                                              \n",
       "001404030d4c78b76bf02e809387611bdf6b708a42c5890...  0.008365  0.008801   \n",
       "001404030d4c78b76bf02e809387611bdf6b708a42c5890...  0.006429  0.000438   \n",
       "001404030d4c78b76bf02e809387611bdf6b708a42c5890...  0.004221  0.007356   \n",
       "001404030d4c78b76bf02e809387611bdf6b708a42c5890...  0.003387  0.001938   \n",
       "001404030d4c78b76bf02e809387611bdf6b708a42c5890...  0.003324  0.009098   \n",
       "...                                                      ...       ...   \n",
       "ff935ab3afd19b6876a89a865e8fd0c9ddf70df583f76b9...  0.005413  0.002154   \n",
       "ff935ab3afd19b6876a89a865e8fd0c9ddf70df583f76b9...  0.007718  0.002808   \n",
       "ff935ab3afd19b6876a89a865e8fd0c9ddf70df583f76b9...  0.008367  0.003879   \n",
       "ff935ab3afd19b6876a89a865e8fd0c9ddf70df583f76b9...  0.006993  0.002642   \n",
       "ff935ab3afd19b6876a89a865e8fd0c9ddf70df583f76b9...  0.003995  0.005048   \n",
       "\n",
       "                                                       D_141     D_142  \\\n",
       "customer_ID                                                              \n",
       "001404030d4c78b76bf02e809387611bdf6b708a42c5890...  0.001185  0.399193   \n",
       "001404030d4c78b76bf02e809387611bdf6b708a42c5890...  0.004144  0.399193   \n",
       "001404030d4c78b76bf02e809387611bdf6b708a42c5890...  0.002904  0.399193   \n",
       "001404030d4c78b76bf02e809387611bdf6b708a42c5890...  0.006487  0.399193   \n",
       "001404030d4c78b76bf02e809387611bdf6b708a42c5890...  0.002901  0.399193   \n",
       "...                                                      ...       ...   \n",
       "ff935ab3afd19b6876a89a865e8fd0c9ddf70df583f76b9...  0.002496  0.399193   \n",
       "ff935ab3afd19b6876a89a865e8fd0c9ddf70df583f76b9...  0.009736  0.399193   \n",
       "ff935ab3afd19b6876a89a865e8fd0c9ddf70df583f76b9...  0.005927  0.399193   \n",
       "ff935ab3afd19b6876a89a865e8fd0c9ddf70df583f76b9...  0.009738  0.399193   \n",
       "ff935ab3afd19b6876a89a865e8fd0c9ddf70df583f76b9...  0.007270  0.399193   \n",
       "\n",
       "                                                       D_143     D_144  \\\n",
       "customer_ID                                                              \n",
       "001404030d4c78b76bf02e809387611bdf6b708a42c5890...  0.006018  0.009393   \n",
       "001404030d4c78b76bf02e809387611bdf6b708a42c5890...  0.002282  0.003261   \n",
       "001404030d4c78b76bf02e809387611bdf6b708a42c5890...  0.002599  0.005015   \n",
       "001404030d4c78b76bf02e809387611bdf6b708a42c5890...  0.002336  0.004986   \n",
       "001404030d4c78b76bf02e809387611bdf6b708a42c5890...  0.009378  0.004077   \n",
       "...                                                      ...       ...   \n",
       "ff935ab3afd19b6876a89a865e8fd0c9ddf70df583f76b9...  0.005139  0.000904   \n",
       "ff935ab3afd19b6876a89a865e8fd0c9ddf70df583f76b9...  0.009443  0.005709   \n",
       "ff935ab3afd19b6876a89a865e8fd0c9ddf70df583f76b9...  0.009009  0.009374   \n",
       "ff935ab3afd19b6876a89a865e8fd0c9ddf70df583f76b9...  0.007884  0.007981   \n",
       "ff935ab3afd19b6876a89a865e8fd0c9ddf70df583f76b9...  0.008435  0.004208   \n",
       "\n",
       "                                                       D_145  D_63  D_64  B_31  \n",
       "customer_ID                                                                     \n",
       "001404030d4c78b76bf02e809387611bdf6b708a42c5890...  0.003585     0     0     1  \n",
       "001404030d4c78b76bf02e809387611bdf6b708a42c5890...  0.002704     0     0     1  \n",
       "001404030d4c78b76bf02e809387611bdf6b708a42c5890...  0.009224     0     0     1  \n",
       "001404030d4c78b76bf02e809387611bdf6b708a42c5890...  0.009904     0     0     1  \n",
       "001404030d4c78b76bf02e809387611bdf6b708a42c5890...  0.000444     0     0     1  \n",
       "...                                                      ...   ...   ...   ...  \n",
       "ff935ab3afd19b6876a89a865e8fd0c9ddf70df583f76b9...  0.003520     0     1     1  \n",
       "ff935ab3afd19b6876a89a865e8fd0c9ddf70df583f76b9...  0.003947     0     1     1  \n",
       "ff935ab3afd19b6876a89a865e8fd0c9ddf70df583f76b9...  0.008034     0     1     1  \n",
       "ff935ab3afd19b6876a89a865e8fd0c9ddf70df583f76b9...  0.006220     0     1     1  \n",
       "ff935ab3afd19b6876a89a865e8fd0c9ddf70df583f76b9...  0.000096     0     1     1  \n",
       "\n",
       "[12085 rows x 188 columns]"
      ]
     },
     "execution_count": 13,
     "metadata": {},
     "output_type": "execute_result"
    }
   ],
   "source": [
    "X = sample2.copy().drop('S_2', axis=1)\n",
    "X.index = X.customer_ID\n",
    "for cname in X.select_dtypes([\"object\"]).drop('customer_ID', axis=1):\n",
    "    X[cname], _ = X[cname].factorize()\n",
    "\n",
    "discretes = (X.dtypes == 'int64').drop('customer_ID')\n",
    "d, n = [], []\n",
    "for cname in X.columns:\n",
    "    if cname == 'customer_ID':\n",
    "        continue\n",
    "    if X[cname].dtype == 'int64':\n",
    "        d.append(cname)\n",
    "    else:\n",
    "        n.append(cname)\n",
    "\n",
    "default_col_values = {cname: X[cname].mean() for cname in n}\n",
    "def process_group(col_defaults: dict, df: pd.DataFrame):\n",
    "    for cname in df.columns:\n",
    "        if df[cname].isna().all():\n",
    "            df[cname].fillna(col_defaults[cname], inplace=True)\n",
    "    return df\n",
    "\n",
    "X_processed = X.groupby(X.index).apply(lambda df: process_group(default_col_values, df))\n",
    "\n",
    "num_t = ByIndexTransformer(SimpleImputer(verbose=100), n)\n",
    "nums = num_t.fit_transform(X_processed)\n",
    "nums.columns = n\n",
    "\n",
    "imputed = nums.copy()\n",
    "imputed[d] = X[d]\n",
    "imputed"
   ]
  },
  {
   "cell_type": "markdown",
   "metadata": {},
   "source": [
    "Mutual Information scores:"
   ]
  },
  {
   "cell_type": "code",
   "execution_count": 14,
   "metadata": {},
   "outputs": [
    {
     "data": {
      "text/plain": [
       "B_16    0.571920\n",
       "B_32    0.571920\n",
       "D_65    0.571920\n",
       "D_77    0.215330\n",
       "P_2     0.208755\n",
       "B_17    0.177197\n",
       "D_48    0.164498\n",
       "D_61    0.147662\n",
       "B_9     0.141384\n",
       "D_75    0.140182\n",
       "Name: MI Scores, dtype: float64"
      ]
     },
     "execution_count": 14,
     "metadata": {},
     "output_type": "execute_result"
    }
   ],
   "source": [
    "from sklearn.feature_selection import mutual_info_classif\n",
    "\n",
    "def make_mi_scores(X, y, discretes):\n",
    "    mi_scores = mutual_info_classif(X, y, discrete_features=discretes)\n",
    "    mi_scores = pd.Series(mi_scores, name=\"MI Scores\", index=X.columns)\n",
    "    mi_scores = mi_scores.sort_values(ascending=False)\n",
    "    return mi_scores\n",
    "\n",
    "imputed_y = get_y(imputed.index)\n",
    "mi_scores = make_mi_scores(imputed, imputed_y, discretes)\n",
    "mi_scores.head(10)"
   ]
  },
  {
   "cell_type": "code",
   "execution_count": 15,
   "metadata": {},
   "outputs": [
    {
     "data": {
      "text/plain": [
       "D_88     0.000974\n",
       "B_42     0.000443\n",
       "B_41     0.000000\n",
       "S_18     0.000000\n",
       "R_18     0.000000\n",
       "D_87     0.000000\n",
       "S_17     0.000000\n",
       "D_116    0.000000\n",
       "S_6      0.000000\n",
       "B_31     0.000000\n",
       "Name: MI Scores, dtype: float64"
      ]
     },
     "execution_count": 15,
     "metadata": {},
     "output_type": "execute_result"
    }
   ],
   "source": [
    "mi_scores.tail(10)"
   ]
  },
  {
   "cell_type": "code",
   "execution_count": 42,
   "metadata": {},
   "outputs": [
    {
     "data": {
      "text/plain": [
       "array([[<matplotlib.axes._subplots.AxesSubplot object at 0x0000023A945C5588>,\n",
       "        <matplotlib.axes._subplots.AxesSubplot object at 0x0000023A946C5898>],\n",
       "       [<matplotlib.axes._subplots.AxesSubplot object at 0x0000023A8D8276A0>,\n",
       "        <matplotlib.axes._subplots.AxesSubplot object at 0x0000023A8D6DC2B0>]],\n",
       "      dtype=object)"
      ]
     },
     "execution_count": 42,
     "metadata": {},
     "output_type": "execute_result"
    },
    {
     "data": {
      "image/png": "[encoded data removed]",
      "text/plain": [
       "<Figure size 648x432 with 4 Axes>"
      ]
     },
     "metadata": {
      "needs_background": "light"
     },
     "output_type": "display_data"
    }
   ],
   "source": [
    "# B_16, B_32, D_65 have the same MI score?\n",
    "# There's also a few columns with no MI\n",
    "\n",
    "imputed[['B_16', 'B_32', 'D_65']].hist(bins=50, figsize=(9, 6)) # 13 categories?"
   ]
  },
  {
   "cell_type": "code",
   "execution_count": 44,
   "metadata": {},
   "outputs": [
    {
     "data": {
      "text/plain": [
       "array([[<matplotlib.axes._subplots.AxesSubplot object at 0x00000238AE154BE0>,\n",
       "        <matplotlib.axes._subplots.AxesSubplot object at 0x00000238AE3959B0>,\n",
       "        <matplotlib.axes._subplots.AxesSubplot object at 0x0000023A94799EF0>],\n",
       "       [<matplotlib.axes._subplots.AxesSubplot object at 0x0000023A947EC470>,\n",
       "        <matplotlib.axes._subplots.AxesSubplot object at 0x0000023A9483E9B0>,\n",
       "        <matplotlib.axes._subplots.AxesSubplot object at 0x0000023A94845EF0>],\n",
       "       [<matplotlib.axes._subplots.AxesSubplot object at 0x0000023A94880470>,\n",
       "        <matplotlib.axes._subplots.AxesSubplot object at 0x0000023A948CE9E8>,\n",
       "        <matplotlib.axes._subplots.AxesSubplot object at 0x0000023A948CEA20>]],\n",
       "      dtype=object)"
      ]
     },
     "execution_count": 44,
     "metadata": {},
     "output_type": "execute_result"
    },
    {
     "data": {
      "image/png": "[encoded data removed]",
      "text/plain": [
       "<Figure size 864x648 with 9 Axes>"
      ]
     },
     "metadata": {
      "needs_background": "light"
     },
     "output_type": "display_data"
    }
   ],
   "source": [
    "imputed[mi_scores.tail(8).index].hist(bins=50, figsize=(12, 9))"
   ]
  }
 ],
 "metadata": {
  "kernelspec": {
   "display_name": "Python 3.6.10 64-bit ('Anaconda3')",
   "language": "python",
   "name": "python3"
  },
  "language_info": {
   "codemirror_mode": {
    "name": "ipython",
    "version": 3
   },
   "file_extension": ".py",
   "mimetype": "text/x-python",
   "name": "python",
   "nbconvert_exporter": "python",
   "pygments_lexer": "ipython3",
   "version": "3.6.13"
  },
  "vscode": {
   "interpreter": {
    "hash": "b29a03d294a5d565629bd8b2edd35628de61f209b314f6bd67723ac72078aa8b"
   }
  }
 },
 "nbformat": 4,
 "nbformat_minor": 4
}
