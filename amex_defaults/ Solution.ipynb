{
 "cells": [
  {
   "cell_type": "markdown",
   "metadata": {},
   "source": [
    "Stress test:\n",
    "- There are 5531452 rows in the csv file in total (including header)\n",
    "- It takes 3m31s to read train_data.csv"
   ]
  },
  {
   "cell_type": "code",
   "execution_count": 1,
   "metadata": {},
   "outputs": [],
   "source": [
    "# N = sum(1 for line in open('data/train_data.csv'))\n",
    "# N\n",
    "# print(sum(1 for line in open('data/train_labels.csv')))"
   ]
  },
  {
   "cell_type": "code",
   "execution_count": 2,
   "metadata": {},
   "outputs": [],
   "source": [
    "# df = pd.read_csv('data/train_data.csv')\n",
    "# labels = pd.read_csv('data/train_labels.csv')"
   ]
  },
  {
   "cell_type": "markdown",
   "metadata": {},
   "source": [
    "## Setup"
   ]
  },
  {
   "cell_type": "code",
   "execution_count": 1,
   "metadata": {},
   "outputs": [],
   "source": [
    "import pandas as pd\n",
    "import numpy as np\n",
    "import seaborn as sns\n",
    "features = pd.read_csv('data/train_data.csv')\n",
    "labels = pd.read_csv('data/train_labels.csv')"
   ]
  },
  {
   "cell_type": "markdown",
   "metadata": {},
   "source": [
    "#### Categorize columns by type: "
   ]
  },
  {
   "cell_type": "code",
   "execution_count": 4,
   "metadata": {},
   "outputs": [
    {
     "data": {
      "text/plain": [
       "array([dtype('O'), dtype('float64'), dtype('int64')], dtype=object)"
      ]
     },
     "execution_count": 4,
     "metadata": {},
     "output_type": "execute_result"
    }
   ],
   "source": [
    "features.dtypes.unique()"
   ]
  },
  {
   "cell_type": "code",
   "execution_count": 5,
   "metadata": {},
   "outputs": [
    {
     "data": {
      "text/plain": [
       "Index(['customer_ID', 'S_2', 'D_63', 'D_64'], dtype='object')"
      ]
     },
     "execution_count": 5,
     "metadata": {},
     "output_type": "execute_result"
    }
   ],
   "source": [
    "obj_cols = features.select_dtypes(include=['O']).columns\n",
    "obj_cols"
   ]
  },
  {
   "cell_type": "code",
   "execution_count": 6,
   "metadata": {},
   "outputs": [
    {
     "data": {
      "text/plain": [
       "Index(['B_31'], dtype='object')"
      ]
     },
     "execution_count": 6,
     "metadata": {},
     "output_type": "execute_result"
    }
   ],
   "source": [
    "int_cols = features.select_dtypes(include=['int64']).columns\n",
    "int_cols"
   ]
  },
  {
   "cell_type": "code",
   "execution_count": 7,
   "metadata": {},
   "outputs": [
    {
     "name": "stdout",
     "output_type": "stream",
     "text": [
      "B_31 [1 0]\n",
      "D_63 ['CR' 'CO' 'CL' 'XZ' 'XM' 'XL']\n",
      "D_64 ['O' 'R' nan 'U' '-1']\n"
     ]
    }
   ],
   "source": [
    "print('B_31', features.B_31.unique())\n",
    "for col in obj_cols.drop(['customer_ID', 'S_2']): # S_2 is a date\n",
    "    print(col, features[col].unique())"
   ]
  },
  {
   "cell_type": "code",
   "execution_count": 8,
   "metadata": {},
   "outputs": [
    {
     "data": {
      "text/plain": [
       "Index(['P_2', 'D_39', 'B_1', 'B_2', 'R_1', 'S_3', 'D_41', 'B_3', 'D_42',\n",
       "       'D_43',\n",
       "       ...\n",
       "       'D_136', 'D_137', 'D_138', 'D_139', 'D_140', 'D_141', 'D_142', 'D_143',\n",
       "       'D_144', 'D_145'],\n",
       "      dtype='object', length=185)"
      ]
     },
     "execution_count": 8,
     "metadata": {},
     "output_type": "execute_result"
    }
   ],
   "source": [
    "float_cols = features.select_dtypes(include=['float64']).columns\n",
    "float_cols"
   ]
  },
  {
   "cell_type": "code",
   "execution_count": 9,
   "metadata": {},
   "outputs": [
    {
     "data": {
      "text/plain": [
       "122"
      ]
     },
     "execution_count": 9,
     "metadata": {},
     "output_type": "execute_result"
    }
   ],
   "source": [
    "nullcols = []\n",
    "for col in features:\n",
    "    if features[col].isnull().values.any():\n",
    "        nullcols.append(col)\n",
    "len(nullcols)"
   ]
  },
  {
   "cell_type": "markdown",
   "metadata": {},
   "source": [
    "#### Generate distribution histograms of the columns:"
   ]
  },
  {
   "cell_type": "code",
   "execution_count": 10,
   "metadata": {},
   "outputs": [],
   "source": [
    "###\n",
    "# features.hist(bins=20, figsize=(60, 40))\n",
    "###"
   ]
  },
  {
   "cell_type": "markdown",
   "metadata": {},
   "source": [
    "## Preprocessing"
   ]
  },
  {
   "cell_type": "markdown",
   "metadata": {},
   "source": [
    "#### Useful utility functions:"
   ]
  },
  {
   "cell_type": "code",
   "execution_count": 2,
   "metadata": {},
   "outputs": [],
   "source": [
    "def get_sample(size):\n",
    "    # gets (size) amount of customers\n",
    "    prng = np.random.RandomState(0)\n",
    "    g = features.groupby('customer_ID')\n",
    "\n",
    "    portion = features[g.ngroup().isin(prng.choice(g.ngroups, size, replace=False))]\n",
    "    return portion\n",
    "\n",
    "# sample1 = get_sample(len(labels)//100)\n",
    "# sample2 = get_sample(1000)\n",
    "sample1 = pd.read_csv('data/sample1.csv')"
   ]
  },
  {
   "cell_type": "code",
   "execution_count": 3,
   "metadata": {},
   "outputs": [],
   "source": [
    "# sample1.to_csv('./data/sample1.csv')"
   ]
  },
  {
   "cell_type": "code",
   "execution_count": 4,
   "metadata": {},
   "outputs": [],
   "source": [
    "def get_y(ids):\n",
    "    label_lookup = dict()\n",
    "    for id in ids:\n",
    "        if id not in label_lookup:\n",
    "            target = labels.loc[labels.customer_ID == id, 'target']\n",
    "            label_lookup[id] = target.iloc[0]\n",
    "\n",
    "    return pd.Series([label_lookup[id] for id in ids], index=ids)\n",
    "    # for id in features.customer_ID.unique():\n",
    "    #     if len(features.loc[features.customer_ID == id, 'target'].unique()) != 1:\n",
    "    #         print(features.loc[features.customer_ID == id])\n",
    "    \n",
    "# sample_y = get_y(sample1['customer_ID'])\n",
    "sample_y = pd.read_csv('data/sample1_labels.csv')"
   ]
  },
  {
   "cell_type": "code",
   "execution_count": 5,
   "metadata": {},
   "outputs": [],
   "source": [
    "# sample_y.to_csv('./data/sample1_labels.csv')"
   ]
  },
  {
   "cell_type": "markdown",
   "metadata": {},
   "source": [
    "#### Potential Pipeline:\n",
    "- Apply OHE/MEstimate\n",
    "- Combine IDs\n",
    "- Impute missing values\n",
    "- (PCA)\n",
    "- (KMeans)\n",
    "- Train\n",
    "- Predict\n",
    "- Cross validate"
   ]
  },
  {
   "cell_type": "markdown",
   "metadata": {},
   "source": [
    "#### Data Imputation:"
   ]
  },
  {
   "cell_type": "code",
   "execution_count": 6,
   "metadata": {},
   "outputs": [],
   "source": [
    "from lib2to3.pytree import Base\n",
    "from sklearn.pipeline import Pipeline\n",
    "from sklearn.impute import SimpleImputer\n",
    "from sklearn.compose import ColumnTransformer\n",
    "from sklearn.preprocessing import OneHotEncoder\n",
    "from sklearn.base import BaseEstimator, TransformerMixin\n",
    "from sqlalchemy import Column\n",
    "\n",
    "class ByIndexTransformer(BaseEstimator, TransformerMixin):\n",
    "    def __init__(self, transformer, cnames = None):\n",
    "        self.cnames = cnames\n",
    "        self.transformer = transformer\n",
    "    def fit(self, X: pd.DataFrame, y = None):\n",
    "        self.fitted_transformers = X.groupby(X.index).apply(\n",
    "            lambda df: self.transformer.fit(df if self.cnames == None else df[self.cnames]))\n",
    "        self.fitted_transformers = {self.fitted_transformers.index[i] : self.fitted_transformers.iloc[i] for i in range(len(self.fitted_transformers))}\n",
    "        return self\n",
    "    def transform(self, X: pd.DataFrame, y = None):\n",
    "        transformed = X.groupby(X.index).apply(\n",
    "            lambda df: pd.DataFrame(\n",
    "                self.fitted_transformers[df.index[0]]\n",
    "                .transform(df if self.cnames == None else df[self.cnames])\n",
    "            )\n",
    "        )\n",
    "        transformed.reset_index()\n",
    "        transformed.index = X.index\n",
    "        return transformed\n",
    "\n",
    "class IDFoldTransformer(BaseEstimator, TransformerMixin):\n",
    "    def __init__(self, id_name = None):\n",
    "        self.id_name = id_name\n",
    "    def fit(self, X: pd.DataFrame, y = None):\n",
    "        return self\n",
    "    def transform(self, X: pd.DataFrame, y = None):\n",
    "        return X.groupby(X.index if self.id_name == None else self.id_name).apply(lambda df: df.mean()).unstack().reset_index()\n",
    "        \n",
    "###\n",
    "# class DFTransformer(BaseEstimator, TransformerMixin):\n",
    "#     def __init__(self, cnames)\n",
    "\n",
    "# # class EncoderWrapper(BaseEstimator, TransformerMixin):\n",
    "# #     def __init__(self, encoder):\n",
    "# #         self.encoder = encoder\n",
    "# #     def fit(self, X: np.ndarray, y = None):\n",
    "# #         self.encoder.fit(X, y)\n",
    "# #         return self\n",
    "# #     def transform(self, X: np.ndarray, y = None):\n",
    "# #         encoded_cols = self.encoder.transform(X)\n",
    "# #         encoded_df = pd.DataFrame(encoded_cols)\n",
    "# #         return encoded_df\n",
    "\n",
    "# def column_types(features: pd.DataFrame):\n",
    "#     categoricals = []\n",
    "#     objects = []\n",
    "#     numericals = []\n",
    "#     for cname in features.columns:\n",
    "#         col = features[cname]\n",
    "#         if col.dtype == 'object':\n",
    "#             if col.nunique() < 10:\n",
    "#                 categoricals.append(cname)\n",
    "#             else:\n",
    "#                 objects.append(cname)\n",
    "#         elif col.dtype in ['int64', 'float64']:\n",
    "#             numericals.append(cname)\n",
    "#         else:\n",
    "#             print(f\"{cname}: no column category matched\")\n",
    "#     return categoricals, numericals, objects\n",
    "\n",
    "# def preprocess(features: pd.DataFrame, y = None):\n",
    "#     categoricals, numericals, objects = column_types(features)\n",
    "    \n",
    "#     # Preprocesses categoricals\n",
    "#     onehot = Pipeline(steps=[\n",
    "#         ('imputer', SimpleImputer(strategy='most_frequent')),\n",
    "#         ('onehot', OneHotEncoder(handle_unknown='ignore', sparse=False))\n",
    "#     ])\n",
    "#     transformers = ColumnTransformer(transformers=[\n",
    "#         ('cat', onehot, categoricals)\n",
    "#     ], remainder='passthrough')\n",
    "    \n",
    "#     encoded_cols = transformers.fit_transform(features)\n",
    "#     df = pd.DataFrame(encoded_cols)\n",
    "#     print(encoded_cols)\n",
    "\n",
    "#     df = df.groupby('customer_ID').apply(lambda df: df.mean()).unstack().reset_index()\n",
    "\n",
    "#     return df\n",
    "\n",
    "# # X = sample2.drop('D_64', axis=1)\n",
    "# # X = preprocess(X)\n",
    "# # X.head()\n",
    "###"
   ]
  },
  {
   "cell_type": "code",
   "execution_count": 8,
   "metadata": {},
   "outputs": [],
   "source": [
    "def impute_X_bygroup(data):\n",
    "    X = data.copy().drop('S_2', axis=1)\n",
    "    X.index = X.customer_ID\n",
    "    for cname in X.select_dtypes([\"object\"]).drop('customer_ID', axis=1):\n",
    "        X[cname], _ = X[cname].factorize()\n",
    "\n",
    "    discretes = (X.dtypes == 'int64').drop('customer_ID')\n",
    "    d, n = [], []\n",
    "    for cname in X.columns:\n",
    "        if cname == 'customer_ID':\n",
    "            continue\n",
    "        if X[cname].dtype == 'int64':\n",
    "            d.append(cname)\n",
    "        else:\n",
    "            n.append(cname)\n",
    "\n",
    "    default_col_values = {cname: X[cname].mean() for cname in n}\n",
    "    def process_group(col_defaults: dict, df: pd.DataFrame):\n",
    "        for cname in df.columns:\n",
    "            if df[cname].isna().all():\n",
    "                df[cname].fillna(col_defaults[cname], inplace=True)\n",
    "        return df\n",
    "\n",
    "    X_processed = X.groupby(X.index).apply(lambda df: process_group(default_col_values, df))\n",
    "\n",
    "    num_t = ByIndexTransformer(SimpleImputer(verbose=100), n)\n",
    "    nums = num_t.fit_transform(X_processed)\n",
    "    nums.columns = n\n",
    "\n",
    "    imputed = nums.copy()\n",
    "    imputed[d] = X[d]\n",
    "    return imputed, discretes\n",
    "\n",
    "imputed, discretes = impute_X_bygroup(sample1)"
   ]
  },
  {
   "cell_type": "markdown",
   "metadata": {},
   "source": [
    "## Feature engineering"
   ]
  },
  {
   "cell_type": "markdown",
   "metadata": {},
   "source": [
    "#### Mutual Information:"
   ]
  },
  {
   "cell_type": "markdown",
   "metadata": {},
   "source": [
    "relatively informative: "
   ]
  },
  {
   "cell_type": "code",
   "execution_count": 9,
   "metadata": {},
   "outputs": [
    {
     "data": {
      "text/plain": [
       "B_32    0.571671\n",
       "B_16    0.571671\n",
       "D_65    0.571671\n",
       "D_77    0.223245\n",
       "P_2     0.212375\n",
       "Name: MI Scores, dtype: float64"
      ]
     },
     "execution_count": 9,
     "metadata": {},
     "output_type": "execute_result"
    }
   ],
   "source": [
    "from sklearn.feature_selection import mutual_info_classif\n",
    "\n",
    "def make_mi_scores(X, y, discretes=False):\n",
    "    mi_scores = mutual_info_classif(X, y, discrete_features=discretes)\n",
    "    mi_scores = pd.Series(mi_scores, name=\"MI Scores\", index=X.columns)\n",
    "    mi_scores = mi_scores.sort_values(ascending=False)\n",
    "    return mi_scores\n",
    "\n",
    "imputed_y = get_y(imputed.index)\n",
    "mi_scores = make_mi_scores(imputed, imputed_y, discretes)\n",
    "mi_scores.head(5)"
   ]
  },
  {
   "cell_type": "markdown",
   "metadata": {},
   "source": [
    "relatively uninformative:"
   ]
  },
  {
   "cell_type": "code",
   "execution_count": 10,
   "metadata": {},
   "outputs": [
    {
     "data": {
      "text/plain": [
       "R_23     0.0\n",
       "S_18     0.0\n",
       "D_116    0.0\n",
       "R_18     0.0\n",
       "D_96     0.0\n",
       "Name: MI Scores, dtype: float64"
      ]
     },
     "execution_count": 10,
     "metadata": {},
     "output_type": "execute_result"
    }
   ],
   "source": [
    "mi_scores.tail(5)"
   ]
  },
  {
   "cell_type": "markdown",
   "metadata": {},
   "source": [
    "discrete features:"
   ]
  },
  {
   "cell_type": "code",
   "execution_count": 11,
   "metadata": {},
   "outputs": [
    {
     "data": {
      "text/plain": [
       "D_64    0.020120\n",
       "B_31    0.008432\n",
       "D_63    0.002075\n",
       "Name: MI Scores, dtype: float64"
      ]
     },
     "execution_count": 11,
     "metadata": {},
     "output_type": "execute_result"
    }
   ],
   "source": [
    "mi_scores.loc[discretes]"
   ]
  },
  {
   "cell_type": "markdown",
   "metadata": {},
   "source": [
    "There are some commonalities among the distribution of the continuous columns with low MI:\n",
    "- Singular-value groups (like B_6)\n",
    "- Binary groups (like B_8)\n",
    "\n",
    "There are also some continuous columns with unusual distributions:\n",
    "- Discrete groups (D_68)\n",
    "\n",
    "Below, binary grouped and singular-value grouped items are separated:"
   ]
  },
  {
   "cell_type": "code",
   "execution_count": 13,
   "metadata": {},
   "outputs": [
    {
     "name": "stdout",
     "output_type": "stream",
     "text": [
      "['R_2', 'S_6', 'R_4', 'D_66', 'R_15', 'S_18', 'D_86', 'D_87', 'B_31', 'R_19'] 34\n"
     ]
    }
   ],
   "source": [
    "from mlxtend.preprocessing import minmax_scaling\n",
    "obj_cols = sample1.select_dtypes(include=['O'])\n",
    "\n",
    "def get_binary_cols(features):\n",
    "    scaled_data = minmax_scaling(features.drop(obj_cols, axis=1), columns=features.drop(obj_cols, axis=1).columns)\n",
    "    binary_cols = []\n",
    "    for cname in scaled_data:\n",
    "        cmean = scaled_data[cname].mean()\n",
    "        if len(scaled_data.loc[(0.01 < scaled_data[cname]) & (scaled_data[cname] < 0.99)]) == 0:\n",
    "            binary_cols.append(cname)\n",
    "    return binary_cols\n",
    "\n",
    "binary_cols = get_binary_cols(sample1)\n",
    "print(binary_cols[:10], len(binary_cols))"
   ]
  },
  {
   "cell_type": "markdown",
   "metadata": {},
   "source": [
    "#### Principal Components: "
   ]
  },
  {
   "cell_type": "code",
   "execution_count": 14,
   "metadata": {},
   "outputs": [],
   "source": [
    "from sklearn.decomposition import PCA\n",
    "\n",
    "def make_pca(pca_features):\n",
    "    pca_scaled = (pca_features - pca_features.mean(axis=0)) / pca_features.std(axis=0)\n",
    "\n",
    "    pca = PCA()\n",
    "    X_pca = pca.fit_transform(pca_features)\n",
    "\n",
    "    column_names = [f'PC{i+1}' for i in range(X_pca.shape[1])]\n",
    "    X_pca = pd.DataFrame(X_pca, columns = column_names)\n",
    "\n",
    "    return pca, X_pca\n",
    "\n",
    "floats = (imputed.dtypes == 'float64').drop(binary_cols)\n",
    "pca_cnames = floats.loc[floats == True].index\n",
    "# pca_cnames = ['B_16', 'B_32', 'D_65', 'D_77', 'P_2']\n",
    "pca_features = imputed.loc[:, pca_cnames]\n",
    "pca, X_pca = make_pca(pca_features)"
   ]
  },
  {
   "cell_type": "markdown",
   "metadata": {},
   "source": [
    "Binary grouped float features are dropped because they can be better represented as non-continuous features"
   ]
  },
  {
   "cell_type": "code",
   "execution_count": 15,
   "metadata": {},
   "outputs": [
    {
     "data": {
      "text/plain": [
       "PC2    0.163162\n",
       "PC5    0.153685\n",
       "PC3    0.153383\n",
       "PC1    0.128207\n",
       "PC7    0.121625\n",
       "Name: MI Scores, dtype: float64"
      ]
     },
     "execution_count": 15,
     "metadata": {},
     "output_type": "execute_result"
    }
   ],
   "source": [
    "pca_mi = make_mi_scores(X_pca, imputed_y, False)\n",
    "pca_mi.head(5)"
   ]
  },
  {
   "cell_type": "markdown",
   "metadata": {},
   "source": [
    "Above indicates that the principal component axes are not as informative as the features themselves, which might be because there isn't a lot of correlation among the individual features"
   ]
  },
  {
   "cell_type": "code",
   "execution_count": 16,
   "metadata": {},
   "outputs": [
    {
     "data": {
      "text/plain": [
       "0.006578947368421052"
      ]
     },
     "execution_count": 16,
     "metadata": {},
     "output_type": "execute_result"
    }
   ],
   "source": [
    "# a useful baseline for looking at PCA component values\n",
    "baseline = 1/152\n",
    "baseline"
   ]
  },
  {
   "cell_type": "code",
   "execution_count": 17,
   "metadata": {},
   "outputs": [
    {
     "data": {
      "text/html": [
       "<div>\n",
       "<style scoped>\n",
       "    .dataframe tbody tr th:only-of-type {\n",
       "        vertical-align: middle;\n",
       "    }\n",
       "\n",
       "    .dataframe tbody tr th {\n",
       "        vertical-align: top;\n",
       "    }\n",
       "\n",
       "    .dataframe thead th {\n",
       "        text-align: right;\n",
       "    }\n",
       "</style>\n",
       "<table border=\"1\" class=\"dataframe\">\n",
       "  <thead>\n",
       "    <tr style=\"text-align: right;\">\n",
       "      <th></th>\n",
       "      <th>PC1</th>\n",
       "      <th>PC2</th>\n",
       "      <th>PC3</th>\n",
       "      <th>PC4</th>\n",
       "      <th>PC5</th>\n",
       "      <th>PC6</th>\n",
       "      <th>PC7</th>\n",
       "      <th>PC8</th>\n",
       "      <th>PC9</th>\n",
       "      <th>PC10</th>\n",
       "      <th>...</th>\n",
       "      <th>PC143</th>\n",
       "      <th>PC144</th>\n",
       "      <th>PC145</th>\n",
       "      <th>PC146</th>\n",
       "      <th>PC147</th>\n",
       "      <th>PC148</th>\n",
       "      <th>PC149</th>\n",
       "      <th>PC150</th>\n",
       "      <th>PC151</th>\n",
       "      <th>PC152</th>\n",
       "    </tr>\n",
       "  </thead>\n",
       "  <tbody>\n",
       "    <tr>\n",
       "      <th>P_2</th>\n",
       "      <td>0.000295</td>\n",
       "      <td>-0.004887</td>\n",
       "      <td>-0.012864</td>\n",
       "      <td>0.027227</td>\n",
       "      <td>-0.019747</td>\n",
       "      <td>-0.009851</td>\n",
       "      <td>0.070927</td>\n",
       "      <td>0.003397</td>\n",
       "      <td>-0.031168</td>\n",
       "      <td>-0.041861</td>\n",
       "      <td>...</td>\n",
       "      <td>-0.001525</td>\n",
       "      <td>-0.002718</td>\n",
       "      <td>0.000477</td>\n",
       "      <td>-0.000895</td>\n",
       "      <td>-0.001265</td>\n",
       "      <td>0.000117</td>\n",
       "      <td>0.000109</td>\n",
       "      <td>-0.000129</td>\n",
       "      <td>-0.000171</td>\n",
       "      <td>-0.000081</td>\n",
       "    </tr>\n",
       "    <tr>\n",
       "      <th>D_39</th>\n",
       "      <td>-0.000199</td>\n",
       "      <td>0.001496</td>\n",
       "      <td>0.005310</td>\n",
       "      <td>-0.003329</td>\n",
       "      <td>0.015247</td>\n",
       "      <td>0.021501</td>\n",
       "      <td>-0.026349</td>\n",
       "      <td>0.000720</td>\n",
       "      <td>-0.006813</td>\n",
       "      <td>-0.049596</td>\n",
       "      <td>...</td>\n",
       "      <td>-0.002915</td>\n",
       "      <td>0.002112</td>\n",
       "      <td>-0.001276</td>\n",
       "      <td>-0.002162</td>\n",
       "      <td>0.000165</td>\n",
       "      <td>0.000021</td>\n",
       "      <td>0.000064</td>\n",
       "      <td>-0.000106</td>\n",
       "      <td>0.000038</td>\n",
       "      <td>0.000057</td>\n",
       "    </tr>\n",
       "    <tr>\n",
       "      <th>B_1</th>\n",
       "      <td>-0.000286</td>\n",
       "      <td>0.000969</td>\n",
       "      <td>0.008744</td>\n",
       "      <td>-0.014930</td>\n",
       "      <td>0.012747</td>\n",
       "      <td>0.008637</td>\n",
       "      <td>-0.071201</td>\n",
       "      <td>-0.015635</td>\n",
       "      <td>-0.015002</td>\n",
       "      <td>0.001317</td>\n",
       "      <td>...</td>\n",
       "      <td>0.076083</td>\n",
       "      <td>-0.041102</td>\n",
       "      <td>0.421248</td>\n",
       "      <td>0.643400</td>\n",
       "      <td>-0.001076</td>\n",
       "      <td>0.002113</td>\n",
       "      <td>-0.000614</td>\n",
       "      <td>-0.000723</td>\n",
       "      <td>0.001325</td>\n",
       "      <td>-0.000828</td>\n",
       "    </tr>\n",
       "    <tr>\n",
       "      <th>B_2</th>\n",
       "      <td>0.000746</td>\n",
       "      <td>-0.003192</td>\n",
       "      <td>-0.019976</td>\n",
       "      <td>0.039450</td>\n",
       "      <td>-0.032465</td>\n",
       "      <td>-0.026834</td>\n",
       "      <td>0.153364</td>\n",
       "      <td>0.032297</td>\n",
       "      <td>0.023014</td>\n",
       "      <td>-0.059900</td>\n",
       "      <td>...</td>\n",
       "      <td>0.007917</td>\n",
       "      <td>-0.003903</td>\n",
       "      <td>0.000410</td>\n",
       "      <td>0.005420</td>\n",
       "      <td>0.000170</td>\n",
       "      <td>0.000666</td>\n",
       "      <td>0.000043</td>\n",
       "      <td>-0.000074</td>\n",
       "      <td>-0.000036</td>\n",
       "      <td>-0.000030</td>\n",
       "    </tr>\n",
       "    <tr>\n",
       "      <th>R_1</th>\n",
       "      <td>-0.000185</td>\n",
       "      <td>0.006360</td>\n",
       "      <td>0.004458</td>\n",
       "      <td>-0.013128</td>\n",
       "      <td>0.010407</td>\n",
       "      <td>0.007108</td>\n",
       "      <td>-0.042049</td>\n",
       "      <td>0.023508</td>\n",
       "      <td>0.008708</td>\n",
       "      <td>0.019778</td>\n",
       "      <td>...</td>\n",
       "      <td>-0.001748</td>\n",
       "      <td>-0.000980</td>\n",
       "      <td>-0.000360</td>\n",
       "      <td>0.000520</td>\n",
       "      <td>0.001297</td>\n",
       "      <td>0.000151</td>\n",
       "      <td>-0.000156</td>\n",
       "      <td>0.000005</td>\n",
       "      <td>-0.000097</td>\n",
       "      <td>-0.000081</td>\n",
       "    </tr>\n",
       "  </tbody>\n",
       "</table>\n",
       "<p>5 rows × 152 columns</p>\n",
       "</div>"
      ],
      "text/plain": [
       "           PC1       PC2       PC3       PC4       PC5       PC6       PC7  \\\n",
       "P_2   0.000295 -0.004887 -0.012864  0.027227 -0.019747 -0.009851  0.070927   \n",
       "D_39 -0.000199  0.001496  0.005310 -0.003329  0.015247  0.021501 -0.026349   \n",
       "B_1  -0.000286  0.000969  0.008744 -0.014930  0.012747  0.008637 -0.071201   \n",
       "B_2   0.000746 -0.003192 -0.019976  0.039450 -0.032465 -0.026834  0.153364   \n",
       "R_1  -0.000185  0.006360  0.004458 -0.013128  0.010407  0.007108 -0.042049   \n",
       "\n",
       "           PC8       PC9      PC10  ...     PC143     PC144     PC145  \\\n",
       "P_2   0.003397 -0.031168 -0.041861  ... -0.001525 -0.002718  0.000477   \n",
       "D_39  0.000720 -0.006813 -0.049596  ... -0.002915  0.002112 -0.001276   \n",
       "B_1  -0.015635 -0.015002  0.001317  ...  0.076083 -0.041102  0.421248   \n",
       "B_2   0.032297  0.023014 -0.059900  ...  0.007917 -0.003903  0.000410   \n",
       "R_1   0.023508  0.008708  0.019778  ... -0.001748 -0.000980 -0.000360   \n",
       "\n",
       "         PC146     PC147     PC148     PC149     PC150     PC151     PC152  \n",
       "P_2  -0.000895 -0.001265  0.000117  0.000109 -0.000129 -0.000171 -0.000081  \n",
       "D_39 -0.002162  0.000165  0.000021  0.000064 -0.000106  0.000038  0.000057  \n",
       "B_1   0.643400 -0.001076  0.002113 -0.000614 -0.000723  0.001325 -0.000828  \n",
       "B_2   0.005420  0.000170  0.000666  0.000043 -0.000074 -0.000036 -0.000030  \n",
       "R_1   0.000520  0.001297  0.000151 -0.000156  0.000005 -0.000097 -0.000081  \n",
       "\n",
       "[5 rows x 152 columns]"
      ]
     },
     "execution_count": 17,
     "metadata": {},
     "output_type": "execute_result"
    }
   ],
   "source": [
    "components = pd.DataFrame(pca.components_.T, columns = X_pca.columns, index = pca_features.columns)\n",
    "components.head()"
   ]
  },
  {
   "cell_type": "code",
   "execution_count": 18,
   "metadata": {},
   "outputs": [],
   "source": [
    "import matplotlib.pyplot as plt\n",
    "\n",
    "def plot_variance(pca, width=8, dpi=100):\n",
    "    # Create figure\n",
    "    fig, axs = plt.subplots(1, 2)\n",
    "    n = pca.n_components_\n",
    "    grid = np.arange(1, n + 1)\n",
    "    # Explained variance\n",
    "    evr = pca.explained_variance_ratio_\n",
    "    axs[0].bar(grid, evr)\n",
    "    axs[0].set(\n",
    "        xlabel=\"Component\", title=\"% Explained Variance\", ylim=(0.0, 1.0)\n",
    "    )\n",
    "    # Cumulative Variance\n",
    "    cv = np.cumsum(evr)\n",
    "    axs[1].plot(np.r_[0, grid], np.r_[0, cv], \"o-\")\n",
    "    axs[1].set(\n",
    "        xlabel=\"Component\", title=\"% Cumulative Variance\", ylim=(0.0, 1.0)\n",
    "    )\n",
    "    # Set up figure\n",
    "    fig.set(figwidth=width, dpi=dpi)\n",
    "    return axs\n",
    "\n",
    "# plot_variance(pca, 24, 300)"
   ]
  },
  {
   "cell_type": "markdown",
   "metadata": {},
   "source": [
    "Check if features with low MI contain information that features with high MI can't explain"
   ]
  },
  {
   "cell_type": "code",
   "execution_count": 19,
   "metadata": {},
   "outputs": [
    {
     "data": {
      "text/html": [
       "<div>\n",
       "<style scoped>\n",
       "    .dataframe tbody tr th:only-of-type {\n",
       "        vertical-align: middle;\n",
       "    }\n",
       "\n",
       "    .dataframe tbody tr th {\n",
       "        vertical-align: top;\n",
       "    }\n",
       "\n",
       "    .dataframe thead th {\n",
       "        text-align: right;\n",
       "    }\n",
       "</style>\n",
       "<table border=\"1\" class=\"dataframe\">\n",
       "  <thead>\n",
       "    <tr style=\"text-align: right;\">\n",
       "      <th></th>\n",
       "      <th>B_15</th>\n",
       "      <th>S_12</th>\n",
       "      <th>D_80</th>\n",
       "      <th>B_27</th>\n",
       "      <th>S_17</th>\n",
       "      <th>B_29</th>\n",
       "      <th>R_18</th>\n",
       "      <th>S_19</th>\n",
       "      <th>B_36</th>\n",
       "    </tr>\n",
       "  </thead>\n",
       "  <tbody>\n",
       "    <tr>\n",
       "      <th>PC1</th>\n",
       "      <td>-0.000046</td>\n",
       "      <td>0.000310</td>\n",
       "      <td>-0.000169</td>\n",
       "      <td>1.000583e-06</td>\n",
       "      <td>0.000106</td>\n",
       "      <td>-0.000005</td>\n",
       "      <td>-0.000001</td>\n",
       "      <td>1.603367e-06</td>\n",
       "      <td>1.304193e-07</td>\n",
       "    </tr>\n",
       "    <tr>\n",
       "      <th>PC2</th>\n",
       "      <td>-0.000140</td>\n",
       "      <td>0.000113</td>\n",
       "      <td>-0.000245</td>\n",
       "      <td>-6.142221e-07</td>\n",
       "      <td>0.000105</td>\n",
       "      <td>0.000029</td>\n",
       "      <td>-0.000001</td>\n",
       "      <td>-4.479839e-07</td>\n",
       "      <td>-1.321724e-05</td>\n",
       "    </tr>\n",
       "    <tr>\n",
       "      <th>PC3</th>\n",
       "      <td>-0.000037</td>\n",
       "      <td>-0.000443</td>\n",
       "      <td>0.000794</td>\n",
       "      <td>-1.730367e-06</td>\n",
       "      <td>0.000334</td>\n",
       "      <td>0.000173</td>\n",
       "      <td>0.000003</td>\n",
       "      <td>-1.207716e-06</td>\n",
       "      <td>2.823946e-05</td>\n",
       "    </tr>\n",
       "    <tr>\n",
       "      <th>PC4</th>\n",
       "      <td>0.003563</td>\n",
       "      <td>0.000852</td>\n",
       "      <td>-0.002467</td>\n",
       "      <td>-3.688423e-06</td>\n",
       "      <td>-0.001082</td>\n",
       "      <td>-0.000203</td>\n",
       "      <td>-0.000002</td>\n",
       "      <td>-1.123578e-05</td>\n",
       "      <td>-1.662648e-05</td>\n",
       "    </tr>\n",
       "    <tr>\n",
       "      <th>PC5</th>\n",
       "      <td>0.013899</td>\n",
       "      <td>0.000292</td>\n",
       "      <td>0.005104</td>\n",
       "      <td>1.077237e-04</td>\n",
       "      <td>0.002138</td>\n",
       "      <td>0.000168</td>\n",
       "      <td>-0.000005</td>\n",
       "      <td>-1.607433e-06</td>\n",
       "      <td>4.131847e-05</td>\n",
       "    </tr>\n",
       "  </tbody>\n",
       "</table>\n",
       "</div>"
      ],
      "text/plain": [
       "         B_15      S_12      D_80          B_27      S_17      B_29      R_18  \\\n",
       "PC1 -0.000046  0.000310 -0.000169  1.000583e-06  0.000106 -0.000005 -0.000001   \n",
       "PC2 -0.000140  0.000113 -0.000245 -6.142221e-07  0.000105  0.000029 -0.000001   \n",
       "PC3 -0.000037 -0.000443  0.000794 -1.730367e-06  0.000334  0.000173  0.000003   \n",
       "PC4  0.003563  0.000852 -0.002467 -3.688423e-06 -0.001082 -0.000203 -0.000002   \n",
       "PC5  0.013899  0.000292  0.005104  1.077237e-04  0.002138  0.000168 -0.000005   \n",
       "\n",
       "             S_19          B_36  \n",
       "PC1  1.603367e-06  1.304193e-07  \n",
       "PC2 -4.479839e-07 -1.321724e-05  \n",
       "PC3 -1.207716e-06  2.823946e-05  \n",
       "PC4 -1.123578e-05 -1.662648e-05  \n",
       "PC5 -1.607433e-06  4.131847e-05  "
      ]
     },
     "execution_count": 19,
     "metadata": {},
     "output_type": "execute_result"
    }
   ],
   "source": [
    "pca_low_mi = (components.loc[(components.index.isin(mi_scores.tail(20).index))]).T\n",
    "pca_low_mi.head()"
   ]
  },
  {
   "cell_type": "code",
   "execution_count": 20,
   "metadata": {},
   "outputs": [
    {
     "name": "stdout",
     "output_type": "stream",
     "text": [
      "B_15 : ['PC148']\n",
      "S_12 : ['PC54', 'PC55']\n",
      "D_80 : []\n",
      "B_27 : ['PC150', 'PC151']\n",
      "S_17 : ['PC45']\n",
      "B_29 : ['PC116']\n",
      "R_18 : ['PC150', 'PC151']\n",
      "S_19 : ['PC149']\n",
      "B_36 : ['PC135']\n"
     ]
    }
   ],
   "source": [
    "for cname in pca_low_mi.columns:\n",
    "    temp = []\n",
    "    for i in range(len(pca_low_mi)):\n",
    "        if abs(pca_low_mi[cname].iloc[i]) > 0.5:\n",
    "            temp.append(pca_low_mi.index[i])\n",
    "    print(f'{cname} : {temp}')"
   ]
  },
  {
   "cell_type": "markdown",
   "metadata": {},
   "source": [
    "The above indicates that the non-binary features with low MI scores generally don't have much variation that's unexplained by those with high MI scores, so it's probably safe to drop a few of them\n",
    "- D_80 might be valuable since it contains significant amount of variation in many of the principal components\n",
    "- The other columns will be excluded since they don't add a significant amount of new information"
   ]
  },
  {
   "cell_type": "markdown",
   "metadata": {},
   "source": [
    "Check for features with strong correlations with each other:"
   ]
  },
  {
   "cell_type": "code",
   "execution_count": 21,
   "metadata": {},
   "outputs": [
    {
     "data": {
      "text/html": [
       "<div>\n",
       "<style scoped>\n",
       "    .dataframe tbody tr th:only-of-type {\n",
       "        vertical-align: middle;\n",
       "    }\n",
       "\n",
       "    .dataframe tbody tr th {\n",
       "        vertical-align: top;\n",
       "    }\n",
       "\n",
       "    .dataframe thead th {\n",
       "        text-align: right;\n",
       "    }\n",
       "</style>\n",
       "<table border=\"1\" class=\"dataframe\">\n",
       "  <thead>\n",
       "    <tr style=\"text-align: right;\">\n",
       "      <th></th>\n",
       "      <th>PC1</th>\n",
       "      <th>PC2</th>\n",
       "      <th>PC3</th>\n",
       "      <th>PC4</th>\n",
       "      <th>PC5</th>\n",
       "      <th>PC6</th>\n",
       "      <th>PC7</th>\n",
       "      <th>PC8</th>\n",
       "      <th>PC9</th>\n",
       "      <th>PC10</th>\n",
       "      <th>...</th>\n",
       "      <th>PC41</th>\n",
       "      <th>PC42</th>\n",
       "      <th>PC43</th>\n",
       "      <th>PC44</th>\n",
       "      <th>PC45</th>\n",
       "      <th>PC46</th>\n",
       "      <th>PC47</th>\n",
       "      <th>PC48</th>\n",
       "      <th>PC49</th>\n",
       "      <th>PC50</th>\n",
       "    </tr>\n",
       "  </thead>\n",
       "  <tbody>\n",
       "    <tr>\n",
       "      <th>P_2</th>\n",
       "      <td>&lt;NA&gt;</td>\n",
       "      <td>&lt;NA&gt;</td>\n",
       "      <td>-0.0128641</td>\n",
       "      <td>0.0272273</td>\n",
       "      <td>-0.0197472</td>\n",
       "      <td>-0.00985099</td>\n",
       "      <td>0.0709266</td>\n",
       "      <td>&lt;NA&gt;</td>\n",
       "      <td>-0.0311677</td>\n",
       "      <td>-0.041861</td>\n",
       "      <td>...</td>\n",
       "      <td>0.0595715</td>\n",
       "      <td>&lt;NA&gt;</td>\n",
       "      <td>0.0416243</td>\n",
       "      <td>0.00912173</td>\n",
       "      <td>-0.0201267</td>\n",
       "      <td>-0.033742</td>\n",
       "      <td>-0.0176883</td>\n",
       "      <td>-0.0239951</td>\n",
       "      <td>&lt;NA&gt;</td>\n",
       "      <td>-0.0122756</td>\n",
       "    </tr>\n",
       "    <tr>\n",
       "      <th>D_39</th>\n",
       "      <td>&lt;NA&gt;</td>\n",
       "      <td>&lt;NA&gt;</td>\n",
       "      <td>&lt;NA&gt;</td>\n",
       "      <td>&lt;NA&gt;</td>\n",
       "      <td>0.0152465</td>\n",
       "      <td>0.0215014</td>\n",
       "      <td>-0.0263489</td>\n",
       "      <td>&lt;NA&gt;</td>\n",
       "      <td>-0.00681256</td>\n",
       "      <td>-0.0495959</td>\n",
       "      <td>...</td>\n",
       "      <td>0.220466</td>\n",
       "      <td>-0.0333255</td>\n",
       "      <td>0.0203832</td>\n",
       "      <td>0.030468</td>\n",
       "      <td>-0.0773039</td>\n",
       "      <td>-0.0677534</td>\n",
       "      <td>-0.0417335</td>\n",
       "      <td>-0.0207148</td>\n",
       "      <td>-0.151257</td>\n",
       "      <td>-0.154175</td>\n",
       "    </tr>\n",
       "    <tr>\n",
       "      <th>B_1</th>\n",
       "      <td>&lt;NA&gt;</td>\n",
       "      <td>&lt;NA&gt;</td>\n",
       "      <td>0.0087438</td>\n",
       "      <td>-0.0149297</td>\n",
       "      <td>0.0127472</td>\n",
       "      <td>0.0086371</td>\n",
       "      <td>-0.0712013</td>\n",
       "      <td>-0.0156347</td>\n",
       "      <td>-0.0150018</td>\n",
       "      <td>&lt;NA&gt;</td>\n",
       "      <td>...</td>\n",
       "      <td>0.0814618</td>\n",
       "      <td>-0.0606239</td>\n",
       "      <td>0.0582642</td>\n",
       "      <td>-0.174394</td>\n",
       "      <td>-0.0472669</td>\n",
       "      <td>-0.0435391</td>\n",
       "      <td>0.123721</td>\n",
       "      <td>-0.0332606</td>\n",
       "      <td>0.0168343</td>\n",
       "      <td>0.0774165</td>\n",
       "    </tr>\n",
       "    <tr>\n",
       "      <th>B_2</th>\n",
       "      <td>&lt;NA&gt;</td>\n",
       "      <td>&lt;NA&gt;</td>\n",
       "      <td>-0.0199757</td>\n",
       "      <td>0.0394498</td>\n",
       "      <td>-0.0324654</td>\n",
       "      <td>-0.0268335</td>\n",
       "      <td>0.153364</td>\n",
       "      <td>0.0322969</td>\n",
       "      <td>0.0230141</td>\n",
       "      <td>-0.0598999</td>\n",
       "      <td>...</td>\n",
       "      <td>0.130826</td>\n",
       "      <td>-0.0148589</td>\n",
       "      <td>0.00752156</td>\n",
       "      <td>-0.0356617</td>\n",
       "      <td>-0.0333546</td>\n",
       "      <td>0.0533946</td>\n",
       "      <td>&lt;NA&gt;</td>\n",
       "      <td>-0.18755</td>\n",
       "      <td>0.0143432</td>\n",
       "      <td>-0.036694</td>\n",
       "    </tr>\n",
       "    <tr>\n",
       "      <th>R_1</th>\n",
       "      <td>&lt;NA&gt;</td>\n",
       "      <td>&lt;NA&gt;</td>\n",
       "      <td>&lt;NA&gt;</td>\n",
       "      <td>-0.0131285</td>\n",
       "      <td>0.0104068</td>\n",
       "      <td>0.00710829</td>\n",
       "      <td>-0.042049</td>\n",
       "      <td>0.023508</td>\n",
       "      <td>0.00870827</td>\n",
       "      <td>0.0197776</td>\n",
       "      <td>...</td>\n",
       "      <td>0.00780088</td>\n",
       "      <td>-0.0354153</td>\n",
       "      <td>0.020522</td>\n",
       "      <td>-0.0594217</td>\n",
       "      <td>&lt;NA&gt;</td>\n",
       "      <td>0.065409</td>\n",
       "      <td>-0.0360205</td>\n",
       "      <td>0.0795034</td>\n",
       "      <td>-0.0909067</td>\n",
       "      <td>0.0130451</td>\n",
       "    </tr>\n",
       "  </tbody>\n",
       "</table>\n",
       "<p>5 rows × 50 columns</p>\n",
       "</div>"
      ],
      "text/plain": [
       "       PC1   PC2        PC3        PC4        PC5         PC6        PC7  \\\n",
       "P_2   <NA>  <NA> -0.0128641  0.0272273 -0.0197472 -0.00985099  0.0709266   \n",
       "D_39  <NA>  <NA>       <NA>       <NA>  0.0152465   0.0215014 -0.0263489   \n",
       "B_1   <NA>  <NA>  0.0087438 -0.0149297  0.0127472   0.0086371 -0.0712013   \n",
       "B_2   <NA>  <NA> -0.0199757  0.0394498 -0.0324654  -0.0268335   0.153364   \n",
       "R_1   <NA>  <NA>       <NA> -0.0131285  0.0104068  0.00710829  -0.042049   \n",
       "\n",
       "            PC8         PC9       PC10  ...        PC41       PC42  \\\n",
       "P_2        <NA>  -0.0311677  -0.041861  ...   0.0595715       <NA>   \n",
       "D_39       <NA> -0.00681256 -0.0495959  ...    0.220466 -0.0333255   \n",
       "B_1  -0.0156347  -0.0150018       <NA>  ...   0.0814618 -0.0606239   \n",
       "B_2   0.0322969   0.0230141 -0.0598999  ...    0.130826 -0.0148589   \n",
       "R_1    0.023508  0.00870827  0.0197776  ...  0.00780088 -0.0354153   \n",
       "\n",
       "            PC43        PC44       PC45       PC46       PC47       PC48  \\\n",
       "P_2    0.0416243  0.00912173 -0.0201267  -0.033742 -0.0176883 -0.0239951   \n",
       "D_39   0.0203832    0.030468 -0.0773039 -0.0677534 -0.0417335 -0.0207148   \n",
       "B_1    0.0582642   -0.174394 -0.0472669 -0.0435391   0.123721 -0.0332606   \n",
       "B_2   0.00752156  -0.0356617 -0.0333546  0.0533946       <NA>   -0.18755   \n",
       "R_1     0.020522  -0.0594217       <NA>   0.065409 -0.0360205  0.0795034   \n",
       "\n",
       "           PC49       PC50  \n",
       "P_2        <NA> -0.0122756  \n",
       "D_39  -0.151257  -0.154175  \n",
       "B_1   0.0168343  0.0774165  \n",
       "B_2   0.0143432  -0.036694  \n",
       "R_1  -0.0909067  0.0130451  \n",
       "\n",
       "[5 rows x 50 columns]"
      ]
     },
     "execution_count": 21,
     "metadata": {},
     "output_type": "execute_result"
    }
   ],
   "source": [
    "selected_components = components[[f'PC{i}' for i in range(1, 51)]]\n",
    "corr_df = pd.DataFrame()\n",
    "for cname in selected_components.columns:\n",
    "    temp = []\n",
    "    for i in range(len(selected_components)):\n",
    "        val = selected_components[cname].iloc[i]\n",
    "        if -baseline > val or baseline < val:\n",
    "            temp.append(val)\n",
    "        else:\n",
    "            temp.append(pd.NA)\n",
    "    corr_df[cname] = temp\n",
    "\n",
    "corr_df.columns = selected_components.columns\n",
    "corr_df.index = selected_components.index\n",
    "corr_df.head()"
   ]
  },
  {
   "cell_type": "code",
   "execution_count": 22,
   "metadata": {},
   "outputs": [
    {
     "data": {
      "text/plain": [
       "B_10    0.999989\n",
       "Name: PC1, dtype: object"
      ]
     },
     "execution_count": 22,
     "metadata": {},
     "output_type": "execute_result"
    }
   ],
   "source": [
    "corr_df.loc[corr_df['PC1'].notna(), 'PC1']"
   ]
  },
  {
   "cell_type": "code",
   "execution_count": 23,
   "metadata": {},
   "outputs": [
    {
     "data": {
      "text/plain": [
       "R_14    0.997096\n",
       "Name: PC2, dtype: object"
      ]
     },
     "execution_count": 23,
     "metadata": {},
     "output_type": "execute_result"
    }
   ],
   "source": [
    "corr_df.loc[(corr_df['PC2'].notna()) & (abs(corr_df['PC2']) > 0.1), 'PC2']"
   ]
  },
  {
   "cell_type": "code",
   "execution_count": 24,
   "metadata": {},
   "outputs": [
    {
     "data": {
      "text/plain": [
       "B_40    0.993025\n",
       "Name: PC3, dtype: object"
      ]
     },
     "execution_count": 24,
     "metadata": {},
     "output_type": "execute_result"
    }
   ],
   "source": [
    "corr_df.loc[(corr_df['PC3'].notna()) & (abs(corr_df['PC3']) > 0.1), 'PC3']"
   ]
  },
  {
   "cell_type": "code",
   "execution_count": 25,
   "metadata": {},
   "outputs": [
    {
     "data": {
      "text/plain": [
       "B_38    -0.149362\n",
       "D_117    0.967924\n",
       "Name: PC4, dtype: object"
      ]
     },
     "execution_count": 25,
     "metadata": {},
     "output_type": "execute_result"
    }
   ],
   "source": [
    "corr_df.loc[(corr_df['PC4'].notna()) & (abs(corr_df['PC4']) > 0.1), 'PC4']"
   ]
  },
  {
   "cell_type": "markdown",
   "metadata": {},
   "source": [
    "#### KMeans:"
   ]
  },
  {
   "cell_type": "markdown",
   "metadata": {},
   "source": [
    "Clustering on binary and discrete features with high MI scores (top 20):"
   ]
  },
  {
   "cell_type": "code",
   "execution_count": 26,
   "metadata": {},
   "outputs": [],
   "source": [
    "# features[mi_scores.head(20).index].hist(bins=20, figsize=(21, 14))"
   ]
  },
  {
   "cell_type": "code",
   "execution_count": 27,
   "metadata": {},
   "outputs": [],
   "source": [
    "from sklearn.cluster import KMeans\n",
    "\n",
    "# kmeans_cnames = ['B_16', 'B_18', 'B_32']\n",
    "# kmeans = KMeans(n_clusters=20, n_init=20) # 0.1333\n",
    "\n",
    "# kmeans_cnames = mi_scores.head(20).drop(['B_16', 'B_18', 'B_32']).index\n",
    "# kmeans = KMeans(n_clusters=20, n_init=20) # 0.1889\n",
    "\n",
    "# kmeans_cnames = mi_scores.head(20).index\n",
    "# kmeans = KMeans(n_clusters=50, n_init=20) # 0.1779\n",
    "\n",
    "kmeans_cnames = mi_scores.head(20).drop(['B_16', 'B_18', 'B_32']).index\n",
    "kmeans = KMeans(n_clusters=30, n_init=20) # 0.1959\n",
    "\n",
    "# kmeans_cnames = mi_scores.head(50).loc[~mi_scores.isin(binary_cols)].index\n",
    "# kmeans = KMeans(n_clusters=20, n_init=20)\n",
    "\n",
    "cluster = pd.DataFrame()\n",
    "cluster['Cluster'] = kmeans.fit_predict(imputed.loc[:, kmeans_cnames])\n",
    "cluster['Cluster'] = cluster['Cluster'].astype('category')"
   ]
  },
  {
   "cell_type": "code",
   "execution_count": 28,
   "metadata": {},
   "outputs": [
    {
     "data": {
      "text/plain": [
       "Cluster    0.195839\n",
       "Name: MI Scores, dtype: float64"
      ]
     },
     "execution_count": 28,
     "metadata": {},
     "output_type": "execute_result"
    }
   ],
   "source": [
    "cluster_mi_score = make_mi_scores(cluster, imputed_y, [True])\n",
    "cluster_mi_score.head()"
   ]
  },
  {
   "cell_type": "markdown",
   "metadata": {},
   "source": [
    "#### Effect of folding on MI scores:"
   ]
  },
  {
   "cell_type": "code",
   "execution_count": 31,
   "metadata": {},
   "outputs": [
    {
     "data": {
      "text/html": [
       "<div>\n",
       "<style scoped>\n",
       "    .dataframe tbody tr th:only-of-type {\n",
       "        vertical-align: middle;\n",
       "    }\n",
       "\n",
       "    .dataframe tbody tr th {\n",
       "        vertical-align: top;\n",
       "    }\n",
       "\n",
       "    .dataframe thead th {\n",
       "        text-align: right;\n",
       "    }\n",
       "</style>\n",
       "<table border=\"1\" class=\"dataframe\">\n",
       "  <thead>\n",
       "    <tr style=\"text-align: right;\">\n",
       "      <th></th>\n",
       "      <th>customer_ID</th>\n",
       "      <th>B_1</th>\n",
       "      <th>B_10</th>\n",
       "      <th>B_11</th>\n",
       "      <th>B_12</th>\n",
       "      <th>B_13</th>\n",
       "      <th>B_14</th>\n",
       "      <th>B_15</th>\n",
       "      <th>B_16</th>\n",
       "      <th>B_17</th>\n",
       "      <th>...</th>\n",
       "      <th>S_24</th>\n",
       "      <th>S_25</th>\n",
       "      <th>S_26</th>\n",
       "      <th>S_27</th>\n",
       "      <th>S_3</th>\n",
       "      <th>S_5</th>\n",
       "      <th>S_6</th>\n",
       "      <th>S_7</th>\n",
       "      <th>S_8</th>\n",
       "      <th>S_9</th>\n",
       "    </tr>\n",
       "  </thead>\n",
       "  <tbody>\n",
       "    <tr>\n",
       "      <th>0</th>\n",
       "      <td>001404030d4c78b76bf02e809387611bdf6b708a42c589...</td>\n",
       "      <td>0.023746</td>\n",
       "      <td>0.062475</td>\n",
       "      <td>0.018162</td>\n",
       "      <td>0.097547</td>\n",
       "      <td>0.190044</td>\n",
       "      <td>0.029387</td>\n",
       "      <td>0.005684</td>\n",
       "      <td>0.216358</td>\n",
       "      <td>0.432930</td>\n",
       "      <td>...</td>\n",
       "      <td>0.582364</td>\n",
       "      <td>0.974337</td>\n",
       "      <td>0.059494</td>\n",
       "      <td>0.209461</td>\n",
       "      <td>0.303459</td>\n",
       "      <td>0.006711</td>\n",
       "      <td>0.006191</td>\n",
       "      <td>0.242479</td>\n",
       "      <td>0.258305</td>\n",
       "      <td>0.018112</td>\n",
       "    </tr>\n",
       "    <tr>\n",
       "      <th>1</th>\n",
       "      <td>001cdb20ffadc532a456ed4d8af7f8d6b9e1924dc86744...</td>\n",
       "      <td>0.550460</td>\n",
       "      <td>0.023360</td>\n",
       "      <td>0.547086</td>\n",
       "      <td>0.036024</td>\n",
       "      <td>0.078695</td>\n",
       "      <td>0.298831</td>\n",
       "      <td>0.005711</td>\n",
       "      <td>1.005552</td>\n",
       "      <td>0.969746</td>\n",
       "      <td>...</td>\n",
       "      <td>0.982429</td>\n",
       "      <td>0.797419</td>\n",
       "      <td>0.003231</td>\n",
       "      <td>0.332423</td>\n",
       "      <td>0.475279</td>\n",
       "      <td>0.195285</td>\n",
       "      <td>0.003545</td>\n",
       "      <td>0.459213</td>\n",
       "      <td>0.355178</td>\n",
       "      <td>0.005811</td>\n",
       "    </tr>\n",
       "    <tr>\n",
       "      <th>2</th>\n",
       "      <td>001f781c7913e962b9fcb8e7001663f0a31e0646b857f0...</td>\n",
       "      <td>0.043143</td>\n",
       "      <td>0.122120</td>\n",
       "      <td>0.031883</td>\n",
       "      <td>0.182328</td>\n",
       "      <td>0.171687</td>\n",
       "      <td>0.125401</td>\n",
       "      <td>0.146438</td>\n",
       "      <td>0.004550</td>\n",
       "      <td>NaN</td>\n",
       "      <td>...</td>\n",
       "      <td>0.981000</td>\n",
       "      <td>0.773471</td>\n",
       "      <td>0.134124</td>\n",
       "      <td>0.558381</td>\n",
       "      <td>0.211188</td>\n",
       "      <td>0.253634</td>\n",
       "      <td>0.228529</td>\n",
       "      <td>0.584313</td>\n",
       "      <td>0.413168</td>\n",
       "      <td>0.025851</td>\n",
       "    </tr>\n",
       "    <tr>\n",
       "      <th>3</th>\n",
       "      <td>00252a52c9d997f25742e8d4e026cda5b1b94d33a850e3...</td>\n",
       "      <td>0.197419</td>\n",
       "      <td>0.020219</td>\n",
       "      <td>0.190092</td>\n",
       "      <td>0.098692</td>\n",
       "      <td>0.090878</td>\n",
       "      <td>0.070410</td>\n",
       "      <td>0.005939</td>\n",
       "      <td>0.242121</td>\n",
       "      <td>0.450148</td>\n",
       "      <td>...</td>\n",
       "      <td>0.534769</td>\n",
       "      <td>0.931284</td>\n",
       "      <td>0.005353</td>\n",
       "      <td>0.248543</td>\n",
       "      <td>0.230855</td>\n",
       "      <td>0.207120</td>\n",
       "      <td>0.312871</td>\n",
       "      <td>0.237670</td>\n",
       "      <td>0.209721</td>\n",
       "      <td>0.011909</td>\n",
       "    </tr>\n",
       "    <tr>\n",
       "      <th>4</th>\n",
       "      <td>0045a4494de5cfcbd98839d3df2f28e30fad352a59c2d9...</td>\n",
       "      <td>-0.010233</td>\n",
       "      <td>0.770478</td>\n",
       "      <td>0.005192</td>\n",
       "      <td>0.025301</td>\n",
       "      <td>0.026106</td>\n",
       "      <td>-0.000547</td>\n",
       "      <td>-0.003357</td>\n",
       "      <td>0.045004</td>\n",
       "      <td>NaN</td>\n",
       "      <td>...</td>\n",
       "      <td>0.428624</td>\n",
       "      <td>0.975371</td>\n",
       "      <td>0.006259</td>\n",
       "      <td>0.005242</td>\n",
       "      <td>0.332562</td>\n",
       "      <td>0.007284</td>\n",
       "      <td>0.159099</td>\n",
       "      <td>0.296412</td>\n",
       "      <td>0.152632</td>\n",
       "      <td>NaN</td>\n",
       "    </tr>\n",
       "  </tbody>\n",
       "</table>\n",
       "<p>5 rows × 188 columns</p>\n",
       "</div>"
      ],
      "text/plain": [
       "                                         customer_ID       B_1      B_10  \\\n",
       "0  001404030d4c78b76bf02e809387611bdf6b708a42c589...  0.023746  0.062475   \n",
       "1  001cdb20ffadc532a456ed4d8af7f8d6b9e1924dc86744...  0.550460  0.023360   \n",
       "2  001f781c7913e962b9fcb8e7001663f0a31e0646b857f0...  0.043143  0.122120   \n",
       "3  00252a52c9d997f25742e8d4e026cda5b1b94d33a850e3...  0.197419  0.020219   \n",
       "4  0045a4494de5cfcbd98839d3df2f28e30fad352a59c2d9... -0.010233  0.770478   \n",
       "\n",
       "       B_11      B_12      B_13      B_14      B_15      B_16      B_17  ...  \\\n",
       "0  0.018162  0.097547  0.190044  0.029387  0.005684  0.216358  0.432930  ...   \n",
       "1  0.547086  0.036024  0.078695  0.298831  0.005711  1.005552  0.969746  ...   \n",
       "2  0.031883  0.182328  0.171687  0.125401  0.146438  0.004550       NaN  ...   \n",
       "3  0.190092  0.098692  0.090878  0.070410  0.005939  0.242121  0.450148  ...   \n",
       "4  0.005192  0.025301  0.026106 -0.000547 -0.003357  0.045004       NaN  ...   \n",
       "\n",
       "       S_24      S_25      S_26      S_27       S_3       S_5       S_6  \\\n",
       "0  0.582364  0.974337  0.059494  0.209461  0.303459  0.006711  0.006191   \n",
       "1  0.982429  0.797419  0.003231  0.332423  0.475279  0.195285  0.003545   \n",
       "2  0.981000  0.773471  0.134124  0.558381  0.211188  0.253634  0.228529   \n",
       "3  0.534769  0.931284  0.005353  0.248543  0.230855  0.207120  0.312871   \n",
       "4  0.428624  0.975371  0.006259  0.005242  0.332562  0.007284  0.159099   \n",
       "\n",
       "        S_7       S_8       S_9  \n",
       "0  0.242479  0.258305  0.018112  \n",
       "1  0.459213  0.355178  0.005811  \n",
       "2  0.584313  0.413168  0.025851  \n",
       "3  0.237670  0.209721  0.011909  \n",
       "4  0.296412  0.152632       NaN  \n",
       "\n",
       "[5 rows x 188 columns]"
      ]
     },
     "execution_count": 31,
     "metadata": {},
     "output_type": "execute_result"
    }
   ],
   "source": [
    "fold = IDFoldTransformer(id_name = 'customer_ID')\n",
    "folded = fold.transform(sample1)\n",
    "folded.head()"
   ]
  },
  {
   "cell_type": "code",
   "execution_count": 44,
   "metadata": {},
   "outputs": [],
   "source": [
    "folded_floats = folded.drop(['D_64', 'B_31', 'customer_ID'], axis=1)\n",
    "folded_imputer = SimpleImputer()\n",
    "folded_imputed = pd.DataFrame(folded_imputer.fit_transform(folded_floats))\n",
    "folded_imputed.columns = folded_floats.columns\n",
    "folded_y = get_y(folded['customer_ID'])"
   ]
  },
  {
   "cell_type": "code",
   "execution_count": 45,
   "metadata": {},
   "outputs": [
    {
     "data": {
      "text/plain": [
       "P_2     0.233259\n",
       "D_44    0.182394\n",
       "R_1     0.178185\n",
       "D_61    0.176961\n",
       "D_48    0.174121\n",
       "Name: MI Scores, dtype: float64"
      ]
     },
     "execution_count": 45,
     "metadata": {},
     "output_type": "execute_result"
    }
   ],
   "source": [
    "folded_mi_score = make_mi_scores(folded_imputed, folded_y, False)\n",
    "folded_mi_score.head()"
   ]
  },
  {
   "cell_type": "markdown",
   "metadata": {},
   "source": [
    "Averaging features deterioates MI scores"
   ]
  },
  {
   "cell_type": "markdown",
   "metadata": {},
   "source": [
    "## Supervised learning"
   ]
  },
  {
   "cell_type": "markdown",
   "metadata": {},
   "source": [
    "#### Strategy: \n",
    "- "
   ]
  }
 ],
 "metadata": {
  "kernelspec": {
   "display_name": "Python 3.6.10 64-bit ('Anaconda3')",
   "language": "python",
   "name": "python3"
  },
  "language_info": {
   "codemirror_mode": {
    "name": "ipython",
    "version": 3
   },
   "file_extension": ".py",
   "mimetype": "text/x-python",
   "name": "python",
   "nbconvert_exporter": "python",
   "pygments_lexer": "ipython3",
   "version": "3.6.13"
  },
  "vscode": {
   "interpreter": {
    "hash": "b29a03d294a5d565629bd8b2edd35628de61f209b314f6bd67723ac72078aa8b"
   }
  }
 },
 "nbformat": 4,
 "nbformat_minor": 4
}
