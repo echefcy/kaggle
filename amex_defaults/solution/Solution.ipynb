{
 "cells": [
  {
   "cell_type": "code",
   "execution_count": 1,
   "metadata": {},
   "outputs": [],
   "source": [
    "import pandas as pd\n",
    "import numpy as np"
   ]
  },
  {
   "cell_type": "code",
   "execution_count": 2,
   "metadata": {},
   "outputs": [],
   "source": [
    "# X_train = pd.read_csv('../data/train_data.csv')\n",
    "# X_train['S_2'] = pd.to_datetime(X_train['S_2'], format='%Y-%m-%d')\n",
    "# y_train = pd.read_csv('../data/train_labels.csv')\n",
    "\n",
    "# sanity check\n",
    "# X_train = pd.read_csv('../data/train_data.csv', usecols=['customer_ID'])"
   ]
  },
  {
   "cell_type": "code",
   "execution_count": 3,
   "metadata": {},
   "outputs": [],
   "source": [
    "# uncached\n",
    "# from preprocessing import preprocess\n",
    "# X_train_preprocessed = preprocess(X_train)\n",
    "# X_train_preprocessed.to_csv('./imputed_train_data.csv')\n",
    "\n",
    "# cached\n",
    "# X_train_preprocessed = pd.read_csv('../data/solution/imputed_train_data.csv').set_index('customer_ID')\n",
    "# X_train_preprocessed['S_2'] = pd.to_datetime(X_train_preprocessed['S_2'], format='%Y-%m-%d')"
   ]
  },
  {
   "cell_type": "code",
   "execution_count": 4,
   "metadata": {},
   "outputs": [],
   "source": [
    "# uncached\n",
    "# from preprocessing import encode\n",
    "# X_train_input = encode(X_train_preprocessed)\n",
    "# X_train_input.to_csv('../data/solution/encoded_train_data.csv')\n",
    "\n",
    "# cached\n",
    "# X_train_input = pd.read_csv('../data/solution/encoded_train_data.csv').set_index('customer_ID')"
   ]
  },
  {
   "cell_type": "code",
   "execution_count": 5,
   "metadata": {},
   "outputs": [
    {
     "name": "stderr",
     "output_type": "stream",
     "text": [
      "d:\\Users\\jason\\Anaconda3\\lib\\site-packages\\xgboost\\compat.py:36: FutureWarning: pandas.Int64Index is deprecated and will be removed from pandas in a future version. Use pandas.Index with the appropriate dtype instead.\n",
      "  from pandas import MultiIndex, Int64Index\n"
     ]
    }
   ],
   "source": [
    "from xgboost import XGBClassifier\n",
    "\n",
    "# uncached\n",
    "# my_model = XGBClassifier(n_jobs=-1)\n",
    "# my_model.fit(X_train_input, y_train['target'])\n",
    "# my_model.save_model('../data/solution/fitted_model.json')\n",
    "\n",
    "# cached\n",
    "my_model = XGBClassifier()\n",
    "my_model.load_model('../data/solution/fitted_model.json')"
   ]
  },
  {
   "cell_type": "code",
   "execution_count": 6,
   "metadata": {},
   "outputs": [],
   "source": [
    "# uncached\n",
    "# cols = ['customer_ID', 'S_2', 'D_77', 'P_2', 'D_48', 'D_61', 'B_17', 'D_62', 'D_44', 'B_9', 'D_75', 'B_18']\n",
    "# X_test = pd.read_csv('../data/test_data.csv', usecols=cols)\n",
    "# X_test['S_2'] = pd.to_datetime(X_test['S_2'], format='%Y-%m-%d')\n",
    "\n",
    "# sanity check\n",
    "# X_test = pd.read_csv('../data/test_data.csv', usecols=['customer_ID'])"
   ]
  },
  {
   "cell_type": "code",
   "execution_count": 7,
   "metadata": {},
   "outputs": [],
   "source": [
    "# uncached\n",
    "# from preprocessing import preprocess\n",
    "# X_test_preprocessed = preprocess(X_test)\n",
    "# X_test_preprocessed.to_csv('../data/solution/imputed_test_data.csv')\n",
    "\n",
    "# cached\n",
    "# X_test_preprocessed = pd.read_csv('../data/solution/imputed_test_data.csv').set_index('customer_ID') # NOTE: the imputer was changed, so this includes customer_ID as a column\n",
    "# X_test_preprocessed['S_2'] = pd.to_datetime(X_test_preprocessed['S_2'], format='%Y-%m-%d')"
   ]
  },
  {
   "cell_type": "code",
   "execution_count": 8,
   "metadata": {},
   "outputs": [],
   "source": [
    "# uncached\n",
    "# from preprocessing import encode\n",
    "# X_test_input = encode(X_test_preprocessed)\n",
    "# X_test_input.to_csv('../data/solution/encoded_test_data.csv')\n",
    "\n",
    "# cached\n",
    "X_test_input = pd.read_csv('../data/solution/encoded_test_data.csv').set_index('customer_ID')"
   ]
  },
  {
   "cell_type": "code",
   "execution_count": 9,
   "metadata": {},
   "outputs": [
    {
     "name": "stderr",
     "output_type": "stream",
     "text": [
      "d:\\Users\\jason\\Anaconda3\\lib\\site-packages\\xgboost\\data.py:262: FutureWarning: pandas.Int64Index is deprecated and will be removed from pandas in a future version. Use pandas.Index with the appropriate dtype instead.\n",
      "  elif isinstance(data.columns, (pd.Int64Index, pd.RangeIndex)):\n"
     ]
    }
   ],
   "source": [
    "result = pd.concat([pd.Series(X_test_input.index, name='customer_ID'), pd.Series(my_model.predict(X_test_input), name='prediction')], axis=1)\n",
    "# result.to_csv('../data/solution/predictions.csv')"
   ]
  },
  {
   "cell_type": "code",
   "execution_count": 17,
   "metadata": {},
   "outputs": [],
   "source": [
    "result.to_csv('../data/solution/submission0.csv', index=False)"
   ]
  }
 ],
 "metadata": {
  "kernelspec": {
   "display_name": "Python 3.6.13 64-bit ('Anaconda3')",
   "language": "python",
   "name": "python3"
  },
  "language_info": {
   "codemirror_mode": {
    "name": "ipython",
    "version": 3
   },
   "file_extension": ".py",
   "mimetype": "text/x-python",
   "name": "python",
   "nbconvert_exporter": "python",
   "pygments_lexer": "ipython3",
   "version": "3.9.12"
  },
  "orig_nbformat": 4,
  "vscode": {
   "interpreter": {
    "hash": "b29a03d294a5d565629bd8b2edd35628de61f209b314f6bd67723ac72078aa8b"
   }
  }
 },
 "nbformat": 4,
 "nbformat_minor": 2
}
