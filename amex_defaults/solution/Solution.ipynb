{
 "cells": [
  {
   "cell_type": "code",
   "execution_count": 1,
   "metadata": {},
   "outputs": [],
   "source": [
    "import pandas as pd\n",
    "import numpy as np"
   ]
  },
  {
   "cell_type": "code",
   "execution_count": 2,
   "metadata": {},
   "outputs": [],
   "source": [
    "# X_train = pd.read_csv('../data/train_data.csv')\n",
    "# X_train['S_2'] = pd.to_datetime(X_train['S_2'], format='%Y-%m-%d')\n",
    "# y_train = pd.read_csv('../data/train_labels.csv')"
   ]
  },
  {
   "cell_type": "code",
   "execution_count": 3,
   "metadata": {},
   "outputs": [],
   "source": [
    "# uncached\n",
    "# from preprocessing import preprocess\n",
    "# X_train_preprocessed = preprocess(X_train)\n",
    "# X_train_preprocessed.to_csv('./imputed_train_data.csv')\n",
    "\n",
    "# cached\n",
    "# X_train_preprocessed = pd.read_csv('../data/solution/imputed_train_data.csv').set_index('customer_ID')\n",
    "# X_train_preprocessed['S_2'] = pd.to_datetime(X_train_preprocessed['S_2'], format='%Y-%m-%d')"
   ]
  },
  {
   "cell_type": "code",
   "execution_count": 4,
   "metadata": {},
   "outputs": [],
   "source": [
    "# uncached\n",
    "# from preprocessing import encode\n",
    "# X_train_input = encode(X_train_preprocessed)\n",
    "# X_train_input.to_csv('../data/solution/encoded_train_data.csv')\n",
    "\n",
    "# cached\n",
    "# X_train_input = pd.read_csv('../data/solution/encoded_train_data.csv').set_index('customer_ID')"
   ]
  },
  {
   "cell_type": "code",
   "execution_count": 6,
   "metadata": {},
   "outputs": [
    {
     "name": "stderr",
     "output_type": "stream",
     "text": [
      "d:\\Users\\jason\\Anaconda3\\lib\\site-packages\\xgboost\\sklearn.py:1224: UserWarning: The use of label encoder in XGBClassifier is deprecated and will be removed in a future release. To remove this warning, do the following: 1) Pass option use_label_encoder=False when constructing XGBClassifier object; and 2) Encode your labels (y) as integers starting with 0, i.e. 0, 1, 2, ..., [num_class - 1].\n",
      "  warnings.warn(label_encoder_deprecation_msg, UserWarning)\n"
     ]
    },
    {
     "name": "stdout",
     "output_type": "stream",
     "text": [
      "[23:33:23] WARNING: C:/Users/Administrator/workspace/xgboost-win64_release_1.5.1/src/learner.cc:1115: Starting in XGBoost 1.3.0, the default evaluation metric used with the objective 'binary:logistic' was changed from 'error' to 'logloss'. Explicitly set eval_metric if you'd like to restore the old behavior.\n"
     ]
    }
   ],
   "source": [
    "from xgboost import XGBClassifier\n",
    "\n",
    "# uncached\n",
    "# my_model = XGBClassifier(n_jobs=-1)\n",
    "# my_model.fit(X_train_input, y_train['target'])\n",
    "# my_model.save_model('../data/solution/fitted_model.json')\n",
    "\n",
    "# cached\n",
    "my_model = XGBClassifier()\n",
    "my_model.load_model('../data/solution/fitted_model.json')"
   ]
  },
  {
   "cell_type": "code",
   "execution_count": null,
   "metadata": {},
   "outputs": [],
   "source": [
    "X_test = pd.read_csv('../data/test_data.csv')\n",
    "X_test['S_2'] = pd.to_datetime(X_test['S_2'], format='%Y-%m-%d')"
   ]
  },
  {
   "cell_type": "code",
   "execution_count": null,
   "metadata": {},
   "outputs": [],
   "source": [
    "# uncached\n",
    "from preprocessing import preprocess\n",
    "X_test_preprocessed = preprocess(X_test)\n",
    "X_test_preprocessed.to_csv('../data/solution/imputed_test_data.csv')"
   ]
  },
  {
   "cell_type": "code",
   "execution_count": null,
   "metadata": {},
   "outputs": [],
   "source": [
    "# uncached\n",
    "from preprocessing import encode\n",
    "X_test_input = encode(X_test_preprocessed)\n",
    "X_test_input.to_csv('../data/solution/encoded_test_data.csv')"
   ]
  },
  {
   "cell_type": "code",
   "execution_count": null,
   "metadata": {},
   "outputs": [],
   "source": [
    "result = pd.concat([X_test.customer_ID.unique(), my_model.predict(X_test_input)], axis=1)\n",
    "result.to_csv('../data/solution/predictions.csv')"
   ]
  }
 ],
 "metadata": {
  "kernelspec": {
   "display_name": "Python 3.6.13 64-bit ('Anaconda3')",
   "language": "python",
   "name": "python3"
  },
  "language_info": {
   "codemirror_mode": {
    "name": "ipython",
    "version": 3
   },
   "file_extension": ".py",
   "mimetype": "text/x-python",
   "name": "python",
   "nbconvert_exporter": "python",
   "pygments_lexer": "ipython3",
   "version": "3.6.13"
  },
  "orig_nbformat": 4,
  "vscode": {
   "interpreter": {
    "hash": "b29a03d294a5d565629bd8b2edd35628de61f209b314f6bd67723ac72078aa8b"
   }
  }
 },
 "nbformat": 4,
 "nbformat_minor": 2
}
