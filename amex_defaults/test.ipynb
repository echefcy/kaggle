{
 "cells": [
  {
   "cell_type": "code",
   "execution_count": 13,
   "metadata": {},
   "outputs": [
    {
     "name": "stdout",
     "output_type": "stream",
     "text": [
      "[0.25 0.25]\n",
      "[-14.92105263  17.39473684]\n",
      "a    float64\n",
      "b    float64\n",
      "dtype: object\n",
      "<class 'pandas.core.frame.DataFrame'>\n"
     ]
    },
    {
     "data": {
      "text/html": [
       "<div>\n",
       "<style scoped>\n",
       "    .dataframe tbody tr th:only-of-type {\n",
       "        vertical-align: middle;\n",
       "    }\n",
       "\n",
       "    .dataframe tbody tr th {\n",
       "        vertical-align: top;\n",
       "    }\n",
       "\n",
       "    .dataframe thead th {\n",
       "        text-align: right;\n",
       "    }\n",
       "</style>\n",
       "<table border=\"1\" class=\"dataframe\">\n",
       "  <thead>\n",
       "    <tr style=\"text-align: right;\">\n",
       "      <th></th>\n",
       "      <th>a</th>\n",
       "      <th>b</th>\n",
       "    </tr>\n",
       "  </thead>\n",
       "  <tbody>\n",
       "    <tr>\n",
       "      <th>0</th>\n",
       "      <td>0.250000</td>\n",
       "      <td>0.250000</td>\n",
       "    </tr>\n",
       "    <tr>\n",
       "      <th>1</th>\n",
       "      <td>-14.921053</td>\n",
       "      <td>17.394737</td>\n",
       "    </tr>\n",
       "  </tbody>\n",
       "</table>\n",
       "</div>"
      ],
      "text/plain": [
       "           a          b\n",
       "0   0.250000   0.250000\n",
       "1 -14.921053  17.394737"
      ]
     },
     "execution_count": 13,
     "metadata": {},
     "output_type": "execute_result"
    }
   ],
   "source": [
    "from io import StringIO\n",
    "from csv import writer\n",
    "import pandas as pd\n",
    "from sklearn.linear_model import LinearRegression\n",
    "\n",
    "model = LinearRegression()\n",
    "model.fit([[1,2],[3,4],[5,6]], [7,8,9])\n",
    "print(model.coef_)\n",
    "\n",
    "model2 = LinearRegression()\n",
    "model2.fit([[14,25],[33,44],[57,62]], [37,84,39])\n",
    "print(model2.coef_)\n",
    "\n",
    "output = StringIO()\n",
    "csv_writer = writer(output)\n",
    "\n",
    "rows = [model.coef_, model2.coef_]\n",
    "\n",
    "csv_writer.writerow(['a','b'])\n",
    "for row in rows:\n",
    "    csv_writer.writerow(row)\n",
    "\n",
    "output.seek(0)\n",
    "df = pd.read_csv(output)\n",
    "print(df.dtypes)\n",
    "print(type(df))\n",
    "df.head()"
   ]
  }
 ],
 "metadata": {
  "kernelspec": {
   "display_name": "Python 3.6.13 64-bit ('Anaconda3')",
   "language": "python",
   "name": "python3"
  },
  "language_info": {
   "codemirror_mode": {
    "name": "ipython",
    "version": 3
   },
   "file_extension": ".py",
   "mimetype": "text/x-python",
   "name": "python",
   "nbconvert_exporter": "python",
   "pygments_lexer": "ipython3",
   "version": "3.6.13"
  },
  "orig_nbformat": 4,
  "vscode": {
   "interpreter": {
    "hash": "b29a03d294a5d565629bd8b2edd35628de61f209b314f6bd67723ac72078aa8b"
   }
  }
 },
 "nbformat": 4,
 "nbformat_minor": 2
}
