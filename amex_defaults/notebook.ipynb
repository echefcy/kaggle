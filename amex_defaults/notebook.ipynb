{
 "cells": [
  {
   "cell_type": "markdown",
   "metadata": {},
   "source": [
    "Stress test:\n",
    "- There are 5531452 rows in the csv file in total (including header)\n",
    "- It takes 3m31s to read train_data.csv"
   ]
  },
  {
   "cell_type": "code",
   "execution_count": 1,
   "metadata": {},
   "outputs": [],
   "source": [
    "# N = sum(1 for line in open('data/train_data.csv'))\n",
    "# N\n",
    "# print(sum(1 for line in open('data/train_labels.csv')))"
   ]
  },
  {
   "cell_type": "code",
   "execution_count": 2,
   "metadata": {},
   "outputs": [],
   "source": [
    "# df = pd.read_csv('data/train_data.csv')\n",
    "# labels = pd.read_csv('data/train_labels.csv')"
   ]
  },
  {
   "cell_type": "markdown",
   "metadata": {},
   "source": [
    "## Setup"
   ]
  },
  {
   "cell_type": "code",
   "execution_count": 3,
   "metadata": {},
   "outputs": [],
   "source": [
    "import pandas as pd\n",
    "import numpy as np\n",
    "import seaborn as sns"
   ]
  },
  {
   "cell_type": "markdown",
   "metadata": {},
   "source": [
    "This reads the entire train csv (too much compute needed, I will work with a smaller sample)\n",
    "```\n",
    "features = pd.read_csv('data/train_data.csv')\n",
    "labels = pd.read_csv('data/train_labels.csv')\n",
    "```"
   ]
  },
  {
   "cell_type": "markdown",
   "metadata": {},
   "source": [
    "This prints how many customers have a number of data points\n",
    "```\n",
    "data_points = features.groupby('customer_ID').count()\n",
    "for i in range(14):\n",
    "    print(i, len(data_points['S_2'].loc[data_points['S_2'] == i]))\n",
    "```\n",
    "From the results, most customers have 13 data points by a large margin"
   ]
  },
  {
   "cell_type": "markdown",
   "metadata": {},
   "source": [
    "#### Overview of the data: \n",
    "- 190 columns in total\n",
    "- 'S_2' is the credit card statement date\n",
    "- 'customer_ID' is the customer ID, each ID has multiple entries to account for each credit card statement\n",
    "- 'D_63': ['CR' 'CO' 'CL' 'XZ' 'XM' 'XL']\n",
    "- 'D_64': ['O' 'R' nan 'U' '-1']\n",
    "- 'B_31': [0 1]\n",
    "- The rest of the columns are floats\n",
    "- 122/190 columns have null values\n",
    "\n",
    "code below:"
   ]
  },
  {
   "cell_type": "markdown",
   "metadata": {},
   "source": [
    "```\n",
    "features.dtypes.unique()\n",
    "```\n",
    "<sup>array([dtype('O'), dtype('float64'), dtype('int64')], dtype=object)</sup>\n",
    "```\n",
    "obj_cols = features.select_dtypes(include=['O']).columns\n",
    "obj_cols\n",
    "```\n",
    "<sup>Index(['customer_ID', 'S_2', 'D_63', 'D_64'], dtype='object')</sup>\n",
    "```\n",
    "int_cols = features.select_dtypes(include=['int64']).columns\n",
    "int_cols\n",
    "```\n",
    "<sup>Index(['B_31'], dtype='object')</sup>\n",
    "```\n",
    "print('B_31', features.B_31.unique())\n",
    "for col in obj_cols.drop(['customer_ID', 'S_2']):\n",
    "    print(col, features[col].unique())\n",
    "```\n",
    "<sup>B_31 [1 0]\n",
    "D_63 ['CR' 'CO' 'CL' 'XZ' 'XM' 'XL']\n",
    "D_64 ['O' 'R' nan 'U' '-1']</sup>\n",
    "```\n",
    "float_cols = features.select_dtypes(include=['float64']).columns\n",
    "float_cols\n",
    "```\n",
    "<sup>Index(['P_2', 'D_39', 'B_1', 'B_2', 'R_1', 'S_3', 'D_41', 'B_3', 'D_42',\n",
    "       'D_43',\n",
    "       ...\n",
    "       'D_136', 'D_137', 'D_138', 'D_139', 'D_140', 'D_141', 'D_142', 'D_143',\n",
    "       'D_144', 'D_145'],\n",
    "      dtype='object', length=185)</sup>\n",
    "```\n",
    "# features with NaN data points\n",
    "nullcols = []\n",
    "for col in features:\n",
    "    if features[col].isnull().values.any():\n",
    "        nullcols.append(col)\n",
    "len(nullcols)\n",
    "```\n",
    "<sup>122</sup>"
   ]
  },
  {
   "cell_type": "markdown",
   "metadata": {},
   "source": [
    "#### Generate distribution histograms of the columns:"
   ]
  },
  {
   "cell_type": "code",
   "execution_count": 4,
   "metadata": {},
   "outputs": [],
   "source": [
    "###\n",
    "# features.hist(bins=20, figsize=(60, 40))\n",
    "###"
   ]
  },
  {
   "cell_type": "markdown",
   "metadata": {},
   "source": [
    "From the histograms, there are a few features with unusual distributions. Notable distributions include singular values, binary, and discrete features. The following function gets the binary features:"
   ]
  },
  {
   "cell_type": "code",
   "execution_count": 5,
   "metadata": {},
   "outputs": [],
   "source": [
    "from mlxtend.preprocessing import minmax_scaling\n",
    "\n",
    "def get_binary_cols(features):\n",
    "    obj_cols = features.select_dtypes(include=['O', '<M8[ns]'])\n",
    "    scaled_data = minmax_scaling(features.drop(obj_cols, axis=1), columns=features.drop(obj_cols, axis=1).columns)\n",
    "    binary_cols = []\n",
    "    for cname in scaled_data:\n",
    "        cmean = scaled_data[cname].mean()\n",
    "        if len(scaled_data.loc[(0.01 < scaled_data[cname]) & (scaled_data[cname] < 0.99)]) == 0:\n",
    "            binary_cols.append(cname)\n",
    "    return binary_cols\n"
   ]
  },
  {
   "cell_type": "markdown",
   "metadata": {},
   "source": [
    "## Preprocessing"
   ]
  },
  {
   "cell_type": "markdown",
   "metadata": {},
   "source": [
    "#### Subsampling dataset:"
   ]
  },
  {
   "cell_type": "code",
   "execution_count": 6,
   "metadata": {},
   "outputs": [],
   "source": [
    "def get_sample(features, size):\n",
    "    # gets (size) amount of customers\n",
    "    prng = np.random.RandomState(0)\n",
    "    g = features.groupby('customer_ID')\n",
    "\n",
    "    portion = features[g.ngroup().isin(prng.choice(g.ngroups, size, replace=False))]\n",
    "    return portion\n",
    "\n",
    "# sample1 = get_sample(len(labels)//100)\n",
    "# sample2 = get_sample(1000)\n",
    "sample1 = pd.read_csv('data/sample1.csv').set_index('sampled_index')"
   ]
  },
  {
   "cell_type": "code",
   "execution_count": 7,
   "metadata": {},
   "outputs": [
    {
     "data": {
      "text/html": [
       "<div>\n",
       "<style scoped>\n",
       "    .dataframe tbody tr th:only-of-type {\n",
       "        vertical-align: middle;\n",
       "    }\n",
       "\n",
       "    .dataframe tbody tr th {\n",
       "        vertical-align: top;\n",
       "    }\n",
       "\n",
       "    .dataframe thead th {\n",
       "        text-align: right;\n",
       "    }\n",
       "</style>\n",
       "<table border=\"1\" class=\"dataframe\">\n",
       "  <thead>\n",
       "    <tr style=\"text-align: right;\">\n",
       "      <th></th>\n",
       "      <th>P_2</th>\n",
       "      <th>D_117</th>\n",
       "    </tr>\n",
       "    <tr>\n",
       "      <th>sampled_index</th>\n",
       "      <th></th>\n",
       "      <th></th>\n",
       "    </tr>\n",
       "  </thead>\n",
       "  <tbody>\n",
       "    <tr>\n",
       "      <th>1532</th>\n",
       "      <td>0.523405</td>\n",
       "      <td>-1.0</td>\n",
       "    </tr>\n",
       "    <tr>\n",
       "      <th>1533</th>\n",
       "      <td>0.533376</td>\n",
       "      <td>-1.0</td>\n",
       "    </tr>\n",
       "    <tr>\n",
       "      <th>1534</th>\n",
       "      <td>0.634030</td>\n",
       "      <td>-1.0</td>\n",
       "    </tr>\n",
       "    <tr>\n",
       "      <th>1535</th>\n",
       "      <td>0.581146</td>\n",
       "      <td>4.0</td>\n",
       "    </tr>\n",
       "    <tr>\n",
       "      <th>1536</th>\n",
       "      <td>0.638761</td>\n",
       "      <td>4.0</td>\n",
       "    </tr>\n",
       "  </tbody>\n",
       "</table>\n",
       "</div>"
      ],
      "text/plain": [
       "                    P_2  D_117\n",
       "sampled_index                 \n",
       "1532           0.523405   -1.0\n",
       "1533           0.533376   -1.0\n",
       "1534           0.634030   -1.0\n",
       "1535           0.581146    4.0\n",
       "1536           0.638761    4.0"
      ]
     },
     "execution_count": 7,
     "metadata": {},
     "output_type": "execute_result"
    }
   ],
   "source": [
    "pd.concat([sample1['P_2'], sample1['D_117']], axis=1).head()"
   ]
  },
  {
   "cell_type": "code",
   "execution_count": 8,
   "metadata": {},
   "outputs": [],
   "source": [
    "# exports data\n",
    "# sample1.to_csv('./data/sample1.csv')"
   ]
  },
  {
   "cell_type": "code",
   "execution_count": 9,
   "metadata": {},
   "outputs": [],
   "source": [
    "def get_y(ids):\n",
    "    label_lookup = dict()\n",
    "    for id in ids:\n",
    "        if id not in label_lookup:\n",
    "            target = labels.loc[labels.customer_ID == id, 'target']\n",
    "            label_lookup[id] = target.iloc[0]\n",
    "\n",
    "    return pd.Series([label_lookup[id] for id in ids], index=ids)\n",
    "    # for id in features.customer_ID.unique():\n",
    "    #     if len(features.loc[features.customer_ID == id, 'target'].unique()) != 1:\n",
    "    #         print(features.loc[features.customer_ID == id])\n",
    "    \n",
    "# sample_y = get_y(sample1['customer_ID'])\n",
    "labels = pd.read_csv('data/sample1_labels.csv')"
   ]
  },
  {
   "cell_type": "code",
   "execution_count": 10,
   "metadata": {},
   "outputs": [],
   "source": [
    "# exports data\n",
    "# sample_y.to_csv('./data/sample1_labels.csv')"
   ]
  },
  {
   "cell_type": "code",
   "execution_count": 11,
   "metadata": {},
   "outputs": [],
   "source": [
    "sample1['S_2'] = pd.to_datetime(sample1['S_2'], format='%Y-%m-%d')"
   ]
  },
  {
   "cell_type": "code",
   "execution_count": 12,
   "metadata": {},
   "outputs": [
    {
     "name": "stdout",
     "output_type": "stream",
     "text": [
      "190\n"
     ]
    },
    {
     "data": {
      "text/plain": [
       "55393"
      ]
     },
     "execution_count": 12,
     "metadata": {},
     "output_type": "execute_result"
    }
   ],
   "source": [
    "print(len(sample1.columns))\n",
    "len(sample1)"
   ]
  },
  {
   "cell_type": "markdown",
   "metadata": {},
   "source": [
    "#### Data Imputation:"
   ]
  },
  {
   "cell_type": "code",
   "execution_count": 13,
   "metadata": {},
   "outputs": [],
   "source": [
    "from sklearn.base import BaseEstimator, TransformerMixin\n",
    "from sklearn.impute import SimpleImputer\n",
    "\n",
    "# custom transformer\n",
    "class FloatImputer(BaseEstimator, TransformerMixin):\n",
    "    def __init__(self):\n",
    "        return\n",
    "        \n",
    "    def fill_group(self, group, col_defaults):\n",
    "        for cname in group.columns:\n",
    "            if group[cname].isna().all():\n",
    "                group[cname].fillna(col_defaults[cname], inplace=True)\n",
    "\n",
    "    def fit(self, X: pd.DataFrame, y = None):\n",
    "        self.fitted_imputers = {}\n",
    "        col_defaults = {cname : 0.0 for cname in X.columns}\n",
    "        def fit_group(group: pd.DataFrame):\n",
    "            self.fill_group(group, col_defaults)\n",
    "            imp = SimpleImputer()\n",
    "            self.fitted_imputers[group.index[0]] = imp.fit(group)\n",
    "        X.groupby(X.index).apply(fit_group)\n",
    "        return self\n",
    "        \n",
    "    def transform(self, X: pd.DataFrame, y = None):\n",
    "        col_defaults = {cname : X[cname].mean() for cname in X.columns}\n",
    "        def transform_group(group: pd.DataFrame):\n",
    "            self.fill_group(group, col_defaults)\n",
    "            return pd.DataFrame(self.fitted_imputers[group.index[0]].transform(group))\n",
    "        transformed = X.groupby(X.index).apply(transform_group)\n",
    "        return transformed.reset_index().set_index('customer_ID').drop('level_1', axis=1).set_axis(X.columns, axis=1)"
   ]
  },
  {
   "cell_type": "code",
   "execution_count": 14,
   "metadata": {},
   "outputs": [],
   "source": [
    "def impute_X(data: pd.DataFrame):\n",
    "    data = data.set_index('customer_ID')\n",
    "\n",
    "    discrete_cols = data.select_dtypes(['object', 'int64'])\n",
    "    for cname in discrete_cols.columns:\n",
    "        discrete_cols[cname], _ = discrete_cols[cname].factorize()\n",
    "\n",
    "    float_cols = data.select_dtypes('float64')\n",
    "    imputer = FloatImputer()\n",
    "    float_cols = imputer.fit_transform(float_cols)\n",
    "\n",
    "    data = pd.concat([data[['S_2']], float_cols, discrete_cols], axis=1)\n",
    "    discretes = (data.dtypes == 'int64')\n",
    "\n",
    "    return data, discretes\n",
    "\n",
    "imputed, discretes = impute_X(sample1)"
   ]
  },
  {
   "cell_type": "code",
   "execution_count": 15,
   "metadata": {},
   "outputs": [
    {
     "name": "stdout",
     "output_type": "stream",
     "text": [
      "['R_2', 'S_6', 'R_4', 'D_66', 'R_15', 'S_18', 'D_86', 'D_87', 'B_31', 'R_19'] 34\n"
     ]
    }
   ],
   "source": [
    "binary_cols = get_binary_cols(sample1)\n",
    "print(binary_cols[:10], len(binary_cols))"
   ]
  },
  {
   "cell_type": "markdown",
   "metadata": {},
   "source": [
    "## Feature engineering"
   ]
  },
  {
   "cell_type": "markdown",
   "metadata": {},
   "source": [
    "#### Mutual Information:"
   ]
  },
  {
   "cell_type": "markdown",
   "metadata": {},
   "source": [
    "relatively informative: "
   ]
  },
  {
   "cell_type": "code",
   "execution_count": 16,
   "metadata": {},
   "outputs": [],
   "source": [
    "from sklearn.feature_selection import mutual_info_classif\n",
    "\n",
    "def make_mi_scores(X, y, discretes=False):\n",
    "    mi_scores = mutual_info_classif(X, y, discrete_features=discretes)\n",
    "    mi_scores = pd.Series(mi_scores, name=\"MI Scores\", index=X.columns)\n",
    "    mi_scores = mi_scores.sort_values(ascending=False)\n",
    "    return mi_scores"
   ]
  },
  {
   "cell_type": "code",
   "execution_count": 17,
   "metadata": {},
   "outputs": [
    {
     "data": {
      "text/plain": [
       "D_77    0.225445\n",
       "P_2     0.212416\n",
       "D_48    0.175219\n",
       "D_61    0.160059\n",
       "B_17    0.149822\n",
       "D_44    0.145830\n",
       "D_62    0.145747\n",
       "B_9     0.140629\n",
       "D_75    0.140419\n",
       "B_18    0.139920\n",
       "Name: MI Scores, dtype: float64"
      ]
     },
     "execution_count": 17,
     "metadata": {},
     "output_type": "execute_result"
    }
   ],
   "source": [
    "imputed_y = get_y(imputed.index)\n",
    "mi_scores = make_mi_scores(imputed.drop('S_2', axis=1), imputed_y, discretes.drop('S_2'))\n",
    "mi_scores.head(10)"
   ]
  },
  {
   "cell_type": "markdown",
   "metadata": {},
   "source": [
    "relatively uninformative:"
   ]
  },
  {
   "cell_type": "code",
   "execution_count": 18,
   "metadata": {},
   "outputs": [
    {
     "data": {
      "text/plain": [
       "R_23     0.000007\n",
       "S_18     0.000000\n",
       "D_109    0.000000\n",
       "D_96     0.000000\n",
       "R_18     0.000000\n",
       "Name: MI Scores, dtype: float64"
      ]
     },
     "execution_count": 18,
     "metadata": {},
     "output_type": "execute_result"
    }
   ],
   "source": [
    "mi_scores.tail(5)"
   ]
  },
  {
   "cell_type": "markdown",
   "metadata": {},
   "source": [
    "discrete features:"
   ]
  },
  {
   "cell_type": "code",
   "execution_count": 19,
   "metadata": {},
   "outputs": [
    {
     "data": {
      "text/plain": [
       "D_64    0.019079\n",
       "D_63    0.003451\n",
       "B_31    0.001955\n",
       "Name: MI Scores, dtype: float64"
      ]
     },
     "execution_count": 19,
     "metadata": {},
     "output_type": "execute_result"
    }
   ],
   "source": [
    "mi_scores.loc[discretes]"
   ]
  },
  {
   "cell_type": "code",
   "execution_count": 20,
   "metadata": {},
   "outputs": [],
   "source": [
    "# Histograms of the top 20 mi scores: \n",
    "# features[mi_scores.head(20).index].hist(bins=20, figsize=(21, 14))"
   ]
  },
  {
   "cell_type": "markdown",
   "metadata": {},
   "source": [
    "#### Principal Components: "
   ]
  },
  {
   "cell_type": "code",
   "execution_count": 21,
   "metadata": {},
   "outputs": [],
   "source": [
    "from sklearn.decomposition import PCA\n",
    "\n",
    "def make_pca(pca_features):\n",
    "    pca_scaled = (pca_features - pca_features.mean(axis=0)) / pca_features.std(axis=0)\n",
    "\n",
    "    pca = PCA()\n",
    "    X_pca = pca.fit_transform(pca_features)\n",
    "\n",
    "    column_names = [f'PC{i+1}' for i in range(X_pca.shape[1])]\n",
    "    X_pca = pd.DataFrame(X_pca, columns = column_names)\n",
    "\n",
    "    return pca, X_pca\n",
    "\n",
    "floats = (imputed.dtypes == 'float64')\n",
    "pca_cnames = floats.loc[floats == True].index\n",
    "# pca_cnames = ['B_16', 'B_32', 'D_65', 'D_77', 'P_2']\n",
    "pca_features = imputed.loc[:, pca_cnames]\n",
    "pca, X_pca = make_pca(pca_features)"
   ]
  },
  {
   "cell_type": "code",
   "execution_count": 22,
   "metadata": {},
   "outputs": [
    {
     "data": {
      "text/plain": [
       "PC2    0.167977\n",
       "PC3    0.155520\n",
       "PC5    0.138809\n",
       "PC1    0.131831\n",
       "PC4    0.114340\n",
       "Name: MI Scores, dtype: float64"
      ]
     },
     "execution_count": 22,
     "metadata": {},
     "output_type": "execute_result"
    }
   ],
   "source": [
    "pca_mi = make_mi_scores(X_pca, imputed_y, False)\n",
    "pca_mi.head(5)"
   ]
  },
  {
   "cell_type": "markdown",
   "metadata": {},
   "source": [
    "Above indicates that the principal component axes are not as informative as the features themselves, which might be because there are no better alternative representation of the data than the original features."
   ]
  },
  {
   "cell_type": "code",
   "execution_count": 23,
   "metadata": {},
   "outputs": [
    {
     "data": {
      "text/html": [
       "<div>\n",
       "<style scoped>\n",
       "    .dataframe tbody tr th:only-of-type {\n",
       "        vertical-align: middle;\n",
       "    }\n",
       "\n",
       "    .dataframe tbody tr th {\n",
       "        vertical-align: top;\n",
       "    }\n",
       "\n",
       "    .dataframe thead th {\n",
       "        text-align: right;\n",
       "    }\n",
       "</style>\n",
       "<table border=\"1\" class=\"dataframe\">\n",
       "  <thead>\n",
       "    <tr style=\"text-align: right;\">\n",
       "      <th></th>\n",
       "      <th>PC1</th>\n",
       "      <th>PC2</th>\n",
       "      <th>PC3</th>\n",
       "      <th>PC4</th>\n",
       "      <th>PC5</th>\n",
       "      <th>PC6</th>\n",
       "      <th>PC7</th>\n",
       "      <th>PC8</th>\n",
       "      <th>PC9</th>\n",
       "      <th>PC10</th>\n",
       "      <th>...</th>\n",
       "      <th>PC176</th>\n",
       "      <th>PC177</th>\n",
       "      <th>PC178</th>\n",
       "      <th>PC179</th>\n",
       "      <th>PC180</th>\n",
       "      <th>PC181</th>\n",
       "      <th>PC182</th>\n",
       "      <th>PC183</th>\n",
       "      <th>PC184</th>\n",
       "      <th>PC185</th>\n",
       "    </tr>\n",
       "  </thead>\n",
       "  <tbody>\n",
       "    <tr>\n",
       "      <th>P_2</th>\n",
       "      <td>0.000296</td>\n",
       "      <td>-0.004905</td>\n",
       "      <td>-0.013600</td>\n",
       "      <td>0.029331</td>\n",
       "      <td>-0.029722</td>\n",
       "      <td>-0.017754</td>\n",
       "      <td>0.063560</td>\n",
       "      <td>0.001619</td>\n",
       "      <td>-0.032743</td>\n",
       "      <td>-0.057510</td>\n",
       "      <td>...</td>\n",
       "      <td>-0.000592</td>\n",
       "      <td>-0.000712</td>\n",
       "      <td>-0.001054</td>\n",
       "      <td>0.000072</td>\n",
       "      <td>-0.000664</td>\n",
       "      <td>0.000152</td>\n",
       "      <td>-0.000140</td>\n",
       "      <td>-0.000164</td>\n",
       "      <td>-0.000064</td>\n",
       "      <td>-0.000000e+00</td>\n",
       "    </tr>\n",
       "    <tr>\n",
       "      <th>D_39</th>\n",
       "      <td>-0.000199</td>\n",
       "      <td>0.001505</td>\n",
       "      <td>0.005591</td>\n",
       "      <td>-0.004144</td>\n",
       "      <td>0.020799</td>\n",
       "      <td>0.023364</td>\n",
       "      <td>-0.019937</td>\n",
       "      <td>0.001781</td>\n",
       "      <td>-0.007330</td>\n",
       "      <td>-0.048633</td>\n",
       "      <td>...</td>\n",
       "      <td>-0.000278</td>\n",
       "      <td>-0.001949</td>\n",
       "      <td>0.000101</td>\n",
       "      <td>0.000040</td>\n",
       "      <td>-0.000051</td>\n",
       "      <td>0.000065</td>\n",
       "      <td>-0.000069</td>\n",
       "      <td>0.000027</td>\n",
       "      <td>0.000068</td>\n",
       "      <td>1.463927e-18</td>\n",
       "    </tr>\n",
       "    <tr>\n",
       "      <th>B_1</th>\n",
       "      <td>-0.000287</td>\n",
       "      <td>0.000981</td>\n",
       "      <td>0.009333</td>\n",
       "      <td>-0.016605</td>\n",
       "      <td>0.022780</td>\n",
       "      <td>0.017451</td>\n",
       "      <td>-0.064635</td>\n",
       "      <td>-0.013176</td>\n",
       "      <td>-0.015857</td>\n",
       "      <td>0.005405</td>\n",
       "      <td>...</td>\n",
       "      <td>0.086873</td>\n",
       "      <td>0.638114</td>\n",
       "      <td>-0.001885</td>\n",
       "      <td>0.002510</td>\n",
       "      <td>0.000621</td>\n",
       "      <td>-0.000318</td>\n",
       "      <td>-0.000482</td>\n",
       "      <td>0.001452</td>\n",
       "      <td>-0.000717</td>\n",
       "      <td>-4.885071e-16</td>\n",
       "    </tr>\n",
       "    <tr>\n",
       "      <th>B_2</th>\n",
       "      <td>0.000748</td>\n",
       "      <td>-0.003225</td>\n",
       "      <td>-0.021510</td>\n",
       "      <td>0.043722</td>\n",
       "      <td>-0.055609</td>\n",
       "      <td>-0.045751</td>\n",
       "      <td>0.139457</td>\n",
       "      <td>0.027727</td>\n",
       "      <td>0.024414</td>\n",
       "      <td>-0.071891</td>\n",
       "      <td>...</td>\n",
       "      <td>0.000726</td>\n",
       "      <td>0.004494</td>\n",
       "      <td>0.000132</td>\n",
       "      <td>0.000523</td>\n",
       "      <td>-0.000266</td>\n",
       "      <td>0.000072</td>\n",
       "      <td>-0.000244</td>\n",
       "      <td>-0.000074</td>\n",
       "      <td>-0.000022</td>\n",
       "      <td>-2.950775e-17</td>\n",
       "    </tr>\n",
       "    <tr>\n",
       "      <th>R_1</th>\n",
       "      <td>-0.000185</td>\n",
       "      <td>0.006376</td>\n",
       "      <td>0.004856</td>\n",
       "      <td>-0.014275</td>\n",
       "      <td>0.016440</td>\n",
       "      <td>0.011899</td>\n",
       "      <td>-0.037282</td>\n",
       "      <td>0.025234</td>\n",
       "      <td>0.009621</td>\n",
       "      <td>0.029470</td>\n",
       "      <td>...</td>\n",
       "      <td>0.001012</td>\n",
       "      <td>-0.000348</td>\n",
       "      <td>0.000384</td>\n",
       "      <td>0.000120</td>\n",
       "      <td>0.000429</td>\n",
       "      <td>0.000119</td>\n",
       "      <td>0.000242</td>\n",
       "      <td>-0.000327</td>\n",
       "      <td>-0.000152</td>\n",
       "      <td>-4.875609e-18</td>\n",
       "    </tr>\n",
       "  </tbody>\n",
       "</table>\n",
       "<p>5 rows × 185 columns</p>\n",
       "</div>"
      ],
      "text/plain": [
       "           PC1       PC2       PC3       PC4       PC5       PC6       PC7  \\\n",
       "P_2   0.000296 -0.004905 -0.013600  0.029331 -0.029722 -0.017754  0.063560   \n",
       "D_39 -0.000199  0.001505  0.005591 -0.004144  0.020799  0.023364 -0.019937   \n",
       "B_1  -0.000287  0.000981  0.009333 -0.016605  0.022780  0.017451 -0.064635   \n",
       "B_2   0.000748 -0.003225 -0.021510  0.043722 -0.055609 -0.045751  0.139457   \n",
       "R_1  -0.000185  0.006376  0.004856 -0.014275  0.016440  0.011899 -0.037282   \n",
       "\n",
       "           PC8       PC9      PC10  ...     PC176     PC177     PC178  \\\n",
       "P_2   0.001619 -0.032743 -0.057510  ... -0.000592 -0.000712 -0.001054   \n",
       "D_39  0.001781 -0.007330 -0.048633  ... -0.000278 -0.001949  0.000101   \n",
       "B_1  -0.013176 -0.015857  0.005405  ...  0.086873  0.638114 -0.001885   \n",
       "B_2   0.027727  0.024414 -0.071891  ...  0.000726  0.004494  0.000132   \n",
       "R_1   0.025234  0.009621  0.029470  ...  0.001012 -0.000348  0.000384   \n",
       "\n",
       "         PC179     PC180     PC181     PC182     PC183     PC184         PC185  \n",
       "P_2   0.000072 -0.000664  0.000152 -0.000140 -0.000164 -0.000064 -0.000000e+00  \n",
       "D_39  0.000040 -0.000051  0.000065 -0.000069  0.000027  0.000068  1.463927e-18  \n",
       "B_1   0.002510  0.000621 -0.000318 -0.000482  0.001452 -0.000717 -4.885071e-16  \n",
       "B_2   0.000523 -0.000266  0.000072 -0.000244 -0.000074 -0.000022 -2.950775e-17  \n",
       "R_1   0.000120  0.000429  0.000119  0.000242 -0.000327 -0.000152 -4.875609e-18  \n",
       "\n",
       "[5 rows x 185 columns]"
      ]
     },
     "execution_count": 23,
     "metadata": {},
     "output_type": "execute_result"
    }
   ],
   "source": [
    "components = pd.DataFrame(pca.components_.T, columns = X_pca.columns, index = pca_features.columns)\n",
    "components.head()"
   ]
  },
  {
   "cell_type": "code",
   "execution_count": 24,
   "metadata": {},
   "outputs": [
    {
     "data": {
      "text/plain": [
       "array([<AxesSubplot:title={'center':'% Explained Variance'}, xlabel='Component'>,\n",
       "       <AxesSubplot:title={'center':'% Cumulative Variance'}, xlabel='Component'>],\n",
       "      dtype=object)"
      ]
     },
     "execution_count": 24,
     "metadata": {},
     "output_type": "execute_result"
    },
    {
     "data": {
      "image/png": "[encoded data removed]",
      "text/plain": [
       "<Figure size 7200x1200 with 2 Axes>"
      ]
     },
     "metadata": {
      "needs_background": "light"
     },
     "output_type": "display_data"
    }
   ],
   "source": [
    "import matplotlib.pyplot as plt\n",
    "\n",
    "def plot_variance(pca, width=8, dpi=100):\n",
    "    # Create figure\n",
    "    fig, axs = plt.subplots(1, 2)\n",
    "    n = pca.n_components_\n",
    "    grid = np.arange(1, n + 1)\n",
    "    # Explained variance\n",
    "    evr = pca.explained_variance_ratio_\n",
    "    axs[0].bar(grid, evr)\n",
    "    axs[0].set(\n",
    "        xlabel=\"Component\", title=\"% Explained Variance\", ylim=(0.0, 1.0)\n",
    "    )\n",
    "    # Cumulative Variance\n",
    "    cv = np.cumsum(evr)\n",
    "    axs[1].plot(np.r_[0, grid], np.r_[0, cv], \"o-\")\n",
    "    axs[1].set(\n",
    "        xlabel=\"Component\", title=\"% Cumulative Variance\", ylim=(0.0, 1.0)\n",
    "    )\n",
    "    # Set up figure\n",
    "    fig.set(figwidth=width, dpi=dpi)\n",
    "    return axs\n",
    "\n",
    "plot_variance(pca, 24, 300)"
   ]
  },
  {
   "cell_type": "markdown",
   "metadata": {},
   "source": [
    "% explained variance tapers off before component 25"
   ]
  },
  {
   "cell_type": "markdown",
   "metadata": {},
   "source": [
    "Check for features with strong correlations with each other:"
   ]
  },
  {
   "cell_type": "code",
   "execution_count": 25,
   "metadata": {},
   "outputs": [
    {
     "data": {
      "text/plain": [
       "0.006578947368421052"
      ]
     },
     "execution_count": 25,
     "metadata": {},
     "output_type": "execute_result"
    }
   ],
   "source": [
    "# a baseline for looking at PCA component values\n",
    "baseline = 1/152\n",
    "baseline"
   ]
  },
  {
   "cell_type": "code",
   "execution_count": 26,
   "metadata": {},
   "outputs": [
    {
     "data": {
      "text/html": [
       "<div>\n",
       "<style scoped>\n",
       "    .dataframe tbody tr th:only-of-type {\n",
       "        vertical-align: middle;\n",
       "    }\n",
       "\n",
       "    .dataframe tbody tr th {\n",
       "        vertical-align: top;\n",
       "    }\n",
       "\n",
       "    .dataframe thead th {\n",
       "        text-align: right;\n",
       "    }\n",
       "</style>\n",
       "<table border=\"1\" class=\"dataframe\">\n",
       "  <thead>\n",
       "    <tr style=\"text-align: right;\">\n",
       "      <th></th>\n",
       "      <th>PC1</th>\n",
       "      <th>PC2</th>\n",
       "      <th>PC3</th>\n",
       "      <th>PC4</th>\n",
       "      <th>PC5</th>\n",
       "      <th>PC6</th>\n",
       "      <th>PC7</th>\n",
       "      <th>PC8</th>\n",
       "      <th>PC9</th>\n",
       "      <th>PC10</th>\n",
       "      <th>...</th>\n",
       "      <th>PC16</th>\n",
       "      <th>PC17</th>\n",
       "      <th>PC18</th>\n",
       "      <th>PC19</th>\n",
       "      <th>PC20</th>\n",
       "      <th>PC21</th>\n",
       "      <th>PC22</th>\n",
       "      <th>PC23</th>\n",
       "      <th>PC24</th>\n",
       "      <th>PC25</th>\n",
       "    </tr>\n",
       "  </thead>\n",
       "  <tbody>\n",
       "    <tr>\n",
       "      <th>P_2</th>\n",
       "      <td>&lt;NA&gt;</td>\n",
       "      <td>&lt;NA&gt;</td>\n",
       "      <td>-0.0136</td>\n",
       "      <td>0.029331</td>\n",
       "      <td>-0.029722</td>\n",
       "      <td>-0.017754</td>\n",
       "      <td>0.06356</td>\n",
       "      <td>&lt;NA&gt;</td>\n",
       "      <td>-0.032743</td>\n",
       "      <td>-0.05751</td>\n",
       "      <td>...</td>\n",
       "      <td>-0.055861</td>\n",
       "      <td>0.0125</td>\n",
       "      <td>&lt;NA&gt;</td>\n",
       "      <td>-0.024446</td>\n",
       "      <td>0.047897</td>\n",
       "      <td>0.034443</td>\n",
       "      <td>0.019517</td>\n",
       "      <td>0.033109</td>\n",
       "      <td>-0.0632</td>\n",
       "      <td>0.022247</td>\n",
       "    </tr>\n",
       "    <tr>\n",
       "      <th>D_39</th>\n",
       "      <td>&lt;NA&gt;</td>\n",
       "      <td>&lt;NA&gt;</td>\n",
       "      <td>&lt;NA&gt;</td>\n",
       "      <td>&lt;NA&gt;</td>\n",
       "      <td>0.020799</td>\n",
       "      <td>0.023364</td>\n",
       "      <td>-0.019937</td>\n",
       "      <td>&lt;NA&gt;</td>\n",
       "      <td>-0.00733</td>\n",
       "      <td>-0.048633</td>\n",
       "      <td>...</td>\n",
       "      <td>0.083284</td>\n",
       "      <td>0.007925</td>\n",
       "      <td>-0.029947</td>\n",
       "      <td>-0.008961</td>\n",
       "      <td>0.017211</td>\n",
       "      <td>-0.011563</td>\n",
       "      <td>-0.037697</td>\n",
       "      <td>0.073702</td>\n",
       "      <td>0.177627</td>\n",
       "      <td>&lt;NA&gt;</td>\n",
       "    </tr>\n",
       "    <tr>\n",
       "      <th>B_1</th>\n",
       "      <td>&lt;NA&gt;</td>\n",
       "      <td>&lt;NA&gt;</td>\n",
       "      <td>0.009333</td>\n",
       "      <td>-0.016605</td>\n",
       "      <td>0.02278</td>\n",
       "      <td>0.017451</td>\n",
       "      <td>-0.064635</td>\n",
       "      <td>-0.013176</td>\n",
       "      <td>-0.015857</td>\n",
       "      <td>&lt;NA&gt;</td>\n",
       "      <td>...</td>\n",
       "      <td>-0.018916</td>\n",
       "      <td>0.086301</td>\n",
       "      <td>0.011183</td>\n",
       "      <td>0.027509</td>\n",
       "      <td>0.083303</td>\n",
       "      <td>&lt;NA&gt;</td>\n",
       "      <td>-0.088864</td>\n",
       "      <td>0.055113</td>\n",
       "      <td>-0.11382</td>\n",
       "      <td>0.090486</td>\n",
       "    </tr>\n",
       "    <tr>\n",
       "      <th>B_2</th>\n",
       "      <td>&lt;NA&gt;</td>\n",
       "      <td>&lt;NA&gt;</td>\n",
       "      <td>-0.02151</td>\n",
       "      <td>0.043722</td>\n",
       "      <td>-0.055609</td>\n",
       "      <td>-0.045751</td>\n",
       "      <td>0.139457</td>\n",
       "      <td>0.027727</td>\n",
       "      <td>0.024414</td>\n",
       "      <td>-0.071891</td>\n",
       "      <td>...</td>\n",
       "      <td>0.059183</td>\n",
       "      <td>-0.153168</td>\n",
       "      <td>-0.008839</td>\n",
       "      <td>-0.049235</td>\n",
       "      <td>-0.121246</td>\n",
       "      <td>&lt;NA&gt;</td>\n",
       "      <td>0.164014</td>\n",
       "      <td>-0.108434</td>\n",
       "      <td>-0.035009</td>\n",
       "      <td>0.095446</td>\n",
       "    </tr>\n",
       "    <tr>\n",
       "      <th>R_1</th>\n",
       "      <td>&lt;NA&gt;</td>\n",
       "      <td>&lt;NA&gt;</td>\n",
       "      <td>&lt;NA&gt;</td>\n",
       "      <td>-0.014275</td>\n",
       "      <td>0.01644</td>\n",
       "      <td>0.011899</td>\n",
       "      <td>-0.037282</td>\n",
       "      <td>0.025234</td>\n",
       "      <td>0.009621</td>\n",
       "      <td>0.02947</td>\n",
       "      <td>...</td>\n",
       "      <td>0.10324</td>\n",
       "      <td>-0.092265</td>\n",
       "      <td>-0.057396</td>\n",
       "      <td>0.023074</td>\n",
       "      <td>-0.012256</td>\n",
       "      <td>-0.025929</td>\n",
       "      <td>-0.00884</td>\n",
       "      <td>&lt;NA&gt;</td>\n",
       "      <td>0.016136</td>\n",
       "      <td>0.055741</td>\n",
       "    </tr>\n",
       "  </tbody>\n",
       "</table>\n",
       "<p>5 rows × 25 columns</p>\n",
       "</div>"
      ],
      "text/plain": [
       "       PC1   PC2       PC3       PC4       PC5       PC6       PC7       PC8  \\\n",
       "P_2   <NA>  <NA>   -0.0136  0.029331 -0.029722 -0.017754   0.06356      <NA>   \n",
       "D_39  <NA>  <NA>      <NA>      <NA>  0.020799  0.023364 -0.019937      <NA>   \n",
       "B_1   <NA>  <NA>  0.009333 -0.016605   0.02278  0.017451 -0.064635 -0.013176   \n",
       "B_2   <NA>  <NA>  -0.02151  0.043722 -0.055609 -0.045751  0.139457  0.027727   \n",
       "R_1   <NA>  <NA>      <NA> -0.014275   0.01644  0.011899 -0.037282  0.025234   \n",
       "\n",
       "           PC9      PC10  ...      PC16      PC17      PC18      PC19  \\\n",
       "P_2  -0.032743  -0.05751  ... -0.055861    0.0125      <NA> -0.024446   \n",
       "D_39  -0.00733 -0.048633  ...  0.083284  0.007925 -0.029947 -0.008961   \n",
       "B_1  -0.015857      <NA>  ... -0.018916  0.086301  0.011183  0.027509   \n",
       "B_2   0.024414 -0.071891  ...  0.059183 -0.153168 -0.008839 -0.049235   \n",
       "R_1   0.009621   0.02947  ...   0.10324 -0.092265 -0.057396  0.023074   \n",
       "\n",
       "          PC20      PC21      PC22      PC23      PC24      PC25  \n",
       "P_2   0.047897  0.034443  0.019517  0.033109   -0.0632  0.022247  \n",
       "D_39  0.017211 -0.011563 -0.037697  0.073702  0.177627      <NA>  \n",
       "B_1   0.083303      <NA> -0.088864  0.055113  -0.11382  0.090486  \n",
       "B_2  -0.121246      <NA>  0.164014 -0.108434 -0.035009  0.095446  \n",
       "R_1  -0.012256 -0.025929  -0.00884      <NA>  0.016136  0.055741  \n",
       "\n",
       "[5 rows x 25 columns]"
      ]
     },
     "execution_count": 26,
     "metadata": {},
     "output_type": "execute_result"
    }
   ],
   "source": [
    "selected_components = components[[f'PC{i}' for i in range(1, 26)]]\n",
    "corr_df = pd.DataFrame()\n",
    "for cname in selected_components.columns:\n",
    "    temp = []\n",
    "    for i in range(len(selected_components)):\n",
    "        val = selected_components[cname].iloc[i]\n",
    "        if -baseline > val or baseline < val:\n",
    "            temp.append(val)\n",
    "        else:\n",
    "            temp.append(pd.NA)\n",
    "    corr_df[cname] = temp\n",
    "\n",
    "corr_df.columns = selected_components.columns\n",
    "corr_df.index = selected_components.index\n",
    "corr_df.head()"
   ]
  },
  {
   "cell_type": "markdown",
   "metadata": {},
   "source": [
    "A few features with relatively significant correlation:"
   ]
  },
  {
   "cell_type": "code",
   "execution_count": 27,
   "metadata": {},
   "outputs": [
    {
     "data": {
      "text/plain": [
       "B_10    0.999988\n",
       "Name: PC1, dtype: object"
      ]
     },
     "execution_count": 27,
     "metadata": {},
     "output_type": "execute_result"
    }
   ],
   "source": [
    "corr_df.loc[corr_df['PC1'].notna(), 'PC1']"
   ]
  },
  {
   "cell_type": "code",
   "execution_count": 28,
   "metadata": {},
   "outputs": [
    {
     "data": {
      "text/plain": [
       "R_14    0.997014\n",
       "Name: PC2, dtype: object"
      ]
     },
     "execution_count": 28,
     "metadata": {},
     "output_type": "execute_result"
    }
   ],
   "source": [
    "corr_df.loc[(corr_df['PC2'].notna()) & (abs(corr_df['PC2']) > 0.1), 'PC2']"
   ]
  },
  {
   "cell_type": "code",
   "execution_count": 29,
   "metadata": {},
   "outputs": [
    {
     "data": {
      "text/plain": [
       "B_40    0.9916\n",
       "Name: PC3, dtype: object"
      ]
     },
     "execution_count": 29,
     "metadata": {},
     "output_type": "execute_result"
    }
   ],
   "source": [
    "corr_df.loc[(corr_df['PC3'].notna()) & (abs(corr_df['PC3']) > 0.1), 'PC3']"
   ]
  },
  {
   "cell_type": "code",
   "execution_count": 30,
   "metadata": {},
   "outputs": [
    {
     "data": {
      "text/plain": [
       "D_68     0.104158\n",
       "B_38    -0.165662\n",
       "D_117    0.959071\n",
       "Name: PC4, dtype: object"
      ]
     },
     "execution_count": 30,
     "metadata": {},
     "output_type": "execute_result"
    }
   ],
   "source": [
    "corr_df.loc[(corr_df['PC4'].notna()) & (abs(corr_df['PC4']) > 0.1), 'PC4']"
   ]
  },
  {
   "cell_type": "code",
   "execution_count": 31,
   "metadata": {},
   "outputs": [
    {
     "data": {
      "text/plain": [
       "D_69    0.869755\n",
       "B_26    0.358112\n",
       "B_38    0.243654\n",
       "Name: PC5, dtype: object"
      ]
     },
     "execution_count": 31,
     "metadata": {},
     "output_type": "execute_result"
    }
   ],
   "source": [
    "corr_df.loc[(corr_df['PC5'].notna()) & (abs(corr_df['PC5']) > 0.1), 'PC5']"
   ]
  },
  {
   "cell_type": "markdown",
   "metadata": {},
   "source": [
    "Seems like many of PCs are just reflective of the variations of one feature, so there isn't much correlation between the original features"
   ]
  },
  {
   "cell_type": "markdown",
   "metadata": {},
   "source": [
    "#### KMeans:"
   ]
  },
  {
   "cell_type": "code",
   "execution_count": 32,
   "metadata": {},
   "outputs": [
    {
     "data": {
      "text/plain": [
       "['B_33', 'D_135', 'D_137', 'R_2', 'D_127', 'D_114']"
      ]
     },
     "execution_count": 32,
     "metadata": {},
     "output_type": "execute_result"
    }
   ],
   "source": [
    "hi_mi = mi_scores.head(100).index\n",
    "\n",
    "cat_extend = binary_cols + ['D_63', 'D_64']\n",
    "f = hi_mi.isin(cat_extend)\n",
    "hi_mi_cats = []\n",
    "for i in range(len(hi_mi)):\n",
    "    if f[i]:\n",
    "        hi_mi_cats.append(hi_mi[i])\n",
    "hi_mi_cats"
   ]
  },
  {
   "cell_type": "markdown",
   "metadata": {},
   "source": [
    "Clustering on binary and categorical features:"
   ]
  },
  {
   "cell_type": "code",
   "execution_count": 33,
   "metadata": {},
   "outputs": [],
   "source": [
    "from sklearn.cluster import KMeans\n",
    "\n",
    "# kmeans_cnames = mi_scores.head(20).index\n",
    "# kmeans = KMeans(n_clusters=30, n_init=20, random_state=0) # 0.1959\n",
    "\n",
    "# kmeans_cnames = mi_scores.head(50).loc[mi_scores.isin(binary_cols)].index\n",
    "# kmeans = KMeans(n_clusters=30, n_init=20, random_state=0)\n",
    "\n",
    "# kmeans_cnames = mi_scores.head(50).loc[~mi_scores.isin(binary_cols)].index\n",
    "# kmeans = KMeans(n_clusters=20, n_init=20)\n",
    "\n",
    "kmeans_cnames = hi_mi_cats\n",
    "kmeans = KMeans(n_clusters=32, n_init=20, random_state=0)\n",
    "\n",
    "cluster = pd.DataFrame()\n",
    "cluster['Cluster'] = kmeans.fit_predict(imputed.loc[:, kmeans_cnames])\n",
    "cluster['Cluster'] = cluster['Cluster'].astype('category')"
   ]
  },
  {
   "cell_type": "code",
   "execution_count": 34,
   "metadata": {},
   "outputs": [
    {
     "data": {
      "text/plain": [
       "Cluster    0.145151\n",
       "Name: MI Scores, dtype: float64"
      ]
     },
     "execution_count": 34,
     "metadata": {},
     "output_type": "execute_result"
    }
   ],
   "source": [
    "cluster_mi_score = make_mi_scores(cluster, imputed_y, [True])\n",
    "cluster_mi_score.head()"
   ]
  },
  {
   "cell_type": "code",
   "execution_count": 35,
   "metadata": {},
   "outputs": [],
   "source": [
    "s1_clustered = sample1.copy()\n",
    "s1_clustered['cluster'] = cluster['Cluster']"
   ]
  },
  {
   "cell_type": "markdown",
   "metadata": {},
   "source": [
    "## Supervised learning"
   ]
  },
  {
   "cell_type": "markdown",
   "metadata": {},
   "source": [
    "#### Strategy:\n",
    "- for each customer, do linear regression on a select few features with time as independent variable (with as few basis vectors as possible to avoid increasing dimensions)\n",
    "- train an xgb classifier based on the coefficients from the linear model"
   ]
  },
  {
   "cell_type": "code",
   "execution_count": 36,
   "metadata": {},
   "outputs": [],
   "source": [
    "g = s1_clustered.groupby('customer_ID')\n",
    "X_train, X_test = s1_clustered[g.ngroup() <= 4000], s1_clustered[g.ngroup() > 4000]\n",
    "y_train, y_test = get_y(X_train.customer_ID), get_y(X_test.customer_ID)"
   ]
  },
  {
   "cell_type": "code",
   "execution_count": 37,
   "metadata": {},
   "outputs": [],
   "source": [
    "# a line plot of the features of 10 arbitrary customers\n",
    "\n",
    "# plotting = sample1.drop('customer_ID', axis=1).drop(mi_scores.tail(150).index, axis=1)\n",
    "# id_sample = sample1.customer_ID.sample(10)\n",
    "\n",
    "# for id in id_sample:\n",
    "#     sample1.set_index('S_2').drop(mi_scores.tail(180).index, axis=1).loc[sample1.set_index('S_2')['customer_ID'] == id].drop('customer_ID', axis=1).plot(subplots=True, layout=(9, 6), figsize=(30, 20))"
   ]
  },
  {
   "cell_type": "code",
   "execution_count": 38,
   "metadata": {},
   "outputs": [],
   "source": [
    "from sklearn.linear_model import LinearRegression\n",
    "from sklearn.preprocessing import MinMaxScaler\n",
    "\n",
    "NPOLY = 6\n",
    "\n",
    "class LinRegTransformer(BaseEstimator, TransformerMixin):\n",
    "    def __init__(self, ids, dates):\n",
    "        # Assuming the dates column is sorted from earlier to later for each customer_ID, and there are no missing values\n",
    "        self.ids = ids\n",
    "        self.dates = dates\n",
    "    def fit(self, X, y=None):\n",
    "        # X is the column modeled by linear regression\n",
    "        print(f'fitting {X.name}')\n",
    "        working = pd.concat([self.dates, X], axis=1).set_index(self.ids).set_axis(['time', 'encoded_col'], axis=1)\n",
    "        self.fitted_models = []\n",
    "        def fit_models(group):\n",
    "            scaler = MinMaxScaler(feature_range=(0, 1))\n",
    "            time = scaler.fit_transform((group['time'] - group['time'].iloc[0]).dt.days.values.reshape(-1, 1)).reshape(1, -1)[0]\n",
    "            regX = pd.DataFrame()\n",
    "            for i in range(NPOLY):\n",
    "                regX[f'poly{i}'] = time ** i\n",
    "            model = LinearRegression(fit_intercept=False, n_jobs=-1)\n",
    "            model.fit(regX, group['encoded_col'])\n",
    "            self.fitted_models.append(model)\n",
    "            if len(self.fitted_models) % 1000 == 0:\n",
    "                print(f'{len(self.fitted_models)}')\n",
    "        working.groupby(working.index).apply(fit_models)\n",
    "        print(f'fitted {X.name}')\n",
    "        return self\n",
    "    def transform(self, X, y=None):\n",
    "        print(f'transforming {X.name}')\n",
    "        uniques = self.ids.unique()\n",
    "        \n",
    "        # This sets up the shape of the dataframe\n",
    "        sample_coefs = self.fitted_models[0].coef_\n",
    "        ret = pd.DataFrame(columns=[f'{X.name}_coef{i}' for i in range(len(sample_coefs))])\n",
    "        for i in range(len(uniques)):\n",
    "            ret.loc[len(ret.index)] = self.fitted_models[i].coef_\n",
    "        print(f'transformed {X.name}')\n",
    "        return ret.set_index(uniques)"
   ]
  },
  {
   "cell_type": "code",
   "execution_count": 39,
   "metadata": {},
   "outputs": [
    {
     "data": {
      "text/plain": [
       "['D_77', 'P_2', 'D_48', 'D_61', 'B_17', 'D_44', 'D_62', 'B_9', 'D_75', 'B_18']"
      ]
     },
     "execution_count": 39,
     "metadata": {},
     "output_type": "execute_result"
    }
   ],
   "source": [
    "list(mi_scores.head(10).index)"
   ]
  },
  {
   "cell_type": "code",
   "execution_count": 40,
   "metadata": {},
   "outputs": [],
   "source": [
    "class IDMeanTransformer(BaseEstimator, TransformerMixin):\n",
    "    def __init__(self, id_name = None):\n",
    "        self.id_name = id_name\n",
    "    def fit(self, X, y = None):\n",
    "        return self\n",
    "    def transform(self, X: pd.DataFrame, y = None):\n",
    "        transformed = X.groupby(X.index if self.id_name == None else self.id_name).apply(lambda df: df.mean())\n",
    "        return transformed"
   ]
  },
  {
   "cell_type": "code",
   "execution_count": 41,
   "metadata": {},
   "outputs": [
    {
     "name": "stdout",
     "output_type": "stream",
     "text": [
      "fitting D_77\n",
      "1000\n",
      "2000\n",
      "3000\n",
      "4000\n",
      "fitted D_77\n",
      "transforming D_77\n",
      "transformed D_77\n",
      "fitting P_2\n",
      "1000\n",
      "2000\n",
      "3000\n",
      "4000\n",
      "fitted P_2\n",
      "transforming P_2\n",
      "transformed P_2\n",
      "fitting D_48\n",
      "1000\n",
      "2000\n",
      "3000\n",
      "4000\n",
      "fitted D_48\n",
      "transforming D_48\n",
      "transformed D_48\n",
      "fitting D_61\n",
      "1000\n",
      "2000\n",
      "3000\n",
      "4000\n",
      "fitted D_61\n",
      "transforming D_61\n",
      "transformed D_61\n",
      "fitting B_17\n",
      "1000\n",
      "2000\n",
      "3000\n",
      "4000\n",
      "fitted B_17\n",
      "transforming B_17\n",
      "transformed B_17\n",
      "fitting D_62\n",
      "1000\n",
      "2000\n",
      "3000\n",
      "4000\n",
      "fitted D_62\n",
      "transforming D_62\n",
      "transformed D_62\n",
      "fitting D_44\n",
      "1000\n",
      "2000\n",
      "3000\n",
      "4000\n",
      "fitted D_44\n",
      "transforming D_44\n",
      "transformed D_44\n",
      "fitting B_9\n",
      "1000\n",
      "2000\n",
      "3000\n",
      "4000\n",
      "fitted B_9\n",
      "transforming B_9\n",
      "transformed B_9\n",
      "fitting D_75\n",
      "1000\n",
      "2000\n",
      "3000\n",
      "4000\n",
      "fitted D_75\n",
      "transforming D_75\n",
      "transformed D_75\n",
      "fitting B_18\n",
      "1000\n",
      "2000\n",
      "3000\n",
      "4000\n",
      "fitted B_18\n",
      "transforming B_18\n",
      "transformed B_18\n",
      "4001\n"
     ]
    },
    {
     "data": {
      "text/html": [
       "<div>\n",
       "<style scoped>\n",
       "    .dataframe tbody tr th:only-of-type {\n",
       "        vertical-align: middle;\n",
       "    }\n",
       "\n",
       "    .dataframe tbody tr th {\n",
       "        vertical-align: top;\n",
       "    }\n",
       "\n",
       "    .dataframe thead th {\n",
       "        text-align: right;\n",
       "    }\n",
       "</style>\n",
       "<table border=\"1\" class=\"dataframe\">\n",
       "  <thead>\n",
       "    <tr style=\"text-align: right;\">\n",
       "      <th></th>\n",
       "      <th>D_77_coef0</th>\n",
       "      <th>D_77_coef1</th>\n",
       "      <th>D_77_coef2</th>\n",
       "      <th>D_77_coef3</th>\n",
       "      <th>D_77_coef4</th>\n",
       "      <th>D_77_coef5</th>\n",
       "      <th>P_2_coef0</th>\n",
       "      <th>P_2_coef1</th>\n",
       "      <th>P_2_coef2</th>\n",
       "      <th>P_2_coef3</th>\n",
       "      <th>...</th>\n",
       "      <th>D_75_coef2</th>\n",
       "      <th>D_75_coef3</th>\n",
       "      <th>D_75_coef4</th>\n",
       "      <th>D_75_coef5</th>\n",
       "      <th>B_18_coef0</th>\n",
       "      <th>B_18_coef1</th>\n",
       "      <th>B_18_coef2</th>\n",
       "      <th>B_18_coef3</th>\n",
       "      <th>B_18_coef4</th>\n",
       "      <th>B_18_coef5</th>\n",
       "    </tr>\n",
       "    <tr>\n",
       "      <th>customer_ID</th>\n",
       "      <th></th>\n",
       "      <th></th>\n",
       "      <th></th>\n",
       "      <th></th>\n",
       "      <th></th>\n",
       "      <th></th>\n",
       "      <th></th>\n",
       "      <th></th>\n",
       "      <th></th>\n",
       "      <th></th>\n",
       "      <th></th>\n",
       "      <th></th>\n",
       "      <th></th>\n",
       "      <th></th>\n",
       "      <th></th>\n",
       "      <th></th>\n",
       "      <th></th>\n",
       "      <th></th>\n",
       "      <th></th>\n",
       "      <th></th>\n",
       "      <th></th>\n",
       "    </tr>\n",
       "  </thead>\n",
       "  <tbody>\n",
       "    <tr>\n",
       "      <th>001404030d4c78b76bf02e809387611bdf6b708a42c5890ecc057970b51bff87</th>\n",
       "      <td>0.099854</td>\n",
       "      <td>-6.455030e-01</td>\n",
       "      <td>7.964509e+00</td>\n",
       "      <td>-2.654349e+01</td>\n",
       "      <td>3.324584e+01</td>\n",
       "      <td>-1.400695e+01</td>\n",
       "      <td>0.517213</td>\n",
       "      <td>0.109553</td>\n",
       "      <td>5.484420</td>\n",
       "      <td>-24.429902</td>\n",
       "      <td>...</td>\n",
       "      <td>3.022416</td>\n",
       "      <td>-0.420657</td>\n",
       "      <td>-4.865804</td>\n",
       "      <td>3.211787</td>\n",
       "      <td>0.382337</td>\n",
       "      <td>1.081707</td>\n",
       "      <td>-0.750881</td>\n",
       "      <td>-16.669438</td>\n",
       "      <td>34.361619</td>\n",
       "      <td>-17.952845</td>\n",
       "    </tr>\n",
       "    <tr>\n",
       "      <th>001cdb20ffadc532a456ed4d8af7f8d6b9e1924dc867440d6b79e0eb6dd60739</th>\n",
       "      <td>0.257669</td>\n",
       "      <td>-5.588027e-15</td>\n",
       "      <td>2.727629e-14</td>\n",
       "      <td>-5.709672e-14</td>\n",
       "      <td>5.456354e-14</td>\n",
       "      <td>-1.906794e-14</td>\n",
       "      <td>0.572617</td>\n",
       "      <td>-0.129957</td>\n",
       "      <td>-0.444795</td>\n",
       "      <td>2.005602</td>\n",
       "      <td>...</td>\n",
       "      <td>-0.842185</td>\n",
       "      <td>2.036789</td>\n",
       "      <td>-2.065695</td>\n",
       "      <td>0.749494</td>\n",
       "      <td>0.200290</td>\n",
       "      <td>-0.195638</td>\n",
       "      <td>1.202447</td>\n",
       "      <td>-3.508111</td>\n",
       "      <td>4.104034</td>\n",
       "      <td>-1.646113</td>\n",
       "    </tr>\n",
       "    <tr>\n",
       "      <th>001f781c7913e962b9fcb8e7001663f0a31e0646b857f0f57643942de49d80a5</th>\n",
       "      <td>0.000360</td>\n",
       "      <td>4.524176e-20</td>\n",
       "      <td>-5.063770e-20</td>\n",
       "      <td>-1.018368e-19</td>\n",
       "      <td>-1.283303e-19</td>\n",
       "      <td>-1.416622e-19</td>\n",
       "      <td>0.486305</td>\n",
       "      <td>-0.665233</td>\n",
       "      <td>4.521698</td>\n",
       "      <td>-10.379118</td>\n",
       "      <td>...</td>\n",
       "      <td>-0.179751</td>\n",
       "      <td>0.963456</td>\n",
       "      <td>-1.457448</td>\n",
       "      <td>0.685116</td>\n",
       "      <td>0.653164</td>\n",
       "      <td>-0.069587</td>\n",
       "      <td>0.485865</td>\n",
       "      <td>-1.274313</td>\n",
       "      <td>1.397945</td>\n",
       "      <td>-0.547299</td>\n",
       "    </tr>\n",
       "    <tr>\n",
       "      <th>00252a52c9d997f25742e8d4e026cda5b1b94d33a850e3b2dd13de2609c31e6c</th>\n",
       "      <td>0.207383</td>\n",
       "      <td>-4.645048e-03</td>\n",
       "      <td>5.045317e-02</td>\n",
       "      <td>-1.590674e-01</td>\n",
       "      <td>1.922100e-01</td>\n",
       "      <td>-7.902887e-02</td>\n",
       "      <td>0.664267</td>\n",
       "      <td>0.563740</td>\n",
       "      <td>-5.424714</td>\n",
       "      <td>12.145251</td>\n",
       "      <td>...</td>\n",
       "      <td>-9.584659</td>\n",
       "      <td>24.366515</td>\n",
       "      <td>-23.539099</td>\n",
       "      <td>7.820017</td>\n",
       "      <td>0.496882</td>\n",
       "      <td>-0.739815</td>\n",
       "      <td>3.816269</td>\n",
       "      <td>-4.051755</td>\n",
       "      <td>-1.024839</td>\n",
       "      <td>1.521206</td>\n",
       "    </tr>\n",
       "    <tr>\n",
       "      <th>0045a4494de5cfcbd98839d3df2f28e30fad352a59c2d997cf23e5fabdad977b</th>\n",
       "      <td>0.443111</td>\n",
       "      <td>-3.074092e-02</td>\n",
       "      <td>1.463748e-01</td>\n",
       "      <td>-1.462141e-01</td>\n",
       "      <td>-6.883087e-02</td>\n",
       "      <td>1.023690e-01</td>\n",
       "      <td>0.840337</td>\n",
       "      <td>-0.445067</td>\n",
       "      <td>3.948602</td>\n",
       "      <td>-10.459174</td>\n",
       "      <td>...</td>\n",
       "      <td>-1.045893</td>\n",
       "      <td>2.544417</td>\n",
       "      <td>-2.631896</td>\n",
       "      <td>0.986508</td>\n",
       "      <td>1.003620</td>\n",
       "      <td>0.111820</td>\n",
       "      <td>-0.779481</td>\n",
       "      <td>1.921593</td>\n",
       "      <td>-1.992685</td>\n",
       "      <td>0.743682</td>\n",
       "    </tr>\n",
       "  </tbody>\n",
       "</table>\n",
       "<p>5 rows × 60 columns</p>\n",
       "</div>"
      ],
      "text/plain": [
       "                                                    D_77_coef0    D_77_coef1  \\\n",
       "customer_ID                                                                    \n",
       "001404030d4c78b76bf02e809387611bdf6b708a42c5890...    0.099854 -6.455030e-01   \n",
       "001cdb20ffadc532a456ed4d8af7f8d6b9e1924dc867440...    0.257669 -5.588027e-15   \n",
       "001f781c7913e962b9fcb8e7001663f0a31e0646b857f0f...    0.000360  4.524176e-20   \n",
       "00252a52c9d997f25742e8d4e026cda5b1b94d33a850e3b...    0.207383 -4.645048e-03   \n",
       "0045a4494de5cfcbd98839d3df2f28e30fad352a59c2d99...    0.443111 -3.074092e-02   \n",
       "\n",
       "                                                      D_77_coef2  \\\n",
       "customer_ID                                                        \n",
       "001404030d4c78b76bf02e809387611bdf6b708a42c5890...  7.964509e+00   \n",
       "001cdb20ffadc532a456ed4d8af7f8d6b9e1924dc867440...  2.727629e-14   \n",
       "001f781c7913e962b9fcb8e7001663f0a31e0646b857f0f... -5.063770e-20   \n",
       "00252a52c9d997f25742e8d4e026cda5b1b94d33a850e3b...  5.045317e-02   \n",
       "0045a4494de5cfcbd98839d3df2f28e30fad352a59c2d99...  1.463748e-01   \n",
       "\n",
       "                                                      D_77_coef3  \\\n",
       "customer_ID                                                        \n",
       "001404030d4c78b76bf02e809387611bdf6b708a42c5890... -2.654349e+01   \n",
       "001cdb20ffadc532a456ed4d8af7f8d6b9e1924dc867440... -5.709672e-14   \n",
       "001f781c7913e962b9fcb8e7001663f0a31e0646b857f0f... -1.018368e-19   \n",
       "00252a52c9d997f25742e8d4e026cda5b1b94d33a850e3b... -1.590674e-01   \n",
       "0045a4494de5cfcbd98839d3df2f28e30fad352a59c2d99... -1.462141e-01   \n",
       "\n",
       "                                                      D_77_coef4  \\\n",
       "customer_ID                                                        \n",
       "001404030d4c78b76bf02e809387611bdf6b708a42c5890...  3.324584e+01   \n",
       "001cdb20ffadc532a456ed4d8af7f8d6b9e1924dc867440...  5.456354e-14   \n",
       "001f781c7913e962b9fcb8e7001663f0a31e0646b857f0f... -1.283303e-19   \n",
       "00252a52c9d997f25742e8d4e026cda5b1b94d33a850e3b...  1.922100e-01   \n",
       "0045a4494de5cfcbd98839d3df2f28e30fad352a59c2d99... -6.883087e-02   \n",
       "\n",
       "                                                      D_77_coef5  P_2_coef0  \\\n",
       "customer_ID                                                                   \n",
       "001404030d4c78b76bf02e809387611bdf6b708a42c5890... -1.400695e+01   0.517213   \n",
       "001cdb20ffadc532a456ed4d8af7f8d6b9e1924dc867440... -1.906794e-14   0.572617   \n",
       "001f781c7913e962b9fcb8e7001663f0a31e0646b857f0f... -1.416622e-19   0.486305   \n",
       "00252a52c9d997f25742e8d4e026cda5b1b94d33a850e3b... -7.902887e-02   0.664267   \n",
       "0045a4494de5cfcbd98839d3df2f28e30fad352a59c2d99...  1.023690e-01   0.840337   \n",
       "\n",
       "                                                    P_2_coef1  P_2_coef2  \\\n",
       "customer_ID                                                                \n",
       "001404030d4c78b76bf02e809387611bdf6b708a42c5890...   0.109553   5.484420   \n",
       "001cdb20ffadc532a456ed4d8af7f8d6b9e1924dc867440...  -0.129957  -0.444795   \n",
       "001f781c7913e962b9fcb8e7001663f0a31e0646b857f0f...  -0.665233   4.521698   \n",
       "00252a52c9d997f25742e8d4e026cda5b1b94d33a850e3b...   0.563740  -5.424714   \n",
       "0045a4494de5cfcbd98839d3df2f28e30fad352a59c2d99...  -0.445067   3.948602   \n",
       "\n",
       "                                                    P_2_coef3  ...  \\\n",
       "customer_ID                                                    ...   \n",
       "001404030d4c78b76bf02e809387611bdf6b708a42c5890... -24.429902  ...   \n",
       "001cdb20ffadc532a456ed4d8af7f8d6b9e1924dc867440...   2.005602  ...   \n",
       "001f781c7913e962b9fcb8e7001663f0a31e0646b857f0f... -10.379118  ...   \n",
       "00252a52c9d997f25742e8d4e026cda5b1b94d33a850e3b...  12.145251  ...   \n",
       "0045a4494de5cfcbd98839d3df2f28e30fad352a59c2d99... -10.459174  ...   \n",
       "\n",
       "                                                    D_75_coef2  D_75_coef3  \\\n",
       "customer_ID                                                                  \n",
       "001404030d4c78b76bf02e809387611bdf6b708a42c5890...    3.022416   -0.420657   \n",
       "001cdb20ffadc532a456ed4d8af7f8d6b9e1924dc867440...   -0.842185    2.036789   \n",
       "001f781c7913e962b9fcb8e7001663f0a31e0646b857f0f...   -0.179751    0.963456   \n",
       "00252a52c9d997f25742e8d4e026cda5b1b94d33a850e3b...   -9.584659   24.366515   \n",
       "0045a4494de5cfcbd98839d3df2f28e30fad352a59c2d99...   -1.045893    2.544417   \n",
       "\n",
       "                                                    D_75_coef4  D_75_coef5  \\\n",
       "customer_ID                                                                  \n",
       "001404030d4c78b76bf02e809387611bdf6b708a42c5890...   -4.865804    3.211787   \n",
       "001cdb20ffadc532a456ed4d8af7f8d6b9e1924dc867440...   -2.065695    0.749494   \n",
       "001f781c7913e962b9fcb8e7001663f0a31e0646b857f0f...   -1.457448    0.685116   \n",
       "00252a52c9d997f25742e8d4e026cda5b1b94d33a850e3b...  -23.539099    7.820017   \n",
       "0045a4494de5cfcbd98839d3df2f28e30fad352a59c2d99...   -2.631896    0.986508   \n",
       "\n",
       "                                                    B_18_coef0  B_18_coef1  \\\n",
       "customer_ID                                                                  \n",
       "001404030d4c78b76bf02e809387611bdf6b708a42c5890...    0.382337    1.081707   \n",
       "001cdb20ffadc532a456ed4d8af7f8d6b9e1924dc867440...    0.200290   -0.195638   \n",
       "001f781c7913e962b9fcb8e7001663f0a31e0646b857f0f...    0.653164   -0.069587   \n",
       "00252a52c9d997f25742e8d4e026cda5b1b94d33a850e3b...    0.496882   -0.739815   \n",
       "0045a4494de5cfcbd98839d3df2f28e30fad352a59c2d99...    1.003620    0.111820   \n",
       "\n",
       "                                                    B_18_coef2  B_18_coef3  \\\n",
       "customer_ID                                                                  \n",
       "001404030d4c78b76bf02e809387611bdf6b708a42c5890...   -0.750881  -16.669438   \n",
       "001cdb20ffadc532a456ed4d8af7f8d6b9e1924dc867440...    1.202447   -3.508111   \n",
       "001f781c7913e962b9fcb8e7001663f0a31e0646b857f0f...    0.485865   -1.274313   \n",
       "00252a52c9d997f25742e8d4e026cda5b1b94d33a850e3b...    3.816269   -4.051755   \n",
       "0045a4494de5cfcbd98839d3df2f28e30fad352a59c2d99...   -0.779481    1.921593   \n",
       "\n",
       "                                                    B_18_coef4  B_18_coef5  \n",
       "customer_ID                                                                 \n",
       "001404030d4c78b76bf02e809387611bdf6b708a42c5890...   34.361619  -17.952845  \n",
       "001cdb20ffadc532a456ed4d8af7f8d6b9e1924dc867440...    4.104034   -1.646113  \n",
       "001f781c7913e962b9fcb8e7001663f0a31e0646b857f0f...    1.397945   -0.547299  \n",
       "00252a52c9d997f25742e8d4e026cda5b1b94d33a850e3b...   -1.024839    1.521206  \n",
       "0045a4494de5cfcbd98839d3df2f28e30fad352a59c2d99...   -1.992685    0.743682  \n",
       "\n",
       "[5 rows x 60 columns]"
      ]
     },
     "execution_count": 41,
     "metadata": {},
     "output_type": "execute_result"
    }
   ],
   "source": [
    "def preprocess_floats(data: pd.DataFrame):\n",
    "    # preprocess(data) is the preprocessed float columns\n",
    "    # data is the complete feature set with customer_ID as its index\n",
    "    float_cols = data.select_dtypes('float64')\n",
    "    imputer = FloatImputer()\n",
    "    float_cols = imputer.fit_transform(float_cols)\n",
    "    return float_cols\n",
    "\n",
    "def preprocess_cats(data: pd.DataFrame):\n",
    "    # preprocess(data) is the preprocessed categorical columns\n",
    "    # data is the complete feature set with customer_ID as its index\n",
    "    discrete_cols = data.select_dtypes(exclude='float64')\n",
    "    for cname in discrete_cols.columns:\n",
    "        discrete_cols[cname], _ = discrete_cols[cname].factorize()\n",
    "    return discrete_cols\n",
    "\n",
    "def preprocess(data: pd.DataFrame):\n",
    "    data = data.set_index('customer_ID')\n",
    "    selected_features = ['D_77', 'P_2', 'D_48', 'D_61', 'B_17', 'D_62', 'D_44', 'B_9', 'D_75', 'B_18']\n",
    "    selected_data = data[selected_features]\n",
    "\n",
    "    cats = preprocess_cats(selected_data)\n",
    "    floats = preprocess_floats(selected_data)\n",
    "\n",
    "    columns = [data[['S_2']], cats, floats]\n",
    "\n",
    "    return pd.concat(columns, axis=1)\n",
    "\n",
    "def encode(data: pd.DataFrame):\n",
    "    # assumes data was preprocessed\n",
    "    linreg = LinRegTransformer(data.index, data['S_2'])\n",
    "    floats = data.select_dtypes('float64')\n",
    "    cats = data.select_dtypes(['object', 'int64', 'category'])\n",
    "\n",
    "    columns = []\n",
    "    for cname in floats.columns:\n",
    "        regressed = linreg.fit_transform(floats[cname])\n",
    "        columns.append(regressed)\n",
    "\n",
    "    # mean encode the categoricals\n",
    "    folder = IDMeanTransformer()\n",
    "    for cname in cats.columns:\n",
    "        folded = folder.fit_transform(cats[cname])\n",
    "        columns.append(folded)\n",
    "    \n",
    "    return pd.concat(columns, axis=1)\n",
    "\n",
    "def preprocess_encode(data: pd.DataFrame):\n",
    "    data = data.set_index('customer_ID')\n",
    "    selected_features = ['D_77', 'P_2', 'D_48', 'D_61', 'B_17', 'D_62', 'D_44', 'B_9', 'D_75', 'B_18']\n",
    "    selected_data = data[selected_features]\n",
    "\n",
    "    cats = preprocess_cats(selected_data)\n",
    "    floats = preprocess_floats(selected_data)\n",
    "\n",
    "    # linear regression encode the floats\n",
    "    linreg = LinRegTransformer(data.index, data['S_2'])\n",
    "    columns = []\n",
    "    for cname in floats.columns:\n",
    "        regressed = linreg.fit_transform(floats[cname])\n",
    "        columns.append(regressed)\n",
    "\n",
    "    # mean encode the categoricals\n",
    "    folder = IDMeanTransformer()\n",
    "    for cname in cats.columns:\n",
    "        folded = folder.fit_transform(cats[cname])\n",
    "        columns.append(folded)\n",
    "    \n",
    "    return pd.concat(columns, axis=1)\n",
    "\n",
    "X_train_preprocessed = preprocess(X_train)\n",
    "X_train_input = encode(X_train_preprocessed)\n",
    "\n",
    "print(len(X_train_input))\n",
    "X_train_input.head()"
   ]
  },
  {
   "cell_type": "code",
   "execution_count": 42,
   "metadata": {},
   "outputs": [
    {
     "name": "stderr",
     "output_type": "stream",
     "text": [
      "d:\\Users\\jason\\Anaconda3\\lib\\site-packages\\xgboost\\compat.py:36: FutureWarning: pandas.Int64Index is deprecated and will be removed from pandas in a future version. Use pandas.Index with the appropriate dtype instead.\n",
      "  from pandas import MultiIndex, Int64Index\n",
      "d:\\Users\\jason\\Anaconda3\\lib\\site-packages\\xgboost\\sklearn.py:1224: UserWarning: The use of label encoder in XGBClassifier is deprecated and will be removed in a future release. To remove this warning, do the following: 1) Pass option use_label_encoder=False when constructing XGBClassifier object; and 2) Encode your labels (y) as integers starting with 0, i.e. 0, 1, 2, ..., [num_class - 1].\n",
      "  warnings.warn(label_encoder_deprecation_msg, UserWarning)\n",
      "d:\\Users\\jason\\Anaconda3\\lib\\site-packages\\xgboost\\data.py:262: FutureWarning: pandas.Int64Index is deprecated and will be removed from pandas in a future version. Use pandas.Index with the appropriate dtype instead.\n",
      "  elif isinstance(data.columns, (pd.Int64Index, pd.RangeIndex)):\n"
     ]
    },
    {
     "name": "stdout",
     "output_type": "stream",
     "text": [
      "[11:31:44] WARNING: C:/Users/Administrator/workspace/xgboost-win64_release_1.5.1/src/learner.cc:1115: Starting in XGBoost 1.3.0, the default evaluation metric used with the objective 'binary:logistic' was changed from 'error' to 'logloss'. Explicitly set eval_metric if you'd like to restore the old behavior.\n"
     ]
    },
    {
     "data": {
      "text/plain": [
       "XGBClassifier(base_score=0.5, booster='gbtree', colsample_bylevel=1,\n",
       "              colsample_bynode=1, colsample_bytree=1, enable_categorical=False,\n",
       "              gamma=0, gpu_id=-1, importance_type=None,\n",
       "              interaction_constraints='', learning_rate=0.300000012,\n",
       "              max_delta_step=0, max_depth=6, min_child_weight=1, missing=nan,\n",
       "              monotone_constraints='()', n_estimators=100, n_jobs=16,\n",
       "              num_parallel_tree=1, predictor='auto', random_state=0,\n",
       "              reg_alpha=0, reg_lambda=1, scale_pos_weight=1, subsample=1,\n",
       "              tree_method='exact', validate_parameters=1, verbosity=None)"
      ]
     },
     "execution_count": 42,
     "metadata": {},
     "output_type": "execute_result"
    }
   ],
   "source": [
    "from xgboost import XGBClassifier\n",
    "\n",
    "my_model = XGBClassifier()\n",
    "my_model.fit(X_train_input, get_y(X_train_input.index))"
   ]
  },
  {
   "cell_type": "code",
   "execution_count": 43,
   "metadata": {},
   "outputs": [
    {
     "name": "stdout",
     "output_type": "stream",
     "text": [
      "fitting D_77\n",
      "fitted D_77\n",
      "transforming D_77\n",
      "transformed D_77\n",
      "fitting P_2\n",
      "fitted P_2\n",
      "transforming P_2\n",
      "transformed P_2\n",
      "fitting D_48\n",
      "fitted D_48\n",
      "transforming D_48\n",
      "transformed D_48\n",
      "fitting D_61\n",
      "fitted D_61\n",
      "transforming D_61\n",
      "transformed D_61\n",
      "fitting B_17\n",
      "fitted B_17\n",
      "transforming B_17\n",
      "transformed B_17\n",
      "fitting D_62\n",
      "fitted D_62\n",
      "transforming D_62\n",
      "transformed D_62\n",
      "fitting D_44\n",
      "fitted D_44\n",
      "transforming D_44\n",
      "transformed D_44\n",
      "fitting B_9\n",
      "fitted B_9\n",
      "transforming B_9\n",
      "transformed B_9\n",
      "fitting D_75\n",
      "fitted D_75\n",
      "transforming D_75\n",
      "transformed D_75\n",
      "fitting B_18\n",
      "fitted B_18\n",
      "transforming B_18\n",
      "transformed B_18\n"
     ]
    },
    {
     "name": "stderr",
     "output_type": "stream",
     "text": [
      "d:\\Users\\jason\\Anaconda3\\lib\\site-packages\\xgboost\\data.py:262: FutureWarning: pandas.Int64Index is deprecated and will be removed from pandas in a future version. Use pandas.Index with the appropriate dtype instead.\n",
      "  elif isinstance(data.columns, (pd.Int64Index, pd.RangeIndex)):\n"
     ]
    },
    {
     "data": {
      "text/plain": [
       "True"
      ]
     },
     "execution_count": 43,
     "metadata": {},
     "output_type": "execute_result"
    }
   ],
   "source": [
    "X_test_input = preprocess_encode(X_test)\n",
    "predictions = my_model.predict(X_test_input)\n",
    "len(predictions) == len(X_test.customer_ID.unique())"
   ]
  },
  {
   "cell_type": "code",
   "execution_count": 44,
   "metadata": {},
   "outputs": [],
   "source": [
    "actual_y = get_y(X_test_input.index.unique())"
   ]
  },
  {
   "cell_type": "code",
   "execution_count": 45,
   "metadata": {},
   "outputs": [
    {
     "name": "stdout",
     "output_type": "stream",
     "text": [
      "Proportions correct: 0.8231292517006803\n",
      "Weighted proportion: 0.8844171510033995\n"
     ]
    }
   ],
   "source": [
    "def score(predictions, actual):\n",
    "    print(f'Proportions correct: {(predictions == actual).sum()/len(predictions)}')\n",
    "    \n",
    "    total_score = 0\n",
    "    actual_score = 0\n",
    "    for i in range(len(actual)):\n",
    "        if actual[i] == 0:\n",
    "            total_score += 20\n",
    "            actual_score += 20 if predictions[i] == actual[i] else 0\n",
    "        else:\n",
    "            total_score += 1\n",
    "            actual_score += 1 if predictions[i] == actual[i] else 0\n",
    "    print(f'Weighted proportion: {actual_score/total_score}')\n",
    "\n",
    "score(predictions, actual_y)"
   ]
  }
 ],
 "metadata": {
  "kernelspec": {
   "display_name": "Python 3.6.10 64-bit ('Anaconda3')",
   "language": "python",
   "name": "python3"
  },
  "language_info": {
   "codemirror_mode": {
    "name": "ipython",
    "version": 3
   },
   "file_extension": ".py",
   "mimetype": "text/x-python",
   "name": "python",
   "nbconvert_exporter": "python",
   "pygments_lexer": "ipython3",
   "version": "3.9.12"
  },
  "vscode": {
   "interpreter": {
    "hash": "b29a03d294a5d565629bd8b2edd35628de61f209b314f6bd67723ac72078aa8b"
   }
  }
 },
 "nbformat": 4,
 "nbformat_minor": 4
}
